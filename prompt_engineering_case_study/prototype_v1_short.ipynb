{
 "cells": [
  {
   "cell_type": "markdown",
   "metadata": {},
   "source": [
    "# First iteration\n",
    "\n",
    "With a shorter review"
   ]
  },
  {
   "cell_type": "code",
   "execution_count": 5,
   "metadata": {},
   "outputs": [],
   "source": [
    "import reviews._reviews02 as reviews02"
   ]
  },
  {
   "cell_type": "code",
   "execution_count": 6,
   "metadata": {},
   "outputs": [],
   "source": [
    "from langchain.vectorstores import Chroma\n",
    "from langchain.text_splitter import CharacterTextSplitter\n",
    "from langchain_community.document_loaders import TextLoader, DirectoryLoader\n",
    "from langchain_community.embeddings.sentence_transformer import (\n",
    "    SentenceTransformerEmbeddings,\n",
    ")\n",
    "\n",
    "# select a comment to test with\n",
    "review_text = reviews02.sample_01\n",
    "\n",
    "text_splitter = CharacterTextSplitter(chunk_size=1000, chunk_overlap=0)\n",
    "docs = text_splitter.create_documents([review_text], metadatas=[{\"source\":\"review_01\"}])\n",
    "\n",
    "embedding_func = SentenceTransformerEmbeddings(model_name=\"all-MiniLM-L6-v2\")\n",
    "\n",
    "db = Chroma.from_documents(docs, embedding_func)\n",
    "\n",
    "retriever = db.as_retriever(search_kwargs={\"k\": 5})"
   ]
  },
  {
   "cell_type": "code",
   "execution_count": 7,
   "metadata": {},
   "outputs": [],
   "source": [
    "from langchain_community.llms import Ollama\n",
    "\n",
    "llm = Ollama(model='llama2:7b-chat-q4_K_M', temperature=0.2)        # set to a lower temperature for more consistent results"
   ]
  },
  {
   "cell_type": "markdown",
   "metadata": {},
   "source": [
    "Single aspect"
   ]
  },
  {
   "cell_type": "code",
   "execution_count": 9,
   "metadata": {},
   "outputs": [
    {
     "name": "stderr",
     "output_type": "stream",
     "text": [
      "Number of requested results 5 is greater than number of elements in index 2, updating n_results = 2\n"
     ]
    },
    {
     "name": "stdout",
     "output_type": "stream",
     "text": [
      "Extract the the following aspect of the game from the reviews. Output a paragraph with less than 200 words. The aspect is: Gameplay\n"
     ]
    },
    {
     "name": "stderr",
     "output_type": "stream",
     "text": [
      "Number of requested results 5 is greater than number of elements in index 2, updating n_results = 2\n"
     ]
    },
    {
     "name": "stdout",
     "output_type": "stream",
     "text": [
      "'''\n",
      "\n",
      "NA. The reviews do not provide any information about the gameplay of the game.\n",
      "'''\n",
      "----------\n",
      "Sources\n",
      "poorly optimized, runs between 25 - 35 fps on both low and ultra settings. you ' d think that if ultra was 30 - 35 then low should be 60, but no. even with max settings game still looked odd after disabling up - scaling. a $ 70 title should run at 50 - 60 fps on the lowest settings minimum. and trying to optimize the settings to get better frames i have dumped to many hours into it to get a refund. so here i will sit and wait till they fix the performance.\n",
      "{'source': 'review_01'}\n",
      "----------\n",
      "poorly optimized, runs between 25 - 35 fps on both low and ultra settings. you ' d think that if ultra was 30 - 35 then low should be 60, but no. even with max settings game still looked odd after disabling up - scaling. a $ 70 title should run at 50 - 60 fps on the lowest settings minimum. and trying to optimize the settings to get better frames i have dumped to many hours into it to get a refund. so here i will sit and wait till they fix the performance.\n",
      "{'source': 'review_01'}\n",
      "----------\n",
      "--------------------\n",
      "Extract the the following aspect of the game from the reviews. Output a paragraph with less than 200 words. The aspect is: Sound\n"
     ]
    },
    {
     "name": "stderr",
     "output_type": "stream",
     "text": [
      "Number of requested results 5 is greater than number of elements in index 2, updating n_results = 2\n"
     ]
    },
    {
     "name": "stdout",
     "output_type": "stream",
     "text": [
      "'''\n",
      "\n",
      "NA. The reviews do not mention anything about the game's sound quality or audio features.\n",
      "'''\n",
      "----------\n",
      "Sources\n",
      "poorly optimized, runs between 25 - 35 fps on both low and ultra settings. you ' d think that if ultra was 30 - 35 then low should be 60, but no. even with max settings game still looked odd after disabling up - scaling. a $ 70 title should run at 50 - 60 fps on the lowest settings minimum. and trying to optimize the settings to get better frames i have dumped to many hours into it to get a refund. so here i will sit and wait till they fix the performance.\n",
      "{'source': 'review_01'}\n",
      "----------\n",
      "poorly optimized, runs between 25 - 35 fps on both low and ultra settings. you ' d think that if ultra was 30 - 35 then low should be 60, but no. even with max settings game still looked odd after disabling up - scaling. a $ 70 title should run at 50 - 60 fps on the lowest settings minimum. and trying to optimize the settings to get better frames i have dumped to many hours into it to get a refund. so here i will sit and wait till they fix the performance.\n",
      "{'source': 'review_01'}\n",
      "----------\n",
      "--------------------\n",
      "Extract the the following aspect of the game from the reviews. Output a paragraph with less than 200 words. The aspect is: Graphics\n"
     ]
    },
    {
     "name": "stderr",
     "output_type": "stream",
     "text": [
      "Number of requested results 5 is greater than number of elements in index 2, updating n_results = 2\n"
     ]
    },
    {
     "name": "stdout",
     "output_type": "stream",
     "text": [
      "'''\n",
      "\n",
      "The reviewers have mentioned that the game's graphics are poorly optimized and run at 25-35 frames per second on both low and ultra settings. They also mention that even with maximum settings, the game still looks odd after disabling upscaling. The reviewers expect a $70 title to run at 50-60 frames per second on the lowest settings minimum. Unfortunately, the game's performance is not meeting these expectations, and the reviewers have spent many hours trying to optimize the settings to improve the frame rate without success. Therefore, based on the reviews, the aspect of the game that can be extracted is Graphics.\n",
      "\n",
      "NA\n",
      "'''\n",
      "----------\n",
      "Sources\n",
      "poorly optimized, runs between 25 - 35 fps on both low and ultra settings. you ' d think that if ultra was 30 - 35 then low should be 60, but no. even with max settings game still looked odd after disabling up - scaling. a $ 70 title should run at 50 - 60 fps on the lowest settings minimum. and trying to optimize the settings to get better frames i have dumped to many hours into it to get a refund. so here i will sit and wait till they fix the performance.\n",
      "{'source': 'review_01'}\n",
      "----------\n",
      "poorly optimized, runs between 25 - 35 fps on both low and ultra settings. you ' d think that if ultra was 30 - 35 then low should be 60, but no. even with max settings game still looked odd after disabling up - scaling. a $ 70 title should run at 50 - 60 fps on the lowest settings minimum. and trying to optimize the settings to get better frames i have dumped to many hours into it to get a refund. so here i will sit and wait till they fix the performance.\n",
      "{'source': 'review_01'}\n",
      "----------\n",
      "--------------------\n",
      "Extract the the following aspect of the game from the reviews. Output a paragraph with less than 200 words. The aspect is: Performance\n"
     ]
    },
    {
     "name": "stderr",
     "output_type": "stream",
     "text": [
      "Number of requested results 5 is greater than number of elements in index 2, updating n_results = 2\n"
     ]
    },
    {
     "name": "stdout",
     "output_type": "stream",
     "text": [
      "'''\n",
      "\n",
      "The performance of the game is poorly optimized and runs between 25-35 frames per second on both low and ultra settings. The reviewer expects a $70 title to run at 50-60 fps on the lowest settings minimum, but the game does not meet this expectation. Despite trying to optimize the settings, the game still looks odd after disabling upscaling, and the reviewer has spent many hours into it without getting a refund. The reviewer is waiting for the performance to be fixed.\n",
      "\n",
      "NA\n",
      "'''\n",
      "----------\n",
      "Sources\n",
      "poorly optimized, runs between 25 - 35 fps on both low and ultra settings. you ' d think that if ultra was 30 - 35 then low should be 60, but no. even with max settings game still looked odd after disabling up - scaling. a $ 70 title should run at 50 - 60 fps on the lowest settings minimum. and trying to optimize the settings to get better frames i have dumped to many hours into it to get a refund. so here i will sit and wait till they fix the performance.\n",
      "{'source': 'review_01'}\n",
      "----------\n",
      "poorly optimized, runs between 25 - 35 fps on both low and ultra settings. you ' d think that if ultra was 30 - 35 then low should be 60, but no. even with max settings game still looked odd after disabling up - scaling. a $ 70 title should run at 50 - 60 fps on the lowest settings minimum. and trying to optimize the settings to get better frames i have dumped to many hours into it to get a refund. so here i will sit and wait till they fix the performance.\n",
      "{'source': 'review_01'}\n",
      "----------\n",
      "--------------------\n",
      "Extract the the following aspect of the game from the reviews. Output a paragraph with less than 200 words. The aspect is: Bug\n",
      "'''\n",
      "\n",
      "NA. The reviews do not mention any bugs or issues with the game.\n",
      "'''\n",
      "----------\n",
      "Sources\n",
      "poorly optimized, runs between 25 - 35 fps on both low and ultra settings. you ' d think that if ultra was 30 - 35 then low should be 60, but no. even with max settings game still looked odd after disabling up - scaling. a $ 70 title should run at 50 - 60 fps on the lowest settings minimum. and trying to optimize the settings to get better frames i have dumped to many hours into it to get a refund. so here i will sit and wait till they fix the performance.\n",
      "{'source': 'review_01'}\n",
      "----------\n",
      "poorly optimized, runs between 25 - 35 fps on both low and ultra settings. you ' d think that if ultra was 30 - 35 then low should be 60, but no. even with max settings game still looked odd after disabling up - scaling. a $ 70 title should run at 50 - 60 fps on the lowest settings minimum. and trying to optimize the settings to get better frames i have dumped to many hours into it to get a refund. so here i will sit and wait till they fix the performance.\n",
      "{'source': 'review_01'}\n",
      "----------\n",
      "--------------------\n",
      "Extract the the following aspect of the game from the reviews. Output a paragraph with less than 200 words. The aspect is: Suggestion\n"
     ]
    },
    {
     "name": "stderr",
     "output_type": "stream",
     "text": [
      "Number of requested results 5 is greater than number of elements in index 2, updating n_results = 2\n",
      "Number of requested results 5 is greater than number of elements in index 2, updating n_results = 2\n"
     ]
    },
    {
     "name": "stdout",
     "output_type": "stream",
     "text": [
      "'''\n",
      "\n",
      "Based on the two reviews provided, the suggestion for the game is as follows:\n",
      "\n",
      "The reviewers suggest that the game should run at a minimum of 50-60 fps on the lowest settings to be considered optimized. They also mention that disabling upscaling did not improve the game's performance and that they have spent too many hours into it to get a refund. Therefore, their suggestion is to wait for the developers to fix the performance issues before continuing to play the game.\n",
      "'''\n",
      "----------\n",
      "Sources\n",
      "poorly optimized, runs between 25 - 35 fps on both low and ultra settings. you ' d think that if ultra was 30 - 35 then low should be 60, but no. even with max settings game still looked odd after disabling up - scaling. a $ 70 title should run at 50 - 60 fps on the lowest settings minimum. and trying to optimize the settings to get better frames i have dumped to many hours into it to get a refund. so here i will sit and wait till they fix the performance.\n",
      "{'source': 'review_01'}\n",
      "----------\n",
      "poorly optimized, runs between 25 - 35 fps on both low and ultra settings. you ' d think that if ultra was 30 - 35 then low should be 60, but no. even with max settings game still looked odd after disabling up - scaling. a $ 70 title should run at 50 - 60 fps on the lowest settings minimum. and trying to optimize the settings to get better frames i have dumped to many hours into it to get a refund. so here i will sit and wait till they fix the performance.\n",
      "{'source': 'review_01'}\n",
      "----------\n",
      "--------------------\n",
      "Extract the the following aspect of the game from the reviews. Output a paragraph with less than 200 words. The aspect is: Price\n"
     ]
    },
    {
     "name": "stderr",
     "output_type": "stream",
     "text": [
      "Number of requested results 5 is greater than number of elements in index 2, updating n_results = 2\n"
     ]
    },
    {
     "name": "stdout",
     "output_type": "stream",
     "text": [
      "'''\n",
      "\n",
      "The price of the game is $70, according to both reviews. NA\n",
      "'''\n",
      "----------\n",
      "Sources\n",
      "poorly optimized, runs between 25 - 35 fps on both low and ultra settings. you ' d think that if ultra was 30 - 35 then low should be 60, but no. even with max settings game still looked odd after disabling up - scaling. a $ 70 title should run at 50 - 60 fps on the lowest settings minimum. and trying to optimize the settings to get better frames i have dumped to many hours into it to get a refund. so here i will sit and wait till they fix the performance.\n",
      "{'source': 'review_01'}\n",
      "----------\n",
      "poorly optimized, runs between 25 - 35 fps on both low and ultra settings. you ' d think that if ultra was 30 - 35 then low should be 60, but no. even with max settings game still looked odd after disabling up - scaling. a $ 70 title should run at 50 - 60 fps on the lowest settings minimum. and trying to optimize the settings to get better frames i have dumped to many hours into it to get a refund. so here i will sit and wait till they fix the performance.\n",
      "{'source': 'review_01'}\n",
      "----------\n",
      "--------------------\n",
      "Extract the the following aspect of the game from the reviews. Output a paragraph with less than 200 words. The aspect is: Overall\n",
      "'''\n",
      "\n",
      "Based on the two reviews provided, the overall aspect of the game that can be extracted is:\n",
      "\n",
      "The game is poorly optimized and runs at frame rates between 25-35 FPS on both low and ultra settings, which is below the minimum expected for a $70 title. The game's performance is inconsistent and looks odd even after disabling upscaling. Despite trying to optimize settings to improve frames, the reviewer has spent many hours into it without seeing any significant improvement. The reviewer is waiting for the performance issues to be fixed before continuing to play.\n",
      "\n",
      "NA\n",
      "'''\n",
      "----------\n",
      "Sources\n",
      "poorly optimized, runs between 25 - 35 fps on both low and ultra settings. you ' d think that if ultra was 30 - 35 then low should be 60, but no. even with max settings game still looked odd after disabling up - scaling. a $ 70 title should run at 50 - 60 fps on the lowest settings minimum. and trying to optimize the settings to get better frames i have dumped to many hours into it to get a refund. so here i will sit and wait till they fix the performance.\n",
      "{'source': 'review_01'}\n",
      "----------\n",
      "poorly optimized, runs between 25 - 35 fps on both low and ultra settings. you ' d think that if ultra was 30 - 35 then low should be 60, but no. even with max settings game still looked odd after disabling up - scaling. a $ 70 title should run at 50 - 60 fps on the lowest settings minimum. and trying to optimize the settings to get better frames i have dumped to many hours into it to get a refund. so here i will sit and wait till they fix the performance.\n",
      "{'source': 'review_01'}\n",
      "----------\n",
      "--------------------\n"
     ]
    }
   ],
   "source": [
    "from langchain.chains import RetrievalQAWithSourcesChain\n",
    "from langchain_core.prompts import PromptTemplate\n",
    "\n",
    "prompt_template = \\\n",
    "'''You are reading reviews of a game to understand the characteristics of the game. Use the following pieces of context to answer user's question. \n",
    "\n",
    "{summaries}\n",
    "\n",
    "Question: {question}\n",
    "\n",
    "If you don't know the answer, output only \"NA\". Do NOT try to make up an answer. Do NOT output other text.'''\n",
    "\n",
    "my_question_template = \\\n",
    "'''Extract the the following aspect of the game from the reviews. Output a paragraph with less than 200 words. The aspect is: '''\n",
    "\n",
    "aspects = ['Gameplay', 'Sound', 'Graphics', 'Performance', 'Bug', 'Suggestion', 'Price', 'Overall']\n",
    "aspects_response = {k: '' for k in aspects}\n",
    "\n",
    "for aspect in aspects:\n",
    "    my_question = my_question_template + f'{aspect}'\n",
    "    print(my_question)\n",
    "\n",
    "    chain =  RetrievalQAWithSourcesChain.from_chain_type(\n",
    "        llm=llm,\n",
    "        chain_type=\"stuff\",\n",
    "        retriever=retriever,\n",
    "        chain_type_kwargs={\n",
    "            \"prompt\": PromptTemplate(\n",
    "                template=prompt_template,\n",
    "                input_variables=[\"summaries\", \"question\"],\n",
    "            )\n",
    "        },\n",
    "        return_source_documents=True,\n",
    "    )\n",
    "\n",
    "    response = chain.invoke(\n",
    "        {\n",
    "            'question': my_question\n",
    "        }\n",
    "    )\n",
    "\n",
    "    print('\\'\\'\\'')\n",
    "    print(response['answer'])\n",
    "    print('\\'\\'\\'')\n",
    "    aspects_response[aspect] = response['answer']\n",
    "    print('-'*10)\n",
    "    print('Sources')\n",
    "    for doc in response['source_documents']:\n",
    "        print(doc.page_content)\n",
    "        print(doc.metadata)\n",
    "        print('-'*10)\n",
    "\n",
    "    print('-'*20)"
   ]
  },
  {
   "cell_type": "markdown",
   "metadata": {},
   "source": [
    "It's noted that fewer chunks will be produced in the in-memory vector database -> all aspects will have the same chunk to generate content.\n",
    "\n",
    "Keep that in mind, it gives us opportunity to adjust the way of splitting the text for storing in the vector database."
   ]
  },
  {
   "cell_type": "markdown",
   "metadata": {},
   "source": [
    "---"
   ]
  },
  {
   "cell_type": "markdown",
   "metadata": {},
   "source": [
    "Shorten the sentences and output as a JSON object"
   ]
  },
  {
   "cell_type": "code",
   "execution_count": 10,
   "metadata": {},
   "outputs": [
    {
     "name": "stdout",
     "output_type": "stream",
     "text": [
      "{\n",
      "\"Gameplay\": \"NA\",\n",
      "\"Graphics\": \"\\nThe game's graphics are poorly optimized and run at 25-35 frames per second on both low and ultra settings. The reviewer expects a $70 title to run at 50-60 frames per second on the lowest settings minimum, but the game does not meet this expectation.\",\n",
      "\"Sound\": \"NA\",\n",
      "\"Performance\": \"\\nThe performance of the game is poorly optimized and runs between 25-35 frames per second on both low and ultra settings. The reviewer expects a $70 title to run at 50-60 fps on the lowest settings minimum, but the game does not meet this expectation.\",\n",
      "\"Bug\": \"NA\",\n",
      "\"Suggestion\": \"\\nBased on the two reviews provided, the suggestion for the game is as follows:\\n\\nThe reviewers suggest that the game should run at a minimum of 50-60 fps on the lowest settings to be considered optimized. They also mention that disabling upscaling did not improve the game's performance and that they have spent too many hours into it to get a refund.\",\n",
      "\"Price\": \" $70\",\n",
      "\"Overall\": \"\\nBased on the two reviews provided, the overall aspect of the game that can be extracted is:\\n\\nThe game is poorly optimized and runs at frame rates between 25-35 FPS on both low and ultra settings, which is below the minimum expected for a $70 title. The game's performance is inconsistent and looks odd even after disabling upscaling. Despite trying to optimize settings to improve frames, the reviewer has spent many hours into it without seeing any significant improvement. The reviewer is waiting for the performance issues to be fixed before continuing to play.\"\n",
      "}\n"
     ]
    }
   ],
   "source": [
    "####################\n",
    "# Second Prompt\n",
    "####################\n",
    "\n",
    "from langchain_core.prompts import ChatPromptTemplate\n",
    "\n",
    "system_template = \\\n",
    "'''You are reading reviews of a game to understand the characteristics of the game. Use the following pieces of context to answer user's question.\n",
    "'''\n",
    "\n",
    "summary_template = \\\n",
    "'''Extract the following aspects of the game from the reviews, and write a short 20 words description for each aspect. The aspects are: [Gameplay, Graphics, Sound, Performance, Bug, Suggestion, Price, Overall]. Output a JSON with each of the aspects as key, and the information as the value. Only output the JSON. Do NOT output other text.\n",
    "\n",
    "The context is wrapped by three consecutive apostrophes. The context is as follows:\n",
    "\\'\\'\\'\n",
    "{context}\n",
    "\\'\\'\\'\n",
    "'''\n",
    "\n",
    "chat_prompt = ChatPromptTemplate.from_messages([\n",
    "    (\"system\", system_template),\n",
    "    (\"human\", summary_template),\n",
    "])\n",
    "\n",
    "chain = chat_prompt | llm\n",
    "response = chain.invoke({\"context\":str(aspects_response)})\n",
    "\n",
    "print(response)"
   ]
  }
 ],
 "metadata": {
  "kernelspec": {
   "display_name": "fyp-test-wsl-tm",
   "language": "python",
   "name": "python3"
  },
  "language_info": {
   "codemirror_mode": {
    "name": "ipython",
    "version": 3
   },
   "file_extension": ".py",
   "mimetype": "text/x-python",
   "name": "python",
   "nbconvert_exporter": "python",
   "pygments_lexer": "ipython3",
   "version": "3.9.18"
  }
 },
 "nbformat": 4,
 "nbformat_minor": 2
}

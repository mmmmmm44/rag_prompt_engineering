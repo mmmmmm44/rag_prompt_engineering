{
 "cells": [
  {
   "cell_type": "markdown",
   "metadata": {},
   "source": [
    "# Technical Demo"
   ]
  },
  {
   "cell_type": "code",
   "execution_count": 1,
   "metadata": {},
   "outputs": [],
   "source": [
    "# import\n",
    "from pathlib import Path\n",
    "from langchain.callbacks.manager import CallbackManager\n",
    "from langchain.callbacks.streaming_stdout import StreamingStdOutCallbackHandler\n",
    "from langchain_community.llms import Ollama\n",
    "\n",
    "from langchain.vectorstores import Chroma\n",
    "from langchain.text_splitter import CharacterTextSplitter\n",
    "from langchain_community.document_loaders import TextLoader, DirectoryLoader                                                                                                                                                                                                                                                                                                                                                                                                                                      \n",
    "from langchain_community.embeddings.sentence_transformer import (\n",
    "    SentenceTransformerEmbeddings,\n",
    ")\n",
    "from langchain_community.vectorstores import Chroma"
   ]
  },
  {
   "cell_type": "code",
   "execution_count": 3,
   "metadata": {},
   "outputs": [],
   "source": [
    "llm = Ollama(model=\"llama2:7b-chat-q4_K_M\")"
   ]
  },
  {
   "cell_type": "markdown",
   "metadata": {},
   "source": [
    "Prompting the LLM with Langchain\n",
    "\n",
    "1. Create a prompt from `ChatPromptTemplate` or other similar classes\n",
    "2. Use '|' separator as the symbol to create a chain object\n",
    "3. call chain.invoke() and pass the words to be formated as a dictionary to prompt the LLM"
   ]
  },
  {
   "cell_type": "code",
   "execution_count": 8,
   "metadata": {},
   "outputs": [],
   "source": [
    "from langchain_core.prompts import ChatPromptTemplate\n",
    "\n",
    "prompt = ChatPromptTemplate.from_template(\"Tell me about history of {topic}\")\n",
    "chain = prompt | llm"
   ]
  },
  {
   "cell_type": "code",
   "execution_count": 9,
   "metadata": {},
   "outputs": [
    {
     "data": {
      "text/plain": [
       "'\\nBlockchain, the technology behind cryptocurrencies like Bitcoin and Ethereum, has a rich and fascinating history that spans over two decades. Here is a brief overview of the key events and milestones in the history of blockchain:\\n\\n1998: The concept of blockchain was first introduced by Stuart Haber and W. Scott Stornetta, two computer scientists who proposed a system called \"Paper-based Digital Cash\" that used a chain of blocks to record transactions. However, their idea did not gain much traction at the time.\\n\\n2008: The Bitcoin whitepaper was published by an anonymous individual or group using the pseudonym Satoshi Nakamoto. This document outlined the design and functionality of a decentralized digital currency called Bitcoin, which would use blockchain technology to record transactions and manage the creation of new units.\\n\\n2009: The first block in the Bitcoin blockchain was mined by Satoshi Nakamoto on January 3rd. This marked the beginning of the Bitcoin network and the start of the blockchain era.\\n\\n2010: The first altcoin, Litecoin, was created by Charlie Lee. This sparked a wave of new cryptocurrency projects, many of which used blockchain technology as their foundation.\\n\\n2013: The Ethereum project was launched by Vitalik Buterin, who proposed a decentralized platform for building decentralized applications (dApps) using blockchain technology. This marked the beginning of the smart contract era and opened up new possibilities for the use of blockchain beyond just cryptocurrency.\\n\\n2014: The DAO, or Decentralized Autonomous Organization, was launched on the Ethereum network. This was a decentralized investment fund that used blockchain technology to raise funds and make investments without the need for intermediaries. However, the DAO was hacked and $50 million worth of Ether were stolen, leading to a major crisis in the blockchain industry.\\n\\n2015: The Blockchain Interoperability Alliance (BIA) was formed by several major companies, including IBM, Microsoft, and Intel, with the goal of promoting standardization and interoperability between different blockchain platforms.\\n\\n2016: The R3 consortium was launched, bringing together over 70 financial institutions to develop a distributed ledger platform for the finance industry. This marked the beginning of the enterprise blockchain era and the start of the move towards mainstream adoption.\\n\\n2017: The first Initial Coin Offering (ICO) was held by the startup Tezos, which raised over $200 million in just two days. This marked a new phase in the evolution of blockchain, with an increasing number of projects using ICOs to raise funds and build their businesses.\\n\\n2018: The value of cryptocurrencies like Bitcoin and Ethereum reached all-time highs, with Bitcoin reaching over $20,000 per coin in December. This marked a major milestone in the history of blockchain and the wider cryptocurrency market.\\n\\nPresent day: Blockchain technology is being explored and implemented across a wide range of industries, from finance to healthcare to supply chain management. The technology is also being used to create new types of businesses and applications, such as decentralized exchanges (DEXs) and non-fungible tokens (NFTs).\\n\\nIn summary, the history of blockchain is a story of innovation, experimentation, and growth, with many key events and milestones marking major turning points in the evolution of this technology. From its humble beginnings as a cryptocurrency to its current status as a powerful tool for decentralized computing, blockchain has come a long way and continues to shape the future of the digital world.'"
      ]
     },
     "execution_count": 9,
     "metadata": {},
     "output_type": "execute_result"
    }
   ],
   "source": [
    "chain.invoke({\"topic\":\"Blockchain\"})"
   ]
  },
  {
   "cell_type": "markdown",
   "metadata": {},
   "source": [
    "RAG"
   ]
  },
  {
   "cell_type": "code",
   "execution_count": 4,
   "metadata": {},
   "outputs": [
    {
     "name": "stderr",
     "output_type": "stream",
     "text": [
      "/root/.local/lib/python3.9/site-packages/tqdm/auto.py:21: TqdmWarning: IProgress not found. Please update jupyter and ipywidgets. See https://ipywidgets.readthedocs.io/en/stable/user_install.html\n",
      "  from .autonotebook import tqdm as notebook_tqdm\n",
      "/root/miniforge3/envs/fyp-test-wsl-tm/lib/python3.9/site-packages/torch/_utils.py:831: UserWarning: TypedStorage is deprecated. It will be removed in the future and UntypedStorage will be the only storage class. This should only matter to you if you are using storages directly.  To access UntypedStorage directly, use tensor.untyped_storage() instead of tensor.storage()\n",
      "  return self.fget.__get__(instance, owner)()\n"
     ]
    },
    {
     "name": "stdout",
     "output_type": "stream",
     "text": [
      "It took me a second to come around to Phantom Liberty's set-up: rescue the president of the New United States after Space Force One (lol) gets shot down over Dogtown, a newly added district of Night City that looks like the Thunderdome by way of Blade Runner: 2049's haunting, irradiated Las Vegas.\n",
      "\n",
      "CD Projekt is great at teeing up a story that seems like it'd be derivative or Spike TV-edgy, then absolutely curving you with unexpected depth and nuance, and that's no different here. President Myers comes off as a down to earth, \"one of the guys\" former soldier, like Harrison Ford from Air Force One, but there's a serpentlike ambition to her that comes out as the story goes on.\n"
     ]
    }
   ],
   "source": [
    "# load the document and split it into chunks\n",
    "doc_path = Path(\"reviews/cyberpunk_2077_phantom_liberty_01.txt\")\n",
    "\n",
    "loader = TextLoader(str(doc_path))\n",
    "documents = loader.load()\n",
    "\n",
    "# split it into chunks\n",
    "text_splitter = CharacterTextSplitter(chunk_size=1000, chunk_overlap=0)\n",
    "docs = text_splitter.split_documents(documents)\n",
    "\n",
    "# create the open-source embedding function\n",
    "embedding_function = SentenceTransformerEmbeddings(model_name=\"all-MiniLM-L6-v2\")\n",
    "\n",
    "# load it into Chroma\n",
    "db = Chroma.from_documents(docs, embedding_function)\n",
    "\n",
    "query = \"Generate a summary of the document.\"\n",
    "docs = db.similarity_search(query)\n",
    "\n",
    "print(docs[0].page_content)"
   ]
  },
  {
   "cell_type": "code",
   "execution_count": 25,
   "metadata": {},
   "outputs": [],
   "source": [
    "# make a chain\n",
    "\n",
    "from langchain.chains import RetrievalQA\n",
    "\n",
    "chain = RetrievalQA.from_chain_type(\n",
    "    llm=llm,\n",
    "    chain_type='stuff',\n",
    "    retriever=db.as_retriever(),\n",
    "    return_source_documents=True\n",
    ")"
   ]
  },
  {
   "cell_type": "code",
   "execution_count": 38,
   "metadata": {},
   "outputs": [],
   "source": [
    "## Cite sources\n",
    "def process_llm_response(llm_response):\n",
    "    print(llm_response['result'])\n",
    "    print('\\n\\nSources:')\n",
    "    for source in llm_response[\"source_documents\"]:\n",
    "        print(source.page_content)\n",
    "        print(source.metadata['source'])\n",
    "        print('-'*10)"
   ]
  },
  {
   "cell_type": "code",
   "execution_count": 39,
   "metadata": {},
   "outputs": [
    {
     "name": "stdout",
     "output_type": "stream",
     "text": [
      "The document is a review of the Phantom Liberty expansion for Cyberpunk 2077, which provides a new storyline, characters, and gameplay experiences for players to enjoy. The reviewer notes that the expansion is a \"splendid sendoff\" for the game's world, which CD Projekt has been working on for over a decade. They praise the expansion's writing and world-building, stating that it hangs with the big dogs when it comes to cinematic storytelling.\n",
      "\n",
      "The reviewer highlights several of the gigs in the expansion, including rescuing an underworld doctor, infiltrating a youth sports academy, and helping out two hapless detectives. They describe these tasks as having a \"slapstick absurdity\" that they enjoyed.\n",
      "\n",
      "The main players in the expansion all think they're doing the right thing, but ultimately, the player must make a difficult choice that will determine the outcome of the story. The reviewer notes that both ending paths feature their own triumphs and gut punches, and they chose the path with more gut punches.\n",
      "\n",
      "Overall, the document is a positive review of Phantom Liberty, praising its depth, nuance, and ability to provide a new and engaging experience for Cyberpunk 2077 players.\n",
      "\n",
      "\n",
      "Sources:\n",
      "It took me a second to come around to Phantom Liberty's set-up: rescue the president of the New United States after Space Force One (lol) gets shot down over Dogtown, a newly added district of Night City that looks like the Thunderdome by way of Blade Runner: 2049's haunting, irradiated Las Vegas.\n",
      "\n",
      "CD Projekt is great at teeing up a story that seems like it'd be derivative or Spike TV-edgy, then absolutely curving you with unexpected depth and nuance, and that's no different here. President Myers comes off as a down to earth, \"one of the guys\" former soldier, like Harrison Ford from Air Force One, but there's a serpentlike ambition to her that comes out as the story goes on.\n",
      "reviews/cyberpunk_2077_phantom_liberty_01.txt\n",
      "----------\n",
      "Still, I'm extremely pleased with Phantom Liberty⁠—CD Projekt can hang with the big dogs when it comes to cinematic storytelling, with a quality of writing and world building that I prefer to the likes of Sony's vaunted first party lineup. I've been eager to see what CD Projekt would do with a Cyberpunk 2077 expansion ever since first beating the game at the end of 2020, and Phantom Liberty is a splendid sendoff for the world CD Projekt's been working on for the better part of the last 10 years.\n",
      "reviews/cyberpunk_2077_phantom_liberty_01.txt\n",
      "----------\n",
      "Phantom Liberty's gig additions firmly fall into the latter camp, and I loved each one. A rescue operation for an underworld doctor gets complicated by his history of unsavory practices in one gig, while another sees you infiltrating the youth sports academy of the future, specializing in cybernetically enhanced 12-year-olds.\n",
      "\n",
      "My favorite tasked me with helping out a pair of hapless chucklefuck detectives caught with their proverbial pants down in Dogtown and panicking for their lives. I felt like Harvey Keitel swooping in to save the day as the Wolf in Pulp Fiction, and the entire thing had this slapstick absurdity from beginning to end that I adored.\n",
      "reviews/cyberpunk_2077_phantom_liberty_01.txt\n",
      "----------\n",
      "The main players in Phantom Liberty all think they're doing the right thing and that they don't have any other options, all while expecting you to back them up, and that eventually shakes out into one of the toughest choices I've had to make in an RPG: you have to betray someone, and both ending paths feature their own triumphs and gut punches.\n",
      "\n",
      "The path I chose was way more gut punches than triumphs, so I think I picked the \"bad\" ending. From chatting with my coworkers, though, the other option sounds at least bittersweet, and my RPG perfectionist drive to get the best ending possible is conflicting with just how good that bad ending was. The Darkest Timeline had me feeling like my stomach had a lead weight in it from the point of no return to credits rolling, and by the end, the bastards got away with everything. Forget it V, it's Dogtown.\n",
      "reviews/cyberpunk_2077_phantom_liberty_01.txt\n",
      "----------\n",
      "\n",
      "--------------------\n",
      "{'query': 'Generate a summary of the document.', 'result': 'The document is a review of the Phantom Liberty expansion for Cyberpunk 2077, which provides a new storyline, characters, and gameplay experiences for players to enjoy. The reviewer notes that the expansion is a \"splendid sendoff\" for the game\\'s world, which CD Projekt has been working on for over a decade. They praise the expansion\\'s writing and world-building, stating that it hangs with the big dogs when it comes to cinematic storytelling.\\n\\nThe reviewer highlights several of the gigs in the expansion, including rescuing an underworld doctor, infiltrating a youth sports academy, and helping out two hapless detectives. They describe these tasks as having a \"slapstick absurdity\" that they enjoyed.\\n\\nThe main players in the expansion all think they\\'re doing the right thing, but ultimately, the player must make a difficult choice that will determine the outcome of the story. The reviewer notes that both ending paths feature their own triumphs and gut punches, and they chose the path with more gut punches.\\n\\nOverall, the document is a positive review of Phantom Liberty, praising its depth, nuance, and ability to provide a new and engaging experience for Cyberpunk 2077 players.', 'source_documents': [Document(page_content='It took me a second to come around to Phantom Liberty\\'s set-up: rescue the president of the New United States after Space Force One (lol) gets shot down over Dogtown, a newly added district of Night City that looks like the Thunderdome by way of Blade Runner: 2049\\'s haunting, irradiated Las Vegas.\\n\\nCD Projekt is great at teeing up a story that seems like it\\'d be derivative or Spike TV-edgy, then absolutely curving you with unexpected depth and nuance, and that\\'s no different here. President Myers comes off as a down to earth, \"one of the guys\" former soldier, like Harrison Ford from Air Force One, but there\\'s a serpentlike ambition to her that comes out as the story goes on.', metadata={'source': 'reviews/cyberpunk_2077_phantom_liberty_01.txt'}), Document(page_content=\"Still, I'm extremely pleased with Phantom Liberty\\u2060—CD Projekt can hang with the big dogs when it comes to cinematic storytelling, with a quality of writing and world building that I prefer to the likes of Sony's vaunted first party lineup. I've been eager to see what CD Projekt would do with a Cyberpunk 2077 expansion ever since first beating the game at the end of 2020, and Phantom Liberty is a splendid sendoff for the world CD Projekt's been working on for the better part of the last 10 years.\", metadata={'source': 'reviews/cyberpunk_2077_phantom_liberty_01.txt'}), Document(page_content=\"Phantom Liberty's gig additions firmly fall into the latter camp, and I loved each one. A rescue operation for an underworld doctor gets complicated by his history of unsavory practices in one gig, while another sees you infiltrating the youth sports academy of the future, specializing in cybernetically enhanced 12-year-olds.\\n\\nMy favorite tasked me with helping out a pair of hapless chucklefuck detectives caught with their proverbial pants down in Dogtown and panicking for their lives. I felt like Harvey Keitel swooping in to save the day as the Wolf in Pulp Fiction, and the entire thing had this slapstick absurdity from beginning to end that I adored.\", metadata={'source': 'reviews/cyberpunk_2077_phantom_liberty_01.txt'}), Document(page_content='The main players in Phantom Liberty all think they\\'re doing the right thing and that they don\\'t have any other options, all while expecting you to back them up, and that eventually shakes out into one of the toughest choices I\\'ve had to make in an RPG: you have to betray someone, and both ending paths feature their own triumphs and gut punches.\\n\\nThe path I chose was way more gut punches than triumphs, so I think I picked the \"bad\" ending. From chatting with my coworkers, though, the other option sounds at least bittersweet, and my RPG perfectionist drive to get the best ending possible is conflicting with just how good that bad ending was. The Darkest Timeline had me feeling like my stomach had a lead weight in it from the point of no return to credits rolling, and by the end, the bastards got away with everything. Forget it V, it\\'s Dogtown.', metadata={'source': 'reviews/cyberpunk_2077_phantom_liberty_01.txt'})]}\n"
     ]
    }
   ],
   "source": [
    "# full example\n",
    "query = \"Generate a summary of the document.\"\n",
    "llm_response = chain.invoke(query)\n",
    "process_llm_response(llm_response)\n",
    "\n",
    "print()\n",
    "print('-'*20)\n",
    "print(llm_response)"
   ]
  }
 ],
 "metadata": {
  "kernelspec": {
   "display_name": "fyp-test-wsl-tm",
   "language": "python",
   "name": "python3"
  },
  "language_info": {
   "codemirror_mode": {
    "name": "ipython",
    "version": 3
   },
   "file_extension": ".py",
   "mimetype": "text/x-python",
   "name": "python",
   "nbconvert_exporter": "python",
   "pygments_lexer": "ipython3",
   "version": "3.9.18"
  }
 },
 "nbformat": 4,
 "nbformat_minor": 2
}

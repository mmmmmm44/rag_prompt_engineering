{
 "cells": [
  {
   "cell_type": "markdown",
   "metadata": {},
   "source": [
    "# Optimizing token usages\n",
    "\n",
    "Playing around with different number of aspects within a single prompt"
   ]
  },
  {
   "cell_type": "code",
   "execution_count": 1,
   "metadata": {},
   "outputs": [],
   "source": [
    "GAME_ASPECTS = [\n",
    "    'Gameplay', \n",
    "    'Narrative', \n",
    "    'Accessibility', \n",
    "    'Sound', \n",
    "    'Graphics & Art Design', \n",
    "    'Performance', \n",
    "    'Bug', \n",
    "    'Suggestion', \n",
    "    'Price', \n",
    "    'Overall'\n",
    "]"
   ]
  },
  {
   "cell_type": "code",
   "execution_count": 2,
   "metadata": {},
   "outputs": [],
   "source": [
    "import reviews._reviews02 as reviews02"
   ]
  },
  {
   "cell_type": "code",
   "execution_count": 3,
   "metadata": {},
   "outputs": [
    {
     "name": "stderr",
     "output_type": "stream",
     "text": [
      "/root/.local/lib/python3.9/site-packages/tqdm/auto.py:21: TqdmWarning: IProgress not found. Please update jupyter and ipywidgets. See https://ipywidgets.readthedocs.io/en/stable/user_install.html\n",
      "  from .autonotebook import tqdm as notebook_tqdm\n",
      "/root/miniforge3/envs/fyp-test-wsl-tm/lib/python3.9/site-packages/torch/_utils.py:831: UserWarning: TypedStorage is deprecated. It will be removed in the future and UntypedStorage will be the only storage class. This should only matter to you if you are using storages directly.  To access UntypedStorage directly, use tensor.untyped_storage() instead of tensor.storage()\n",
      "  return self.fget.__get__(instance, owner)()\n"
     ]
    }
   ],
   "source": [
    "from langchain.vectorstores import Chroma\n",
    "from langchain.text_splitter import CharacterTextSplitter\n",
    "from langchain_community.document_loaders import TextLoader, DirectoryLoader\n",
    "from langchain_community.embeddings.sentence_transformer import (\n",
    "    SentenceTransformerEmbeddings,\n",
    ")\n",
    "\n",
    "# select a comment to test with\n",
    "review_text = reviews02.sample_01\n",
    "\n",
    "text_splitter = CharacterTextSplitter(chunk_size=1000, chunk_overlap=0)\n",
    "docs = text_splitter.create_documents([review_text], metadatas=[{\"source\":\"review_01\"}])\n",
    "\n",
    "embedding_func = SentenceTransformerEmbeddings(model_name=\"all-MiniLM-L6-v2\")\n",
    "\n",
    "db = Chroma.from_documents(docs, embedding_func)\n",
    "\n",
    "retriever = db.as_retriever(search_kwargs={\"k\": 5})"
   ]
  },
  {
   "cell_type": "code",
   "execution_count": 4,
   "metadata": {},
   "outputs": [],
   "source": [
    "from langchain_community.llms import Ollama\n",
    "\n",
    "llm = Ollama(model='llama2:7b-chat-q4_K_M', temperature=0.2)        # set to a lower temperature for more consistent results"
   ]
  },
  {
   "cell_type": "markdown",
   "metadata": {},
   "source": [
    "Before our test, a code is added to track token usage for different prompting strategies."
   ]
  },
  {
   "cell_type": "code",
   "execution_count": 5,
   "metadata": {},
   "outputs": [],
   "source": [
    "# define callbacks for detecting token usage\n",
    "\n",
    "from langchain_core.callbacks.base import BaseCallbackHandler\n",
    "from langchain_core.outputs.llm_result import LLMResult\n",
    "from collections import deque\n",
    "\n",
    "class TokenUsageCallbackHandler(BaseCallbackHandler):\n",
    "\n",
    "    def __init__(self, deque: deque = None):\n",
    "        super().__init__()\n",
    "        self.deque = deque\n",
    "\n",
    "    def on_llm_end(self, response: LLMResult, **kwargs) -> None:\n",
    "        print('Response in callback')\n",
    "        print(response)\n",
    "        print()\n",
    "\n",
    "        generation = response.generations[0][0]\n",
    "        gen_info = generation.generation_info\n",
    "\n",
    "        # get token usage\n",
    "        # ref: https://github.com/orgs/langfuse/discussions/1179\n",
    "        token_usage = gen_info.get('prompt_eval_count', 0) + gen_info.get('eval_count', 0)\n",
    "        # get time costed (local machine)\n",
    "        # instead of getting total duration, we get the prompt_eval_duration and eval_duration to exclude the load duration (e.g. to load the model to the gpu, etc.)\n",
    "        time_costed = gen_info.get('prompt_eval_duration', 1e-10) + gen_info.get('eval_duration', 1e-10)     # in ns, a small value to indicate a inf time when it fails\n",
    "\n",
    "\n",
    "        # create an object to store the token usage and time costed\n",
    "        token_usage_obj = {\n",
    "            'token_usage': token_usage,\n",
    "            'time_costed': time_costed\n",
    "        }\n",
    "\n",
    "        # append the object to the deque\n",
    "        self.deque.append(token_usage_obj)\n",
    "\n",
    "\n",
    "\n",
    "common_deque = deque()\n",
    "chain_config = {\n",
    "    \"callbacks\": [TokenUsageCallbackHandler(common_deque)],\n",
    "}"
   ]
  },
  {
   "cell_type": "markdown",
   "metadata": {},
   "source": [
    "Here we test for different number of aspects within a single prompt.\n",
    "\n",
    "1. One aspect in a prompt\n",
    "2. 2 aspects in a prompt -> a (2, 2, 2, 2, 2) prompting combination\n",
    "3. 3-4 aspects in a prompt -> a (3, 3, 4) prompting combination\n",
    "4. 5 aspects in a prompt\n",
    "5. 10 aspects in a prompt"
   ]
  },
  {
   "cell_type": "markdown",
   "metadata": {},
   "source": [
    "Single aspect"
   ]
  },
  {
   "cell_type": "code",
   "execution_count": 6,
   "metadata": {},
   "outputs": [
    {
     "name": "stderr",
     "output_type": "stream",
     "text": [
      "Number of requested results 5 is greater than number of elements in index 1, updating n_results = 1\n"
     ]
    },
    {
     "name": "stdout",
     "output_type": "stream",
     "text": [
      "Extract the the following aspect of the game from the reviews. Output a short 20 words description for each aspect. The aspect is: Gameplay\n"
     ]
    },
    {
     "name": "stderr",
     "output_type": "stream",
     "text": [
      "Number of requested results 5 is greater than number of elements in index 1, updating n_results = 1\n",
      "Number of requested results 5 is greater than number of elements in index 1, updating n_results = 1\n"
     ]
    },
    {
     "name": "stdout",
     "output_type": "stream",
     "text": [
      "Response in callback\n",
      "generations=[[GenerationChunk(text='\\nGameplay:\\n\\n* NA - No information provided in the review about gameplay.', generation_info={'model': 'llama2:7b-chat-q4_K_M', 'created_at': '2024-07-09T05:59:10.790017469Z', 'response': '', 'done': True, 'context': [518, 25580, 29962, 3532, 14816, 29903, 29958, 5299, 829, 14816, 29903, 6778, 13, 13, 3492, 526, 5183, 21804, 310, 263, 3748, 304, 2274, 278, 21862, 310, 278, 3748, 29889, 4803, 278, 1494, 12785, 310, 3030, 304, 1234, 1404, 29915, 29879, 1139, 29889, 29871, 13, 13, 3916, 29901, 6460, 368, 27545, 29892, 6057, 1546, 29871, 29906, 29945, 448, 29871, 29941, 29945, 285, 567, 373, 1716, 4482, 322, 8494, 336, 6055, 29889, 366, 525, 270, 1348, 393, 565, 8494, 336, 471, 29871, 29941, 29900, 448, 29871, 29941, 29945, 769, 4482, 881, 367, 29871, 29953, 29900, 29892, 541, 694, 29889, 1584, 411, 4236, 6055, 3748, 1603, 5148, 7736, 1156, 766, 17961, 701, 448, 21640, 29889, 263, 395, 29871, 29955, 29900, 3611, 881, 1065, 472, 29871, 29945, 29900, 448, 29871, 29953, 29900, 285, 567, 373, 278, 19604, 6055, 9212, 29889, 322, 1811, 304, 24656, 278, 6055, 304, 679, 2253, 16608, 474, 505, 16766, 287, 304, 1784, 6199, 964, 372, 304, 679, 263, 2143, 870, 29889, 577, 1244, 474, 674, 7845, 322, 4480, 3428, 896, 2329, 278, 4180, 29889, 13, 4435, 29901, 9076, 29918, 29900, 29896, 13, 13, 16492, 29901, 7338, 1461, 278, 278, 1494, 9565, 310, 278, 3748, 515, 278, 21804, 29889, 10604, 263, 3273, 29871, 29906, 29900, 3838, 6139, 363, 1269, 9565, 29889, 450, 9565, 338, 29901, 8448, 1456, 13, 13, 3644, 366, 1016, 29915, 29873, 1073, 278, 1234, 29892, 1962, 871, 376, 3521, 1642, 1938, 6058, 1018, 304, 1207, 701, 385, 1234, 29889, 1938, 6058, 1962, 916, 1426, 29889, 518, 29914, 25580, 29962, 13, 13, 14199, 1456, 29901, 13, 13, 29930, 8598, 448, 1939, 2472, 4944, 297, 278, 9076, 1048, 3748, 1456, 29889], 'total_duration': 4027244133, 'load_duration': 3785939909, 'prompt_eval_count': 253, 'prompt_eval_duration': 60780000, 'eval_count': 20, 'eval_duration': 179945000})]] llm_output=None run=None\n",
      "\n",
      "'''\n",
      "\n",
      "Gameplay:\n",
      "\n",
      "* NA - No information provided in the review about gameplay.\n",
      "'''\n",
      "----------\n",
      "Sources\n",
      "poorly optimized, runs between 25 - 35 fps on both low and ultra settings. you ' d think that if ultra was 30 - 35 then low should be 60, but no. even with max settings game still looked odd after disabling up - scaling. a $ 70 title should run at 50 - 60 fps on the lowest settings minimum. and trying to optimize the settings to get better frames i have dumped to many hours into it to get a refund. so here i will sit and wait till they fix the performance.\n",
      "{'source': 'review_01'}\n",
      "----------\n",
      "Token Usage: 273\n",
      "--------------------\n",
      "Extract the the following aspect of the game from the reviews. Output a short 20 words description for each aspect. The aspect is: Narrative\n",
      "Response in callback\n",
      "generations=[[GenerationChunk(text='\\nNarrative: NA', generation_info={'model': 'llama2:7b-chat-q4_K_M', 'created_at': '2024-07-09T05:59:10.902174832Z', 'response': '', 'done': True, 'context': [518, 25580, 29962, 3532, 14816, 29903, 29958, 5299, 829, 14816, 29903, 6778, 13, 13, 3492, 526, 5183, 21804, 310, 263, 3748, 304, 2274, 278, 21862, 310, 278, 3748, 29889, 4803, 278, 1494, 12785, 310, 3030, 304, 1234, 1404, 29915, 29879, 1139, 29889, 29871, 13, 13, 3916, 29901, 6460, 368, 27545, 29892, 6057, 1546, 29871, 29906, 29945, 448, 29871, 29941, 29945, 285, 567, 373, 1716, 4482, 322, 8494, 336, 6055, 29889, 366, 525, 270, 1348, 393, 565, 8494, 336, 471, 29871, 29941, 29900, 448, 29871, 29941, 29945, 769, 4482, 881, 367, 29871, 29953, 29900, 29892, 541, 694, 29889, 1584, 411, 4236, 6055, 3748, 1603, 5148, 7736, 1156, 766, 17961, 701, 448, 21640, 29889, 263, 395, 29871, 29955, 29900, 3611, 881, 1065, 472, 29871, 29945, 29900, 448, 29871, 29953, 29900, 285, 567, 373, 278, 19604, 6055, 9212, 29889, 322, 1811, 304, 24656, 278, 6055, 304, 679, 2253, 16608, 474, 505, 16766, 287, 304, 1784, 6199, 964, 372, 304, 679, 263, 2143, 870, 29889, 577, 1244, 474, 674, 7845, 322, 4480, 3428, 896, 2329, 278, 4180, 29889, 13, 4435, 29901, 9076, 29918, 29900, 29896, 13, 13, 16492, 29901, 7338, 1461, 278, 278, 1494, 9565, 310, 278, 3748, 515, 278, 21804, 29889, 10604, 263, 3273, 29871, 29906, 29900, 3838, 6139, 363, 1269, 9565, 29889, 450, 9565, 338, 29901, 405, 2749, 1230, 13, 13, 3644, 366, 1016, 29915, 29873, 1073, 278, 1234, 29892, 1962, 871, 376, 3521, 1642, 1938, 6058, 1018, 304, 1207, 701, 385, 1234, 29889, 1938, 6058, 1962, 916, 1426, 29889, 518, 29914, 25580, 29962, 13, 13, 29940, 2749, 1230, 29901, 8598], 'total_duration': 99846692, 'load_duration': 188839, 'prompt_eval_count': 39, 'prompt_eval_duration': 42349000, 'eval_count': 7, 'eval_duration': 56944000})]] llm_output=None run=None\n",
      "\n",
      "'''\n",
      "\n",
      "Narrative: NA\n",
      "'''\n",
      "----------\n",
      "Sources\n",
      "poorly optimized, runs between 25 - 35 fps on both low and ultra settings. you ' d think that if ultra was 30 - 35 then low should be 60, but no. even with max settings game still looked odd after disabling up - scaling. a $ 70 title should run at 50 - 60 fps on the lowest settings minimum. and trying to optimize the settings to get better frames i have dumped to many hours into it to get a refund. so here i will sit and wait till they fix the performance.\n",
      "{'source': 'review_01'}\n",
      "----------\n",
      "Token Usage: 46\n",
      "--------------------\n",
      "Extract the the following aspect of the game from the reviews. Output a short 20 words description for each aspect. The aspect is: Accessibility\n"
     ]
    },
    {
     "name": "stderr",
     "output_type": "stream",
     "text": [
      "Number of requested results 5 is greater than number of elements in index 1, updating n_results = 1\n",
      "Number of requested results 5 is greater than number of elements in index 1, updating n_results = 1\n"
     ]
    },
    {
     "name": "stdout",
     "output_type": "stream",
     "text": [
      "Response in callback\n",
      "generations=[[GenerationChunk(text='\\nAccessibility: NA', generation_info={'model': 'llama2:7b-chat-q4_K_M', 'created_at': '2024-07-09T05:59:11.002953098Z', 'response': '', 'done': True, 'context': [518, 25580, 29962, 3532, 14816, 29903, 29958, 5299, 829, 14816, 29903, 6778, 13, 13, 3492, 526, 5183, 21804, 310, 263, 3748, 304, 2274, 278, 21862, 310, 278, 3748, 29889, 4803, 278, 1494, 12785, 310, 3030, 304, 1234, 1404, 29915, 29879, 1139, 29889, 29871, 13, 13, 3916, 29901, 6460, 368, 27545, 29892, 6057, 1546, 29871, 29906, 29945, 448, 29871, 29941, 29945, 285, 567, 373, 1716, 4482, 322, 8494, 336, 6055, 29889, 366, 525, 270, 1348, 393, 565, 8494, 336, 471, 29871, 29941, 29900, 448, 29871, 29941, 29945, 769, 4482, 881, 367, 29871, 29953, 29900, 29892, 541, 694, 29889, 1584, 411, 4236, 6055, 3748, 1603, 5148, 7736, 1156, 766, 17961, 701, 448, 21640, 29889, 263, 395, 29871, 29955, 29900, 3611, 881, 1065, 472, 29871, 29945, 29900, 448, 29871, 29953, 29900, 285, 567, 373, 278, 19604, 6055, 9212, 29889, 322, 1811, 304, 24656, 278, 6055, 304, 679, 2253, 16608, 474, 505, 16766, 287, 304, 1784, 6199, 964, 372, 304, 679, 263, 2143, 870, 29889, 577, 1244, 474, 674, 7845, 322, 4480, 3428, 896, 2329, 278, 4180, 29889, 13, 4435, 29901, 9076, 29918, 29900, 29896, 13, 13, 16492, 29901, 7338, 1461, 278, 278, 1494, 9565, 310, 278, 3748, 515, 278, 21804, 29889, 10604, 263, 3273, 29871, 29906, 29900, 3838, 6139, 363, 1269, 9565, 29889, 450, 9565, 338, 29901, 11028, 4127, 13, 13, 3644, 366, 1016, 29915, 29873, 1073, 278, 1234, 29892, 1962, 871, 376, 3521, 1642, 1938, 6058, 1018, 304, 1207, 701, 385, 1234, 29889, 1938, 6058, 1962, 916, 1426, 29889, 518, 29914, 25580, 29962, 13, 13, 6638, 4127, 29901, 8598], 'total_duration': 88266722, 'load_duration': 166697, 'prompt_eval_count': 38, 'prompt_eval_duration': 40953000, 'eval_count': 6, 'eval_duration': 46771000})]] llm_output=None run=None\n",
      "\n",
      "'''\n",
      "\n",
      "Accessibility: NA\n",
      "'''\n",
      "----------\n",
      "Sources\n",
      "poorly optimized, runs between 25 - 35 fps on both low and ultra settings. you ' d think that if ultra was 30 - 35 then low should be 60, but no. even with max settings game still looked odd after disabling up - scaling. a $ 70 title should run at 50 - 60 fps on the lowest settings minimum. and trying to optimize the settings to get better frames i have dumped to many hours into it to get a refund. so here i will sit and wait till they fix the performance.\n",
      "{'source': 'review_01'}\n",
      "----------\n",
      "Token Usage: 44\n",
      "--------------------\n",
      "Extract the the following aspect of the game from the reviews. Output a short 20 words description for each aspect. The aspect is: Sound\n",
      "Response in callback\n",
      "generations=[[GenerationChunk(text='\\nSound: NA', generation_info={'model': 'llama2:7b-chat-q4_K_M', 'created_at': '2024-07-09T05:59:11.094930738Z', 'response': '', 'done': True, 'context': [518, 25580, 29962, 3532, 14816, 29903, 29958, 5299, 829, 14816, 29903, 6778, 13, 13, 3492, 526, 5183, 21804, 310, 263, 3748, 304, 2274, 278, 21862, 310, 278, 3748, 29889, 4803, 278, 1494, 12785, 310, 3030, 304, 1234, 1404, 29915, 29879, 1139, 29889, 29871, 13, 13, 3916, 29901, 6460, 368, 27545, 29892, 6057, 1546, 29871, 29906, 29945, 448, 29871, 29941, 29945, 285, 567, 373, 1716, 4482, 322, 8494, 336, 6055, 29889, 366, 525, 270, 1348, 393, 565, 8494, 336, 471, 29871, 29941, 29900, 448, 29871, 29941, 29945, 769, 4482, 881, 367, 29871, 29953, 29900, 29892, 541, 694, 29889, 1584, 411, 4236, 6055, 3748, 1603, 5148, 7736, 1156, 766, 17961, 701, 448, 21640, 29889, 263, 395, 29871, 29955, 29900, 3611, 881, 1065, 472, 29871, 29945, 29900, 448, 29871, 29953, 29900, 285, 567, 373, 278, 19604, 6055, 9212, 29889, 322, 1811, 304, 24656, 278, 6055, 304, 679, 2253, 16608, 474, 505, 16766, 287, 304, 1784, 6199, 964, 372, 304, 679, 263, 2143, 870, 29889, 577, 1244, 474, 674, 7845, 322, 4480, 3428, 896, 2329, 278, 4180, 29889, 13, 4435, 29901, 9076, 29918, 29900, 29896, 13, 13, 16492, 29901, 7338, 1461, 278, 278, 1494, 9565, 310, 278, 3748, 515, 278, 21804, 29889, 10604, 263, 3273, 29871, 29906, 29900, 3838, 6139, 363, 1269, 9565, 29889, 450, 9565, 338, 29901, 14976, 13, 13, 3644, 366, 1016, 29915, 29873, 1073, 278, 1234, 29892, 1962, 871, 376, 3521, 1642, 1938, 6058, 1018, 304, 1207, 701, 385, 1234, 29889, 1938, 6058, 1962, 916, 1426, 29889, 518, 29914, 25580, 29962, 13, 13, 29456, 29901, 8598], 'total_duration': 78784912, 'load_duration': 179834, 'prompt_eval_count': 37, 'prompt_eval_duration': 40751000, 'eval_count': 5, 'eval_duration': 37448000})]] llm_output=None run=None\n",
      "\n",
      "'''\n",
      "\n",
      "Sound: NA\n",
      "'''\n",
      "----------\n",
      "Sources\n",
      "poorly optimized, runs between 25 - 35 fps on both low and ultra settings. you ' d think that if ultra was 30 - 35 then low should be 60, but no. even with max settings game still looked odd after disabling up - scaling. a $ 70 title should run at 50 - 60 fps on the lowest settings minimum. and trying to optimize the settings to get better frames i have dumped to many hours into it to get a refund. so here i will sit and wait till they fix the performance.\n",
      "{'source': 'review_01'}\n",
      "----------\n",
      "Token Usage: 42\n",
      "--------------------\n",
      "Extract the the following aspect of the game from the reviews. Output a short 20 words description for each aspect. The aspect is: Graphics & Art Design\n"
     ]
    },
    {
     "name": "stderr",
     "output_type": "stream",
     "text": [
      "Number of requested results 5 is greater than number of elements in index 1, updating n_results = 1\n"
     ]
    },
    {
     "name": "stdout",
     "output_type": "stream",
     "text": [
      "Response in callback\n",
      "generations=[[GenerationChunk(text=\"\\nGraphics & Art Design:\\n\\n* NA - The game's graphics and art design are not well-optimized and run at low framerates.\", generation_info={'model': 'llama2:7b-chat-q4_K_M', 'created_at': '2024-07-09T05:59:11.46150781Z', 'response': '', 'done': True, 'context': [518, 25580, 29962, 3532, 14816, 29903, 29958, 5299, 829, 14816, 29903, 6778, 13, 13, 3492, 526, 5183, 21804, 310, 263, 3748, 304, 2274, 278, 21862, 310, 278, 3748, 29889, 4803, 278, 1494, 12785, 310, 3030, 304, 1234, 1404, 29915, 29879, 1139, 29889, 29871, 13, 13, 3916, 29901, 6460, 368, 27545, 29892, 6057, 1546, 29871, 29906, 29945, 448, 29871, 29941, 29945, 285, 567, 373, 1716, 4482, 322, 8494, 336, 6055, 29889, 366, 525, 270, 1348, 393, 565, 8494, 336, 471, 29871, 29941, 29900, 448, 29871, 29941, 29945, 769, 4482, 881, 367, 29871, 29953, 29900, 29892, 541, 694, 29889, 1584, 411, 4236, 6055, 3748, 1603, 5148, 7736, 1156, 766, 17961, 701, 448, 21640, 29889, 263, 395, 29871, 29955, 29900, 3611, 881, 1065, 472, 29871, 29945, 29900, 448, 29871, 29953, 29900, 285, 567, 373, 278, 19604, 6055, 9212, 29889, 322, 1811, 304, 24656, 278, 6055, 304, 679, 2253, 16608, 474, 505, 16766, 287, 304, 1784, 6199, 964, 372, 304, 679, 263, 2143, 870, 29889, 577, 1244, 474, 674, 7845, 322, 4480, 3428, 896, 2329, 278, 4180, 29889, 13, 4435, 29901, 9076, 29918, 29900, 29896, 13, 13, 16492, 29901, 7338, 1461, 278, 278, 1494, 9565, 310, 278, 3748, 515, 278, 21804, 29889, 10604, 263, 3273, 29871, 29906, 29900, 3838, 6139, 363, 1269, 9565, 29889, 450, 9565, 338, 29901, 29247, 669, 3012, 12037, 13, 13, 3644, 366, 1016, 29915, 29873, 1073, 278, 1234, 29892, 1962, 871, 376, 3521, 1642, 1938, 6058, 1018, 304, 1207, 701, 385, 1234, 29889, 1938, 6058, 1962, 916, 1426, 29889, 518, 29914, 25580, 29962, 13, 13, 17290, 669, 3012, 12037, 29901, 13, 13, 29930, 8598, 448, 450, 3748, 29915, 29879, 18533, 322, 1616, 2874, 526, 451, 1532, 29899, 20640, 1891, 322, 1065, 472, 4482, 1424, 4183, 1078, 29889], 'total_duration': 354005640, 'load_duration': 297592, 'prompt_eval_count': 40, 'prompt_eval_duration': 41191000, 'eval_count': 34, 'eval_duration': 311962000})]] llm_output=None run=None\n",
      "\n",
      "'''\n",
      "\n",
      "Graphics & Art Design:\n",
      "\n",
      "* NA - The game's graphics and art design are not well-optimized and run at low framerates.\n",
      "'''\n",
      "----------\n",
      "Sources\n",
      "poorly optimized, runs between 25 - 35 fps on both low and ultra settings. you ' d think that if ultra was 30 - 35 then low should be 60, but no. even with max settings game still looked odd after disabling up - scaling. a $ 70 title should run at 50 - 60 fps on the lowest settings minimum. and trying to optimize the settings to get better frames i have dumped to many hours into it to get a refund. so here i will sit and wait till they fix the performance.\n",
      "{'source': 'review_01'}\n",
      "----------\n",
      "Token Usage: 74\n",
      "--------------------\n",
      "Extract the the following aspect of the game from the reviews. Output a short 20 words description for each aspect. The aspect is: Performance\n"
     ]
    },
    {
     "name": "stderr",
     "output_type": "stream",
     "text": [
      "Number of requested results 5 is greater than number of elements in index 1, updating n_results = 1\n"
     ]
    },
    {
     "name": "stdout",
     "output_type": "stream",
     "text": [
      "Response in callback\n",
      "generations=[[GenerationChunk(text=\"\\nSure! Here are the aspects of the game related to performance that can be extracted from the review:\\n\\n1. Frame rate: Poorly optimized, runs between 25-35 FPS on both low and ultra settings.\\n2. Up-scaling: Disabling up-scaling improves the game's appearance, but it should not be necessary to do so.\\n3. Minimum frame rate: A $70 title should run at 50-60 FPS on the lowest settings minimum.\\n4. Optimization: Trying to optimize settings to get better frames has resulted in many hours of gameplay and no refund.\\n\\nHere are the short descriptions for each aspect:\\n\\n1. Frame rate: Poor performance with inconsistent frame rates.\\n2. Up-scaling: Unnecessary compromise in graphics quality.\\n3. Minimum frame rate: Underwhelming experience with too much lag.\\n4. Optimization: Time-consuming and frustrating optimization process.\", generation_info={'model': 'llama2:7b-chat-q4_K_M', 'created_at': '2024-07-09T05:59:13.59304945Z', 'response': '', 'done': True, 'context': [518, 25580, 29962, 3532, 14816, 29903, 29958, 5299, 829, 14816, 29903, 6778, 13, 13, 3492, 526, 5183, 21804, 310, 263, 3748, 304, 2274, 278, 21862, 310, 278, 3748, 29889, 4803, 278, 1494, 12785, 310, 3030, 304, 1234, 1404, 29915, 29879, 1139, 29889, 29871, 13, 13, 3916, 29901, 6460, 368, 27545, 29892, 6057, 1546, 29871, 29906, 29945, 448, 29871, 29941, 29945, 285, 567, 373, 1716, 4482, 322, 8494, 336, 6055, 29889, 366, 525, 270, 1348, 393, 565, 8494, 336, 471, 29871, 29941, 29900, 448, 29871, 29941, 29945, 769, 4482, 881, 367, 29871, 29953, 29900, 29892, 541, 694, 29889, 1584, 411, 4236, 6055, 3748, 1603, 5148, 7736, 1156, 766, 17961, 701, 448, 21640, 29889, 263, 395, 29871, 29955, 29900, 3611, 881, 1065, 472, 29871, 29945, 29900, 448, 29871, 29953, 29900, 285, 567, 373, 278, 19604, 6055, 9212, 29889, 322, 1811, 304, 24656, 278, 6055, 304, 679, 2253, 16608, 474, 505, 16766, 287, 304, 1784, 6199, 964, 372, 304, 679, 263, 2143, 870, 29889, 577, 1244, 474, 674, 7845, 322, 4480, 3428, 896, 2329, 278, 4180, 29889, 13, 4435, 29901, 9076, 29918, 29900, 29896, 13, 13, 16492, 29901, 7338, 1461, 278, 278, 1494, 9565, 310, 278, 3748, 515, 278, 21804, 29889, 10604, 263, 3273, 29871, 29906, 29900, 3838, 6139, 363, 1269, 9565, 29889, 450, 9565, 338, 29901, 23768, 13, 13, 3644, 366, 1016, 29915, 29873, 1073, 278, 1234, 29892, 1962, 871, 376, 3521, 1642, 1938, 6058, 1018, 304, 1207, 701, 385, 1234, 29889, 1938, 6058, 1962, 916, 1426, 29889, 518, 29914, 25580, 29962, 13, 13, 29903, 545, 29991, 2266, 526, 278, 21420, 310, 278, 3748, 4475, 304, 4180, 393, 508, 367, 23892, 515, 278, 9076, 29901, 13, 13, 29896, 29889, 12218, 6554, 29901, 3929, 272, 368, 27545, 29892, 6057, 1546, 29871, 29906, 29945, 29899, 29941, 29945, 383, 7024, 373, 1716, 4482, 322, 8494, 336, 6055, 29889, 13, 29906, 29889, 5020, 29899, 19529, 292, 29901, 3295, 17961, 701, 29899, 19529, 292, 4857, 1960, 278, 3748, 29915, 29879, 10097, 29892, 541, 372, 881, 451, 367, 5181, 304, 437, 577, 29889, 13, 29941, 29889, 3080, 12539, 3515, 6554, 29901, 319, 395, 29955, 29900, 3611, 881, 1065, 472, 29871, 29945, 29900, 29899, 29953, 29900, 383, 7024, 373, 278, 19604, 6055, 9212, 29889, 13, 29946, 29889, 20693, 326, 2133, 29901, 24428, 304, 24656, 6055, 304, 679, 2253, 16608, 756, 20601, 297, 1784, 6199, 310, 3748, 1456, 322, 694, 2143, 870, 29889, 13, 13, 10605, 526, 278, 3273, 2342, 1980, 363, 1269, 9565, 29901, 13, 13, 29896, 29889, 12218, 6554, 29901, 3929, 272, 4180, 411, 22435, 9696, 3515, 19257, 29889, 13, 29906, 29889, 5020, 29899, 19529, 292, 29901, 853, 15107, 653, 19632, 895, 297, 18533, 11029, 29889, 13, 29941, 29889, 3080, 12539, 3515, 6554, 29901, 7634, 1332, 295, 4056, 7271, 411, 2086, 1568, 11755, 29889, 13, 29946, 29889, 20693, 326, 2133, 29901, 5974, 29899, 25978, 292, 322, 1424, 4627, 1218, 13883, 1889, 29889], 'total_duration': 2119222190, 'load_duration': 183424, 'prompt_eval_count': 37, 'prompt_eval_duration': 41250000, 'eval_count': 224, 'eval_duration': 2077343000})]] llm_output=None run=None\n",
      "\n",
      "'''\n",
      "\n",
      "Sure! Here are the aspects of the game related to performance that can be extracted from the review:\n",
      "\n",
      "1. Frame rate: Poorly optimized, runs between 25-35 FPS on both low and ultra settings.\n",
      "2. Up-scaling: Disabling up-scaling improves the game's appearance, but it should not be necessary to do so.\n",
      "3. Minimum frame rate: A $70 title should run at 50-60 FPS on the lowest settings minimum.\n",
      "4. Optimization: Trying to optimize settings to get better frames has resulted in many hours of gameplay and no refund.\n",
      "\n",
      "Here are the short descriptions for each aspect:\n",
      "\n",
      "1. Frame rate: Poor performance with inconsistent frame rates.\n",
      "2. Up-scaling: Unnecessary compromise in graphics quality.\n",
      "3. Minimum frame rate: Underwhelming experience with too much lag.\n",
      "4. Optimization: Time-consuming and frustrating optimization process.\n",
      "'''\n",
      "----------\n",
      "Sources\n",
      "poorly optimized, runs between 25 - 35 fps on both low and ultra settings. you ' d think that if ultra was 30 - 35 then low should be 60, but no. even with max settings game still looked odd after disabling up - scaling. a $ 70 title should run at 50 - 60 fps on the lowest settings minimum. and trying to optimize the settings to get better frames i have dumped to many hours into it to get a refund. so here i will sit and wait till they fix the performance.\n",
      "{'source': 'review_01'}\n",
      "----------\n",
      "Token Usage: 261\n",
      "--------------------\n",
      "Extract the the following aspect of the game from the reviews. Output a short 20 words description for each aspect. The aspect is: Bug\n",
      "Response in callback\n",
      "generations=[[GenerationChunk(text='\\nBug:\\n\\n* NA (No answer found in the review)', generation_info={'model': 'llama2:7b-chat-q4_K_M', 'created_at': '2024-07-09T05:59:13.794009248Z', 'response': '', 'done': True, 'context': [518, 25580, 29962, 3532, 14816, 29903, 29958, 5299, 829, 14816, 29903, 6778, 13, 13, 3492, 526, 5183, 21804, 310, 263, 3748, 304, 2274, 278, 21862, 310, 278, 3748, 29889, 4803, 278, 1494, 12785, 310, 3030, 304, 1234, 1404, 29915, 29879, 1139, 29889, 29871, 13, 13, 3916, 29901, 6460, 368, 27545, 29892, 6057, 1546, 29871, 29906, 29945, 448, 29871, 29941, 29945, 285, 567, 373, 1716, 4482, 322, 8494, 336, 6055, 29889, 366, 525, 270, 1348, 393, 565, 8494, 336, 471, 29871, 29941, 29900, 448, 29871, 29941, 29945, 769, 4482, 881, 367, 29871, 29953, 29900, 29892, 541, 694, 29889, 1584, 411, 4236, 6055, 3748, 1603, 5148, 7736, 1156, 766, 17961, 701, 448, 21640, 29889, 263, 395, 29871, 29955, 29900, 3611, 881, 1065, 472, 29871, 29945, 29900, 448, 29871, 29953, 29900, 285, 567, 373, 278, 19604, 6055, 9212, 29889, 322, 1811, 304, 24656, 278, 6055, 304, 679, 2253, 16608, 474, 505, 16766, 287, 304, 1784, 6199, 964, 372, 304, 679, 263, 2143, 870, 29889, 577, 1244, 474, 674, 7845, 322, 4480, 3428, 896, 2329, 278, 4180, 29889, 13, 4435, 29901, 9076, 29918, 29900, 29896, 13, 13, 16492, 29901, 7338, 1461, 278, 278, 1494, 9565, 310, 278, 3748, 515, 278, 21804, 29889, 10604, 263, 3273, 29871, 29906, 29900, 3838, 6139, 363, 1269, 9565, 29889, 450, 9565, 338, 29901, 28209, 13, 13, 3644, 366, 1016, 29915, 29873, 1073, 278, 1234, 29892, 1962, 871, 376, 3521, 1642, 1938, 6058, 1018, 304, 1207, 701, 385, 1234, 29889, 1938, 6058, 1962, 916, 1426, 29889, 518, 29914, 25580, 29962, 13, 13, 29933, 688, 29901, 13, 13, 29930, 8598, 313, 3782, 1234, 1476, 297, 278, 9076, 29897], 'total_duration': 188289502, 'load_duration': 183021, 'prompt_eval_count': 37, 'prompt_eval_duration': 41248000, 'eval_count': 17, 'eval_duration': 146404000})]] llm_output=None run=None\n",
      "\n",
      "'''\n",
      "\n",
      "Bug:\n",
      "\n",
      "* NA (No answer found in the review)\n",
      "'''\n",
      "----------\n",
      "Sources\n",
      "poorly optimized, runs between 25 - 35 fps on both low and ultra settings. you ' d think that if ultra was 30 - 35 then low should be 60, but no. even with max settings game still looked odd after disabling up - scaling. a $ 70 title should run at 50 - 60 fps on the lowest settings minimum. and trying to optimize the settings to get better frames i have dumped to many hours into it to get a refund. so here i will sit and wait till they fix the performance.\n",
      "{'source': 'review_01'}\n",
      "----------\n",
      "Token Usage: 54\n",
      "--------------------\n",
      "Extract the the following aspect of the game from the reviews. Output a short 20 words description for each aspect. The aspect is: Suggestion\n"
     ]
    },
    {
     "name": "stderr",
     "output_type": "stream",
     "text": [
      "Number of requested results 5 is greater than number of elements in index 1, updating n_results = 1\n",
      "Number of requested results 5 is greater than number of elements in index 1, updating n_results = 1\n"
     ]
    },
    {
     "name": "stdout",
     "output_type": "stream",
     "text": [
      "Response in callback\n",
      "generations=[[GenerationChunk(text='\\nSure! Here are the aspects of the game and their corresponding 20-word descriptions based on the review:\\n\\n1. Suggestion for optimization: NA\\n2. Expected FPS range: 50-60 fps (minimum)\\n3. Actual FPS range: 25-35 fps (both low and ultra settings)', generation_info={'model': 'llama2:7b-chat-q4_K_M', 'created_at': '2024-07-09T05:59:14.633958478Z', 'response': '', 'done': True, 'context': [518, 25580, 29962, 3532, 14816, 29903, 29958, 5299, 829, 14816, 29903, 6778, 13, 13, 3492, 526, 5183, 21804, 310, 263, 3748, 304, 2274, 278, 21862, 310, 278, 3748, 29889, 4803, 278, 1494, 12785, 310, 3030, 304, 1234, 1404, 29915, 29879, 1139, 29889, 29871, 13, 13, 3916, 29901, 6460, 368, 27545, 29892, 6057, 1546, 29871, 29906, 29945, 448, 29871, 29941, 29945, 285, 567, 373, 1716, 4482, 322, 8494, 336, 6055, 29889, 366, 525, 270, 1348, 393, 565, 8494, 336, 471, 29871, 29941, 29900, 448, 29871, 29941, 29945, 769, 4482, 881, 367, 29871, 29953, 29900, 29892, 541, 694, 29889, 1584, 411, 4236, 6055, 3748, 1603, 5148, 7736, 1156, 766, 17961, 701, 448, 21640, 29889, 263, 395, 29871, 29955, 29900, 3611, 881, 1065, 472, 29871, 29945, 29900, 448, 29871, 29953, 29900, 285, 567, 373, 278, 19604, 6055, 9212, 29889, 322, 1811, 304, 24656, 278, 6055, 304, 679, 2253, 16608, 474, 505, 16766, 287, 304, 1784, 6199, 964, 372, 304, 679, 263, 2143, 870, 29889, 577, 1244, 474, 674, 7845, 322, 4480, 3428, 896, 2329, 278, 4180, 29889, 13, 4435, 29901, 9076, 29918, 29900, 29896, 13, 13, 16492, 29901, 7338, 1461, 278, 278, 1494, 9565, 310, 278, 3748, 515, 278, 21804, 29889, 10604, 263, 3273, 29871, 29906, 29900, 3838, 6139, 363, 1269, 9565, 29889, 450, 9565, 338, 29901, 317, 12981, 602, 13, 13, 3644, 366, 1016, 29915, 29873, 1073, 278, 1234, 29892, 1962, 871, 376, 3521, 1642, 1938, 6058, 1018, 304, 1207, 701, 385, 1234, 29889, 1938, 6058, 1962, 916, 1426, 29889, 518, 29914, 25580, 29962, 13, 13, 29903, 545, 29991, 2266, 526, 278, 21420, 310, 278, 3748, 322, 1009, 6590, 29871, 29906, 29900, 29899, 1742, 2342, 1980, 2729, 373, 278, 9076, 29901, 13, 13, 29896, 29889, 317, 12981, 602, 363, 13883, 29901, 8598, 13, 29906, 29889, 1222, 6021, 383, 7024, 3464, 29901, 29871, 29945, 29900, 29899, 29953, 29900, 285, 567, 313, 1195, 12539, 29897, 13, 29941, 29889, 3185, 950, 383, 7024, 3464, 29901, 29871, 29906, 29945, 29899, 29941, 29945, 285, 567, 313, 20313, 4482, 322, 8494, 336, 6055, 29897], 'total_duration': 827582581, 'load_duration': 196857, 'prompt_eval_count': 39, 'prompt_eval_duration': 41393000, 'eval_count': 84, 'eval_duration': 785639000})]] llm_output=None run=None\n",
      "\n",
      "'''\n",
      "\n",
      "Sure! Here are the aspects of the game and their corresponding 20-word descriptions based on the review:\n",
      "\n",
      "1. Suggestion for optimization: NA\n",
      "2. Expected FPS range: 50-60 fps (minimum)\n",
      "3. Actual FPS range: 25-35 fps (both low and ultra settings)\n",
      "'''\n",
      "----------\n",
      "Sources\n",
      "poorly optimized, runs between 25 - 35 fps on both low and ultra settings. you ' d think that if ultra was 30 - 35 then low should be 60, but no. even with max settings game still looked odd after disabling up - scaling. a $ 70 title should run at 50 - 60 fps on the lowest settings minimum. and trying to optimize the settings to get better frames i have dumped to many hours into it to get a refund. so here i will sit and wait till they fix the performance.\n",
      "{'source': 'review_01'}\n",
      "----------\n",
      "Token Usage: 123\n",
      "--------------------\n",
      "Extract the the following aspect of the game from the reviews. Output a short 20 words description for each aspect. The aspect is: Price\n"
     ]
    },
    {
     "name": "stderr",
     "output_type": "stream",
     "text": [
      "Number of requested results 5 is greater than number of elements in index 1, updating n_results = 1\n"
     ]
    },
    {
     "name": "stdout",
     "output_type": "stream",
     "text": [
      "Response in callback\n",
      "generations=[[GenerationChunk(text='\\nHere are the aspects of the game related to price and their corresponding descriptions based on the review:\\n\\nPrice: $70\\nDescription: A $70 title should run at 50-60 fps on the lowest settings minimum.', generation_info={'model': 'llama2:7b-chat-q4_K_M', 'created_at': '2024-07-09T05:59:15.195951978Z', 'response': '', 'done': True, 'context': [518, 25580, 29962, 3532, 14816, 29903, 29958, 5299, 829, 14816, 29903, 6778, 13, 13, 3492, 526, 5183, 21804, 310, 263, 3748, 304, 2274, 278, 21862, 310, 278, 3748, 29889, 4803, 278, 1494, 12785, 310, 3030, 304, 1234, 1404, 29915, 29879, 1139, 29889, 29871, 13, 13, 3916, 29901, 6460, 368, 27545, 29892, 6057, 1546, 29871, 29906, 29945, 448, 29871, 29941, 29945, 285, 567, 373, 1716, 4482, 322, 8494, 336, 6055, 29889, 366, 525, 270, 1348, 393, 565, 8494, 336, 471, 29871, 29941, 29900, 448, 29871, 29941, 29945, 769, 4482, 881, 367, 29871, 29953, 29900, 29892, 541, 694, 29889, 1584, 411, 4236, 6055, 3748, 1603, 5148, 7736, 1156, 766, 17961, 701, 448, 21640, 29889, 263, 395, 29871, 29955, 29900, 3611, 881, 1065, 472, 29871, 29945, 29900, 448, 29871, 29953, 29900, 285, 567, 373, 278, 19604, 6055, 9212, 29889, 322, 1811, 304, 24656, 278, 6055, 304, 679, 2253, 16608, 474, 505, 16766, 287, 304, 1784, 6199, 964, 372, 304, 679, 263, 2143, 870, 29889, 577, 1244, 474, 674, 7845, 322, 4480, 3428, 896, 2329, 278, 4180, 29889, 13, 4435, 29901, 9076, 29918, 29900, 29896, 13, 13, 16492, 29901, 7338, 1461, 278, 278, 1494, 9565, 310, 278, 3748, 515, 278, 21804, 29889, 10604, 263, 3273, 29871, 29906, 29900, 3838, 6139, 363, 1269, 9565, 29889, 450, 9565, 338, 29901, 20743, 13, 13, 3644, 366, 1016, 29915, 29873, 1073, 278, 1234, 29892, 1962, 871, 376, 3521, 1642, 1938, 6058, 1018, 304, 1207, 701, 385, 1234, 29889, 1938, 6058, 1962, 916, 1426, 29889, 518, 29914, 25580, 29962, 13, 13, 10605, 526, 278, 21420, 310, 278, 3748, 4475, 304, 8666, 322, 1009, 6590, 2342, 1980, 2729, 373, 278, 9076, 29901, 13, 13, 13026, 29901, 395, 29955, 29900, 13, 9868, 29901, 319, 395, 29955, 29900, 3611, 881, 1065, 472, 29871, 29945, 29900, 29899, 29953, 29900, 285, 567, 373, 278, 19604, 6055, 9212, 29889], 'total_duration': 549123241, 'load_duration': 190998, 'prompt_eval_count': 37, 'prompt_eval_duration': 41228000, 'eval_count': 54, 'eval_duration': 507269000})]] llm_output=None run=None\n",
      "\n",
      "'''\n",
      "\n",
      "Here are the aspects of the game related to price and their corresponding descriptions based on the review:\n",
      "\n",
      "Price: $70\n",
      "Description: A $70 title should run at 50-60 fps on the lowest settings minimum.\n",
      "'''\n",
      "----------\n",
      "Sources\n",
      "poorly optimized, runs between 25 - 35 fps on both low and ultra settings. you ' d think that if ultra was 30 - 35 then low should be 60, but no. even with max settings game still looked odd after disabling up - scaling. a $ 70 title should run at 50 - 60 fps on the lowest settings minimum. and trying to optimize the settings to get better frames i have dumped to many hours into it to get a refund. so here i will sit and wait till they fix the performance.\n",
      "{'source': 'review_01'}\n",
      "----------\n",
      "Token Usage: 91\n",
      "--------------------\n",
      "Extract the the following aspect of the game from the reviews. Output a short 20 words description for each aspect. The aspect is: Overall\n",
      "Response in callback\n",
      "generations=[[GenerationChunk(text='\\nOverall: Poorly optimized game with inconsistent framerates.', generation_info={'model': 'llama2:7b-chat-q4_K_M', 'created_at': '2024-07-09T05:59:15.399442899Z', 'response': '', 'done': True, 'context': [518, 25580, 29962, 3532, 14816, 29903, 29958, 5299, 829, 14816, 29903, 6778, 13, 13, 3492, 526, 5183, 21804, 310, 263, 3748, 304, 2274, 278, 21862, 310, 278, 3748, 29889, 4803, 278, 1494, 12785, 310, 3030, 304, 1234, 1404, 29915, 29879, 1139, 29889, 29871, 13, 13, 3916, 29901, 6460, 368, 27545, 29892, 6057, 1546, 29871, 29906, 29945, 448, 29871, 29941, 29945, 285, 567, 373, 1716, 4482, 322, 8494, 336, 6055, 29889, 366, 525, 270, 1348, 393, 565, 8494, 336, 471, 29871, 29941, 29900, 448, 29871, 29941, 29945, 769, 4482, 881, 367, 29871, 29953, 29900, 29892, 541, 694, 29889, 1584, 411, 4236, 6055, 3748, 1603, 5148, 7736, 1156, 766, 17961, 701, 448, 21640, 29889, 263, 395, 29871, 29955, 29900, 3611, 881, 1065, 472, 29871, 29945, 29900, 448, 29871, 29953, 29900, 285, 567, 373, 278, 19604, 6055, 9212, 29889, 322, 1811, 304, 24656, 278, 6055, 304, 679, 2253, 16608, 474, 505, 16766, 287, 304, 1784, 6199, 964, 372, 304, 679, 263, 2143, 870, 29889, 577, 1244, 474, 674, 7845, 322, 4480, 3428, 896, 2329, 278, 4180, 29889, 13, 4435, 29901, 9076, 29918, 29900, 29896, 13, 13, 16492, 29901, 7338, 1461, 278, 278, 1494, 9565, 310, 278, 3748, 515, 278, 21804, 29889, 10604, 263, 3273, 29871, 29906, 29900, 3838, 6139, 363, 1269, 9565, 29889, 450, 9565, 338, 29901, 6811, 497, 13, 13, 3644, 366, 1016, 29915, 29873, 1073, 278, 1234, 29892, 1962, 871, 376, 3521, 1642, 1938, 6058, 1018, 304, 1207, 701, 385, 1234, 29889, 1938, 6058, 1962, 916, 1426, 29889, 518, 29914, 25580, 29962, 13, 13, 3563, 497, 29901, 3929, 272, 368, 27545, 3748, 411, 22435, 9696, 1424, 4183, 1078, 29889], 'total_duration': 190872517, 'load_duration': 400866, 'prompt_eval_count': 38, 'prompt_eval_duration': 41196000, 'eval_count': 17, 'eval_duration': 148630000})]] llm_output=None run=None\n",
      "\n",
      "'''\n",
      "\n",
      "Overall: Poorly optimized game with inconsistent framerates.\n",
      "'''\n",
      "----------\n",
      "Sources\n",
      "poorly optimized, runs between 25 - 35 fps on both low and ultra settings. you ' d think that if ultra was 30 - 35 then low should be 60, but no. even with max settings game still looked odd after disabling up - scaling. a $ 70 title should run at 50 - 60 fps on the lowest settings minimum. and trying to optimize the settings to get better frames i have dumped to many hours into it to get a refund. so here i will sit and wait till they fix the performance.\n",
      "{'source': 'review_01'}\n",
      "----------\n",
      "Token Usage: 55\n",
      "--------------------\n",
      "Summary of token usage: 1063\n",
      "Summary of time usage: 4.730694 s\n"
     ]
    }
   ],
   "source": [
    "from langchain.chains import RetrievalQAWithSourcesChain\n",
    "from langchain_core.prompts import PromptTemplate\n",
    "\n",
    "prompt_template = \\\n",
    "'''You are reading reviews of a game to understand the characteristics of the game. Use the following pieces of context to answer user's question. \n",
    "\n",
    "{summaries}\n",
    "\n",
    "Question: {question}\n",
    "\n",
    "If you don't know the answer, output only \"NA\". Do NOT try to make up an answer. Do NOT output other text.'''\n",
    "\n",
    "my_question_template = \\\n",
    "'''Extract the the following aspect of the game from the reviews. Output a short 20 words description for each aspect. The aspect is: '''\n",
    "\n",
    "aspects_response = {k: '' for k in GAME_ASPECTS}\n",
    "sum_of_token_usage, sum_of_time_usage = 0, 0\n",
    "\n",
    "for aspect in GAME_ASPECTS:\n",
    "    my_question = my_question_template + f'{aspect}'\n",
    "    print(my_question)\n",
    "\n",
    "    chain =  RetrievalQAWithSourcesChain.from_chain_type(\n",
    "        llm=llm,\n",
    "        chain_type=\"stuff\",\n",
    "        retriever=retriever,\n",
    "        chain_type_kwargs={\n",
    "            \"prompt\": PromptTemplate(\n",
    "                template=prompt_template,\n",
    "                input_variables=[\"summaries\", \"question\"],\n",
    "            )\n",
    "        },\n",
    "        return_source_documents=True,\n",
    "    )\n",
    "\n",
    "    response = chain.invoke(\n",
    "        {\n",
    "            'question': my_question\n",
    "        },\n",
    "        config=chain_config\n",
    "    )\n",
    "\n",
    "    print('\\'\\'\\'')\n",
    "    print(response['answer'])\n",
    "    print('\\'\\'\\'')\n",
    "    aspects_response[aspect] = response['answer']\n",
    "    print('-'*10)\n",
    "    print('Sources')\n",
    "    for doc in response['source_documents']:\n",
    "        print(doc.page_content)\n",
    "        print(doc.metadata)\n",
    "        print('-'*10)\n",
    "    token_usage_obj = common_deque.pop()\n",
    "    token_usage, time_usage = token_usage_obj['token_usage'], token_usage_obj['time_costed']\n",
    "    sum_of_token_usage += token_usage\n",
    "    sum_of_time_usage += time_usage\n",
    "    print(f'Token Usage: {token_usage}')\n",
    "\n",
    "    print('-'*20)\n",
    "\n",
    "print('Summary of token usage:', sum_of_token_usage)\n",
    "print('Summary of time usage:', sum_of_time_usage / 1e9, 's')"
   ]
  },
  {
   "cell_type": "markdown",
   "metadata": {},
   "source": [
    "Only the response"
   ]
  },
  {
   "cell_type": "code",
   "execution_count": 7,
   "metadata": {},
   "outputs": [
    {
     "name": "stdout",
     "output_type": "stream",
     "text": [
      "Gameplay\n",
      "\n",
      "Gameplay:\n",
      "\n",
      "* NA - No information provided in the review about gameplay.\n",
      "\n",
      "\n",
      "\n",
      "Narrative\n",
      "\n",
      "Narrative: NA\n",
      "\n",
      "\n",
      "\n",
      "Accessibility\n",
      "\n",
      "Accessibility: NA\n",
      "\n",
      "\n",
      "\n",
      "Sound\n",
      "\n",
      "Sound: NA\n",
      "\n",
      "\n",
      "\n",
      "Graphics & Art Design\n",
      "\n",
      "Graphics & Art Design:\n",
      "\n",
      "* NA - The game's graphics and art design are not well-optimized and run at low framerates.\n",
      "\n",
      "\n",
      "\n",
      "Performance\n",
      "\n",
      "Sure! Here are the aspects of the game related to performance that can be extracted from the review:\n",
      "\n",
      "1. Frame rate: Poorly optimized, runs between 25-35 FPS on both low and ultra settings.\n",
      "2. Up-scaling: Disabling up-scaling improves the game's appearance, but it should not be necessary to do so.\n",
      "3. Minimum frame rate: A $70 title should run at 50-60 FPS on the lowest settings minimum.\n",
      "4. Optimization: Trying to optimize settings to get better frames has resulted in many hours of gameplay and no refund.\n",
      "\n",
      "Here are the short descriptions for each aspect:\n",
      "\n",
      "1. Frame rate: Poor performance with inconsistent frame rates.\n",
      "2. Up-scaling: Unnecessary compromise in graphics quality.\n",
      "3. Minimum frame rate: Underwhelming experience with too much lag.\n",
      "4. Optimization: Time-consuming and frustrating optimization process.\n",
      "\n",
      "\n",
      "\n",
      "Bug\n",
      "\n",
      "Bug:\n",
      "\n",
      "* NA (No answer found in the review)\n",
      "\n",
      "\n",
      "\n",
      "Suggestion\n",
      "\n",
      "Sure! Here are the aspects of the game and their corresponding 20-word descriptions based on the review:\n",
      "\n",
      "1. Suggestion for optimization: NA\n",
      "2. Expected FPS range: 50-60 fps (minimum)\n",
      "3. Actual FPS range: 25-35 fps (both low and ultra settings)\n",
      "\n",
      "\n",
      "\n",
      "Price\n",
      "\n",
      "Here are the aspects of the game related to price and their corresponding descriptions based on the review:\n",
      "\n",
      "Price: $70\n",
      "Description: A $70 title should run at 50-60 fps on the lowest settings minimum.\n",
      "\n",
      "\n",
      "\n",
      "Overall\n",
      "\n",
      "Overall: Poorly optimized game with inconsistent framerates.\n",
      "\n",
      "\n",
      "\n"
     ]
    }
   ],
   "source": [
    "for k, v in aspects_response.items():\n",
    "    print(k)\n",
    "    print(v)\n",
    "    print('\\n\\n')"
   ]
  },
  {
   "cell_type": "markdown",
   "metadata": {},
   "source": [
    "---"
   ]
  },
  {
   "cell_type": "markdown",
   "metadata": {},
   "source": [
    "2-2-2-2-2 combination"
   ]
  },
  {
   "cell_type": "code",
   "execution_count": 8,
   "metadata": {},
   "outputs": [
    {
     "name": "stderr",
     "output_type": "stream",
     "text": [
      "Number of requested results 5 is greater than number of elements in index 1, updating n_results = 1\n"
     ]
    },
    {
     "name": "stdout",
     "output_type": "stream",
     "text": [
      "Extract the the following aspect of the game from the reviews. Output a short 20 words description for each aspect. The aspect are : ['Gameplay', 'Narrative']\n"
     ]
    },
    {
     "name": "stderr",
     "output_type": "stream",
     "text": [
      "Number of requested results 5 is greater than number of elements in index 1, updating n_results = 1\n"
     ]
    },
    {
     "name": "stdout",
     "output_type": "stream",
     "text": [
      "Response in callback\n",
      "generations=[[GenerationChunk(text=\"\\nSure! Here are the aspects of the game and their corresponding 20-word descriptions based on the review:\\n\\n['Gameplay']: Poorly optimized with inconsistent framerates (NA)\\n\\n['Narrative']: No mention of narrative quality or issues (NA)\", generation_info={'model': 'llama2:7b-chat-q4_K_M', 'created_at': '2024-07-09T05:59:16.085583694Z', 'response': '', 'done': True, 'context': [518, 25580, 29962, 3532, 14816, 29903, 29958, 5299, 829, 14816, 29903, 6778, 13, 13, 3492, 526, 5183, 21804, 310, 263, 3748, 304, 2274, 278, 21862, 310, 278, 3748, 29889, 4803, 278, 1494, 12785, 310, 3030, 304, 1234, 1404, 29915, 29879, 1139, 29889, 29871, 13, 13, 3916, 29901, 6460, 368, 27545, 29892, 6057, 1546, 29871, 29906, 29945, 448, 29871, 29941, 29945, 285, 567, 373, 1716, 4482, 322, 8494, 336, 6055, 29889, 366, 525, 270, 1348, 393, 565, 8494, 336, 471, 29871, 29941, 29900, 448, 29871, 29941, 29945, 769, 4482, 881, 367, 29871, 29953, 29900, 29892, 541, 694, 29889, 1584, 411, 4236, 6055, 3748, 1603, 5148, 7736, 1156, 766, 17961, 701, 448, 21640, 29889, 263, 395, 29871, 29955, 29900, 3611, 881, 1065, 472, 29871, 29945, 29900, 448, 29871, 29953, 29900, 285, 567, 373, 278, 19604, 6055, 9212, 29889, 322, 1811, 304, 24656, 278, 6055, 304, 679, 2253, 16608, 474, 505, 16766, 287, 304, 1784, 6199, 964, 372, 304, 679, 263, 2143, 870, 29889, 577, 1244, 474, 674, 7845, 322, 4480, 3428, 896, 2329, 278, 4180, 29889, 13, 4435, 29901, 9076, 29918, 29900, 29896, 13, 13, 16492, 29901, 7338, 1461, 278, 278, 1494, 9565, 310, 278, 3748, 515, 278, 21804, 29889, 10604, 263, 3273, 29871, 29906, 29900, 3838, 6139, 363, 1269, 9565, 29889, 450, 9565, 526, 584, 6024, 14199, 1456, 742, 525, 29940, 2749, 1230, 2033, 13, 13, 3644, 366, 1016, 29915, 29873, 1073, 278, 1234, 29892, 1962, 871, 376, 3521, 1642, 1938, 6058, 1018, 304, 1207, 701, 385, 1234, 29889, 1938, 6058, 1962, 916, 1426, 29889, 518, 29914, 25580, 29962, 13, 13, 29903, 545, 29991, 2266, 526, 278, 21420, 310, 278, 3748, 322, 1009, 6590, 29871, 29906, 29900, 29899, 1742, 2342, 1980, 2729, 373, 278, 9076, 29901, 13, 13, 1839, 14199, 1456, 2033, 29901, 3929, 272, 368, 27545, 411, 22435, 9696, 1424, 4183, 1078, 313, 3521, 29897, 13, 13, 1839, 29940, 2749, 1230, 2033, 29901, 1939, 3585, 310, 15474, 1230, 11029, 470, 5626, 313, 3521, 29897], 'total_duration': 655523020, 'load_duration': 189564, 'prompt_eval_count': 47, 'prompt_eval_duration': 41524000, 'eval_count': 66, 'eval_duration': 613387000})]] llm_output=None run=None\n",
      "\n",
      "'''\n",
      "\n",
      "Sure! Here are the aspects of the game and their corresponding 20-word descriptions based on the review:\n",
      "\n",
      "['Gameplay']: Poorly optimized with inconsistent framerates (NA)\n",
      "\n",
      "['Narrative']: No mention of narrative quality or issues (NA)\n",
      "'''\n",
      "----------\n",
      "Sources\n",
      "poorly optimized, runs between 25 - 35 fps on both low and ultra settings. you ' d think that if ultra was 30 - 35 then low should be 60, but no. even with max settings game still looked odd after disabling up - scaling. a $ 70 title should run at 50 - 60 fps on the lowest settings minimum. and trying to optimize the settings to get better frames i have dumped to many hours into it to get a refund. so here i will sit and wait till they fix the performance.\n",
      "{'source': 'review_01'}\n",
      "----------\n",
      "Token Usage: 113\n",
      "--------------------\n",
      "Extract the the following aspect of the game from the reviews. Output a short 20 words description for each aspect. The aspect are : ['Accessibility', 'Sound']\n"
     ]
    },
    {
     "name": "stderr",
     "output_type": "stream",
     "text": [
      "Number of requested results 5 is greater than number of elements in index 1, updating n_results = 1\n"
     ]
    },
    {
     "name": "stdout",
     "output_type": "stream",
     "text": [
      "Response in callback\n",
      "generations=[[GenerationChunk(text=\"\\nSure! Here are the aspects of the game and their corresponding 20-word descriptions based on the review:\\n\\n['Accessibility']: Poorly optimized, runs at low frame rates. (NA)\\n\\n['Sound']: Game's sound quality is poor. (NA)\", generation_info={'model': 'llama2:7b-chat-q4_K_M', 'created_at': '2024-07-09T05:59:16.73655835Z', 'response': '', 'done': True, 'context': [518, 25580, 29962, 3532, 14816, 29903, 29958, 5299, 829, 14816, 29903, 6778, 13, 13, 3492, 526, 5183, 21804, 310, 263, 3748, 304, 2274, 278, 21862, 310, 278, 3748, 29889, 4803, 278, 1494, 12785, 310, 3030, 304, 1234, 1404, 29915, 29879, 1139, 29889, 29871, 13, 13, 3916, 29901, 6460, 368, 27545, 29892, 6057, 1546, 29871, 29906, 29945, 448, 29871, 29941, 29945, 285, 567, 373, 1716, 4482, 322, 8494, 336, 6055, 29889, 366, 525, 270, 1348, 393, 565, 8494, 336, 471, 29871, 29941, 29900, 448, 29871, 29941, 29945, 769, 4482, 881, 367, 29871, 29953, 29900, 29892, 541, 694, 29889, 1584, 411, 4236, 6055, 3748, 1603, 5148, 7736, 1156, 766, 17961, 701, 448, 21640, 29889, 263, 395, 29871, 29955, 29900, 3611, 881, 1065, 472, 29871, 29945, 29900, 448, 29871, 29953, 29900, 285, 567, 373, 278, 19604, 6055, 9212, 29889, 322, 1811, 304, 24656, 278, 6055, 304, 679, 2253, 16608, 474, 505, 16766, 287, 304, 1784, 6199, 964, 372, 304, 679, 263, 2143, 870, 29889, 577, 1244, 474, 674, 7845, 322, 4480, 3428, 896, 2329, 278, 4180, 29889, 13, 4435, 29901, 9076, 29918, 29900, 29896, 13, 13, 16492, 29901, 7338, 1461, 278, 278, 1494, 9565, 310, 278, 3748, 515, 278, 21804, 29889, 10604, 263, 3273, 29871, 29906, 29900, 3838, 6139, 363, 1269, 9565, 29889, 450, 9565, 526, 584, 6024, 6638, 4127, 742, 525, 29456, 2033, 13, 13, 3644, 366, 1016, 29915, 29873, 1073, 278, 1234, 29892, 1962, 871, 376, 3521, 1642, 1938, 6058, 1018, 304, 1207, 701, 385, 1234, 29889, 1938, 6058, 1962, 916, 1426, 29889, 518, 29914, 25580, 29962, 13, 13, 29903, 545, 29991, 2266, 526, 278, 21420, 310, 278, 3748, 322, 1009, 6590, 29871, 29906, 29900, 29899, 1742, 2342, 1980, 2729, 373, 278, 9076, 29901, 13, 13, 1839, 6638, 4127, 2033, 29901, 3929, 272, 368, 27545, 29892, 6057, 472, 4482, 3515, 19257, 29889, 313, 3521, 29897, 13, 13, 1839, 29456, 2033, 29901, 8448, 29915, 29879, 6047, 11029, 338, 6460, 29889, 313, 3521, 29897], 'total_duration': 638574988, 'load_duration': 191094, 'prompt_eval_count': 42, 'prompt_eval_duration': 41019000, 'eval_count': 65, 'eval_duration': 596958000})]] llm_output=None run=None\n",
      "\n",
      "'''\n",
      "\n",
      "Sure! Here are the aspects of the game and their corresponding 20-word descriptions based on the review:\n",
      "\n",
      "['Accessibility']: Poorly optimized, runs at low frame rates. (NA)\n",
      "\n",
      "['Sound']: Game's sound quality is poor. (NA)\n",
      "'''\n",
      "----------\n",
      "Sources\n",
      "poorly optimized, runs between 25 - 35 fps on both low and ultra settings. you ' d think that if ultra was 30 - 35 then low should be 60, but no. even with max settings game still looked odd after disabling up - scaling. a $ 70 title should run at 50 - 60 fps on the lowest settings minimum. and trying to optimize the settings to get better frames i have dumped to many hours into it to get a refund. so here i will sit and wait till they fix the performance.\n",
      "{'source': 'review_01'}\n",
      "----------\n",
      "Token Usage: 107\n",
      "--------------------\n",
      "Extract the the following aspect of the game from the reviews. Output a short 20 words description for each aspect. The aspect are : ['Graphics & Art Design', 'Performance']\n"
     ]
    },
    {
     "name": "stderr",
     "output_type": "stream",
     "text": [
      "Number of requested results 5 is greater than number of elements in index 1, updating n_results = 1\n"
     ]
    },
    {
     "name": "stdout",
     "output_type": "stream",
     "text": [
      "Response in callback\n",
      "generations=[[GenerationChunk(text=\"\\nSure! Here are the aspects of the game and their corresponding descriptions based on the review:\\n\\n['Graphics & Art Design']: Unclear, as the reviewer does not mention anything about the game's graphics or art design. NA\\n\\n['Performance']: Poorly optimized, runs between 25-35 FPS on both low and ultra settings. Even with max settings, the game still looked odd after disabling upscaling. A $70 title should run at 50-60 FPS on the lowest settings minimum. Trying to optimize settings resulted in many hours of frustration and no refund. Waiting for performance fix. NA\", generation_info={'model': 'llama2:7b-chat-q4_K_M', 'created_at': '2024-07-09T05:59:18.141722937Z', 'response': '', 'done': True, 'context': [518, 25580, 29962, 3532, 14816, 29903, 29958, 5299, 829, 14816, 29903, 6778, 13, 13, 3492, 526, 5183, 21804, 310, 263, 3748, 304, 2274, 278, 21862, 310, 278, 3748, 29889, 4803, 278, 1494, 12785, 310, 3030, 304, 1234, 1404, 29915, 29879, 1139, 29889, 29871, 13, 13, 3916, 29901, 6460, 368, 27545, 29892, 6057, 1546, 29871, 29906, 29945, 448, 29871, 29941, 29945, 285, 567, 373, 1716, 4482, 322, 8494, 336, 6055, 29889, 366, 525, 270, 1348, 393, 565, 8494, 336, 471, 29871, 29941, 29900, 448, 29871, 29941, 29945, 769, 4482, 881, 367, 29871, 29953, 29900, 29892, 541, 694, 29889, 1584, 411, 4236, 6055, 3748, 1603, 5148, 7736, 1156, 766, 17961, 701, 448, 21640, 29889, 263, 395, 29871, 29955, 29900, 3611, 881, 1065, 472, 29871, 29945, 29900, 448, 29871, 29953, 29900, 285, 567, 373, 278, 19604, 6055, 9212, 29889, 322, 1811, 304, 24656, 278, 6055, 304, 679, 2253, 16608, 474, 505, 16766, 287, 304, 1784, 6199, 964, 372, 304, 679, 263, 2143, 870, 29889, 577, 1244, 474, 674, 7845, 322, 4480, 3428, 896, 2329, 278, 4180, 29889, 13, 4435, 29901, 9076, 29918, 29900, 29896, 13, 13, 16492, 29901, 7338, 1461, 278, 278, 1494, 9565, 310, 278, 3748, 515, 278, 21804, 29889, 10604, 263, 3273, 29871, 29906, 29900, 3838, 6139, 363, 1269, 9565, 29889, 450, 9565, 526, 584, 6024, 17290, 669, 3012, 12037, 742, 525, 5894, 13390, 2033, 13, 13, 3644, 366, 1016, 29915, 29873, 1073, 278, 1234, 29892, 1962, 871, 376, 3521, 1642, 1938, 6058, 1018, 304, 1207, 701, 385, 1234, 29889, 1938, 6058, 1962, 916, 1426, 29889, 518, 29914, 25580, 29962, 13, 13, 29903, 545, 29991, 2266, 526, 278, 21420, 310, 278, 3748, 322, 1009, 6590, 2342, 1980, 2729, 373, 278, 9076, 29901, 13, 13, 1839, 17290, 669, 3012, 12037, 2033, 29901, 853, 8551, 29892, 408, 278, 6664, 15580, 947, 451, 3585, 3099, 1048, 278, 3748, 29915, 29879, 18533, 470, 1616, 2874, 29889, 8598, 13, 13, 1839, 5894, 13390, 2033, 29901, 3929, 272, 368, 27545, 29892, 6057, 1546, 29871, 29906, 29945, 29899, 29941, 29945, 383, 7024, 373, 1716, 4482, 322, 8494, 336, 6055, 29889, 7753, 411, 4236, 6055, 29892, 278, 3748, 1603, 5148, 7736, 1156, 766, 17961, 24081, 1052, 292, 29889, 319, 395, 29955, 29900, 3611, 881, 1065, 472, 29871, 29945, 29900, 29899, 29953, 29900, 383, 7024, 373, 278, 19604, 6055, 9212, 29889, 24428, 304, 24656, 6055, 20601, 297, 1784, 6199, 310, 1424, 11036, 322, 694, 2143, 870, 29889, 20340, 292, 363, 4180, 2329, 29889, 8598], 'total_duration': 1392256417, 'load_duration': 182643, 'prompt_eval_count': 45, 'prompt_eval_duration': 41258000, 'eval_count': 145, 'eval_duration': 1350402000})]] llm_output=None run=None\n",
      "\n",
      "'''\n",
      "\n",
      "Sure! Here are the aspects of the game and their corresponding descriptions based on the review:\n",
      "\n",
      "['Graphics & Art Design']: Unclear, as the reviewer does not mention anything about the game's graphics or art design. NA\n",
      "\n",
      "['Performance']: Poorly optimized, runs between 25-35 FPS on both low and ultra settings. Even with max settings, the game still looked odd after disabling upscaling. A $70 title should run at 50-60 FPS on the lowest settings minimum. Trying to optimize settings resulted in many hours of frustration and no refund. Waiting for performance fix. NA\n",
      "'''\n",
      "----------\n",
      "Sources\n",
      "poorly optimized, runs between 25 - 35 fps on both low and ultra settings. you ' d think that if ultra was 30 - 35 then low should be 60, but no. even with max settings game still looked odd after disabling up - scaling. a $ 70 title should run at 50 - 60 fps on the lowest settings minimum. and trying to optimize the settings to get better frames i have dumped to many hours into it to get a refund. so here i will sit and wait till they fix the performance.\n",
      "{'source': 'review_01'}\n",
      "----------\n",
      "Token Usage: 190\n",
      "--------------------\n",
      "Extract the the following aspect of the game from the reviews. Output a short 20 words description for each aspect. The aspect are : ['Bug', 'Suggestion']\n"
     ]
    },
    {
     "name": "stderr",
     "output_type": "stream",
     "text": [
      "Number of requested results 5 is greater than number of elements in index 1, updating n_results = 1\n"
     ]
    },
    {
     "name": "stdout",
     "output_type": "stream",
     "text": [
      "Response in callback\n",
      "generations=[[GenerationChunk(text=\"\\nSure! Here are the aspects of the game and their corresponding 20-word descriptions based on the review:\\n\\n['Bug']: Game has poor optimization, runs at 25-35 FPS on both low and ultra settings. (NA)\\n\\n['Suggestion']: A $70 title should run at 50-60 FPS on the lowest settings minimum. (NA)\", generation_info={'model': 'llama2:7b-chat-q4_K_M', 'created_at': '2024-07-09T05:59:19.681139423Z', 'response': '', 'done': True, 'context': [518, 25580, 29962, 3532, 14816, 29903, 29958, 5299, 829, 14816, 29903, 6778, 13, 13, 3492, 526, 5183, 21804, 310, 263, 3748, 304, 2274, 278, 21862, 310, 278, 3748, 29889, 4803, 278, 1494, 12785, 310, 3030, 304, 1234, 1404, 29915, 29879, 1139, 29889, 29871, 13, 13, 3916, 29901, 6460, 368, 27545, 29892, 6057, 1546, 29871, 29906, 29945, 448, 29871, 29941, 29945, 285, 567, 373, 1716, 4482, 322, 8494, 336, 6055, 29889, 366, 525, 270, 1348, 393, 565, 8494, 336, 471, 29871, 29941, 29900, 448, 29871, 29941, 29945, 769, 4482, 881, 367, 29871, 29953, 29900, 29892, 541, 694, 29889, 1584, 411, 4236, 6055, 3748, 1603, 5148, 7736, 1156, 766, 17961, 701, 448, 21640, 29889, 263, 395, 29871, 29955, 29900, 3611, 881, 1065, 472, 29871, 29945, 29900, 448, 29871, 29953, 29900, 285, 567, 373, 278, 19604, 6055, 9212, 29889, 322, 1811, 304, 24656, 278, 6055, 304, 679, 2253, 16608, 474, 505, 16766, 287, 304, 1784, 6199, 964, 372, 304, 679, 263, 2143, 870, 29889, 577, 1244, 474, 674, 7845, 322, 4480, 3428, 896, 2329, 278, 4180, 29889, 13, 4435, 29901, 9076, 29918, 29900, 29896, 13, 13, 16492, 29901, 7338, 1461, 278, 278, 1494, 9565, 310, 278, 3748, 515, 278, 21804, 29889, 10604, 263, 3273, 29871, 29906, 29900, 3838, 6139, 363, 1269, 9565, 29889, 450, 9565, 526, 584, 6024, 29933, 688, 742, 525, 29903, 12981, 602, 2033, 13, 13, 3644, 366, 1016, 29915, 29873, 1073, 278, 1234, 29892, 1962, 871, 376, 3521, 1642, 1938, 6058, 1018, 304, 1207, 701, 385, 1234, 29889, 1938, 6058, 1962, 916, 1426, 29889, 518, 29914, 25580, 29962, 13, 13, 29903, 545, 29991, 2266, 526, 278, 21420, 310, 278, 3748, 322, 1009, 6590, 29871, 29906, 29900, 29899, 1742, 2342, 1980, 2729, 373, 278, 9076, 29901, 13, 13, 1839, 29933, 688, 2033, 29901, 8448, 756, 6460, 13883, 29892, 6057, 472, 29871, 29906, 29945, 29899, 29941, 29945, 383, 7024, 373, 1716, 4482, 322, 8494, 336, 6055, 29889, 313, 3521, 29897, 13, 13, 1839, 29903, 12981, 602, 2033, 29901, 319, 395, 29955, 29900, 3611, 881, 1065, 472, 29871, 29945, 29900, 29899, 29953, 29900, 383, 7024, 373, 278, 19604, 6055, 9212, 29889, 313, 3521, 29897], 'total_duration': 1526881316, 'load_duration': 183984, 'prompt_eval_count': 44, 'prompt_eval_duration': 41499000, 'eval_count': 93, 'eval_duration': 1484811000})]] llm_output=None run=None\n",
      "\n",
      "'''\n",
      "\n",
      "Sure! Here are the aspects of the game and their corresponding 20-word descriptions based on the review:\n",
      "\n",
      "['Bug']: Game has poor optimization, runs at 25-35 FPS on both low and ultra settings. (NA)\n",
      "\n",
      "['Suggestion']: A $70 title should run at 50-60 FPS on the lowest settings minimum. (NA)\n",
      "'''\n",
      "----------\n",
      "Sources\n",
      "poorly optimized, runs between 25 - 35 fps on both low and ultra settings. you ' d think that if ultra was 30 - 35 then low should be 60, but no. even with max settings game still looked odd after disabling up - scaling. a $ 70 title should run at 50 - 60 fps on the lowest settings minimum. and trying to optimize the settings to get better frames i have dumped to many hours into it to get a refund. so here i will sit and wait till they fix the performance.\n",
      "{'source': 'review_01'}\n",
      "----------\n",
      "Token Usage: 137\n",
      "--------------------\n",
      "Extract the the following aspect of the game from the reviews. Output a short 20 words description for each aspect. The aspect are : ['Price', 'Overall']\n",
      "Response in callback\n",
      "generations=[[GenerationChunk(text=\"\\nSure! Here are the aspects of the game and their corresponding 20-word descriptions based on the review:\\n\\n['Price']: $70 (expensive)\\n\\n['Overall']: Poorly optimized, runs at 25-35 FPS (underwhelming experience with poor performance)\", generation_info={'model': 'llama2:7b-chat-q4_K_M', 'created_at': '2024-07-09T05:59:20.406515004Z', 'response': '', 'done': True, 'context': [518, 25580, 29962, 3532, 14816, 29903, 29958, 5299, 829, 14816, 29903, 6778, 13, 13, 3492, 526, 5183, 21804, 310, 263, 3748, 304, 2274, 278, 21862, 310, 278, 3748, 29889, 4803, 278, 1494, 12785, 310, 3030, 304, 1234, 1404, 29915, 29879, 1139, 29889, 29871, 13, 13, 3916, 29901, 6460, 368, 27545, 29892, 6057, 1546, 29871, 29906, 29945, 448, 29871, 29941, 29945, 285, 567, 373, 1716, 4482, 322, 8494, 336, 6055, 29889, 366, 525, 270, 1348, 393, 565, 8494, 336, 471, 29871, 29941, 29900, 448, 29871, 29941, 29945, 769, 4482, 881, 367, 29871, 29953, 29900, 29892, 541, 694, 29889, 1584, 411, 4236, 6055, 3748, 1603, 5148, 7736, 1156, 766, 17961, 701, 448, 21640, 29889, 263, 395, 29871, 29955, 29900, 3611, 881, 1065, 472, 29871, 29945, 29900, 448, 29871, 29953, 29900, 285, 567, 373, 278, 19604, 6055, 9212, 29889, 322, 1811, 304, 24656, 278, 6055, 304, 679, 2253, 16608, 474, 505, 16766, 287, 304, 1784, 6199, 964, 372, 304, 679, 263, 2143, 870, 29889, 577, 1244, 474, 674, 7845, 322, 4480, 3428, 896, 2329, 278, 4180, 29889, 13, 4435, 29901, 9076, 29918, 29900, 29896, 13, 13, 16492, 29901, 7338, 1461, 278, 278, 1494, 9565, 310, 278, 3748, 515, 278, 21804, 29889, 10604, 263, 3273, 29871, 29906, 29900, 3838, 6139, 363, 1269, 9565, 29889, 450, 9565, 526, 584, 6024, 13026, 742, 525, 3563, 497, 2033, 13, 13, 3644, 366, 1016, 29915, 29873, 1073, 278, 1234, 29892, 1962, 871, 376, 3521, 1642, 1938, 6058, 1018, 304, 1207, 701, 385, 1234, 29889, 1938, 6058, 1962, 916, 1426, 29889, 518, 29914, 25580, 29962, 13, 13, 29903, 545, 29991, 2266, 526, 278, 21420, 310, 278, 3748, 322, 1009, 6590, 29871, 29906, 29900, 29899, 1742, 2342, 1980, 2729, 373, 278, 9076, 29901, 13, 13, 1839, 13026, 2033, 29901, 395, 29955, 29900, 313, 4548, 6270, 29897, 13, 13, 1839, 3563, 497, 2033, 29901, 3929, 272, 368, 27545, 29892, 6057, 472, 29871, 29906, 29945, 29899, 29941, 29945, 383, 7024, 313, 5062, 1332, 295, 4056, 7271, 411, 6460, 4180, 29897], 'total_duration': 712728947, 'load_duration': 188432, 'prompt_eval_count': 42, 'prompt_eval_duration': 42757000, 'eval_count': 72, 'eval_duration': 669247000})]] llm_output=None run=None\n",
      "\n",
      "'''\n",
      "\n",
      "Sure! Here are the aspects of the game and their corresponding 20-word descriptions based on the review:\n",
      "\n",
      "['Price']: $70 (expensive)\n",
      "\n",
      "['Overall']: Poorly optimized, runs at 25-35 FPS (underwhelming experience with poor performance)\n",
      "'''\n",
      "----------\n",
      "Sources\n",
      "poorly optimized, runs between 25 - 35 fps on both low and ultra settings. you ' d think that if ultra was 30 - 35 then low should be 60, but no. even with max settings game still looked odd after disabling up - scaling. a $ 70 title should run at 50 - 60 fps on the lowest settings minimum. and trying to optimize the settings to get better frames i have dumped to many hours into it to get a refund. so here i will sit and wait till they fix the performance.\n",
      "{'source': 'review_01'}\n",
      "----------\n",
      "Token Usage: 114\n",
      "--------------------\n",
      "Summary of token usage: 661\n",
      "Summary of time usage: 4.922862 s\n"
     ]
    }
   ],
   "source": [
    "from langchain.chains import RetrievalQAWithSourcesChain\n",
    "from langchain_core.prompts import PromptTemplate\n",
    "\n",
    "prompt_template = \\\n",
    "'''You are reading reviews of a game to understand the characteristics of the game. Use the following pieces of context to answer user's question. \n",
    "\n",
    "{summaries}\n",
    "\n",
    "Question: {question}\n",
    "\n",
    "If you don't know the answer, output only \"NA\". Do NOT try to make up an answer. Do NOT output other text.'''\n",
    "\n",
    "my_question_template = \\\n",
    "'''Extract the the following aspect of the game from the reviews. Output a short 20 words description for each aspect. The aspect '''\n",
    "\n",
    "# aspects_response_22222 = {k: '' for k in GAME_ASPECTS}\n",
    "sum_of_token_usage, sum_of_time_usage = 0, 0\n",
    "\n",
    "for (start, end) in ((0, 2), (2, 4), (4, 6), (6, 8), (8, 10)):\n",
    "    aspects = GAME_ASPECTS[start:end]\n",
    "    my_question = my_question_template + f\"{'is ' if len(aspects) <= 1 else 'are '}\" + ': ' + f'{aspects}'\n",
    "    print(my_question)\n",
    "\n",
    "    chain =  RetrievalQAWithSourcesChain.from_chain_type(\n",
    "        llm=llm,\n",
    "        chain_type=\"stuff\",\n",
    "        retriever=retriever,\n",
    "        chain_type_kwargs={\n",
    "            \"prompt\": PromptTemplate(\n",
    "                template=prompt_template,\n",
    "                input_variables=[\"summaries\", \"question\"],\n",
    "            )\n",
    "        },\n",
    "        return_source_documents=True,\n",
    "    )\n",
    "\n",
    "    response = chain.invoke(\n",
    "        {\n",
    "            'question': my_question\n",
    "        }, config=chain_config\n",
    "    )\n",
    "\n",
    "    print('\\'\\'\\'')\n",
    "    print(response['answer'])\n",
    "    print('\\'\\'\\'')\n",
    "    # aspects_response_22222[aspect] = response['answer']\n",
    "    print('-'*10)\n",
    "    print('Sources')\n",
    "    for doc in response['source_documents']:\n",
    "        print(doc.page_content)\n",
    "        print(doc.metadata)\n",
    "        print('-'*10)\n",
    "\n",
    "    token_usage_obj = common_deque.pop()\n",
    "    token_usage, time_usage = token_usage_obj['token_usage'], token_usage_obj['time_costed']\n",
    "    sum_of_token_usage += token_usage\n",
    "    sum_of_time_usage += time_usage\n",
    "    print(f'Token Usage: {token_usage}')\n",
    "\n",
    "    print('-'*20)\n",
    "\n",
    "print('Summary of token usage:', sum_of_token_usage)\n",
    "print('Summary of time usage:', sum_of_time_usage / 1e9, 's')"
   ]
  },
  {
   "cell_type": "markdown",
   "metadata": {},
   "source": [
    "---"
   ]
  },
  {
   "cell_type": "markdown",
   "metadata": {},
   "source": [
    "3-3-4"
   ]
  },
  {
   "cell_type": "code",
   "execution_count": 9,
   "metadata": {},
   "outputs": [
    {
     "name": "stderr",
     "output_type": "stream",
     "text": [
      "Number of requested results 5 is greater than number of elements in index 1, updating n_results = 1\n"
     ]
    },
    {
     "name": "stdout",
     "output_type": "stream",
     "text": [
      "Extract the the following aspect of the game from the reviews. Output a short 20 words description for each aspect. The aspect are : ['Gameplay', 'Narrative', 'Accessibility']\n"
     ]
    },
    {
     "name": "stderr",
     "output_type": "stream",
     "text": [
      "Number of requested results 5 is greater than number of elements in index 1, updating n_results = 1\n"
     ]
    },
    {
     "name": "stdout",
     "output_type": "stream",
     "text": [
      "Response in callback\n",
      "generations=[[GenerationChunk(text=\"\\nSure! Here are the aspects of the game and their descriptions based on the review:\\n\\n['Gameplay']: Poorly optimized with inconsistent framerates (20 words)\\n\\n['Narrative']: None mentioned in the review (NA)\\n\\n['Accessibility']: No mention of accessibility features (NA)\", generation_info={'model': 'llama2:7b-chat-q4_K_M', 'created_at': '2024-07-09T05:59:21.167409248Z', 'response': '', 'done': True, 'context': [518, 25580, 29962, 3532, 14816, 29903, 29958, 5299, 829, 14816, 29903, 6778, 13, 13, 3492, 526, 5183, 21804, 310, 263, 3748, 304, 2274, 278, 21862, 310, 278, 3748, 29889, 4803, 278, 1494, 12785, 310, 3030, 304, 1234, 1404, 29915, 29879, 1139, 29889, 29871, 13, 13, 3916, 29901, 6460, 368, 27545, 29892, 6057, 1546, 29871, 29906, 29945, 448, 29871, 29941, 29945, 285, 567, 373, 1716, 4482, 322, 8494, 336, 6055, 29889, 366, 525, 270, 1348, 393, 565, 8494, 336, 471, 29871, 29941, 29900, 448, 29871, 29941, 29945, 769, 4482, 881, 367, 29871, 29953, 29900, 29892, 541, 694, 29889, 1584, 411, 4236, 6055, 3748, 1603, 5148, 7736, 1156, 766, 17961, 701, 448, 21640, 29889, 263, 395, 29871, 29955, 29900, 3611, 881, 1065, 472, 29871, 29945, 29900, 448, 29871, 29953, 29900, 285, 567, 373, 278, 19604, 6055, 9212, 29889, 322, 1811, 304, 24656, 278, 6055, 304, 679, 2253, 16608, 474, 505, 16766, 287, 304, 1784, 6199, 964, 372, 304, 679, 263, 2143, 870, 29889, 577, 1244, 474, 674, 7845, 322, 4480, 3428, 896, 2329, 278, 4180, 29889, 13, 4435, 29901, 9076, 29918, 29900, 29896, 13, 13, 16492, 29901, 7338, 1461, 278, 278, 1494, 9565, 310, 278, 3748, 515, 278, 21804, 29889, 10604, 263, 3273, 29871, 29906, 29900, 3838, 6139, 363, 1269, 9565, 29889, 450, 9565, 526, 584, 6024, 14199, 1456, 742, 525, 29940, 2749, 1230, 742, 525, 6638, 4127, 2033, 13, 13, 3644, 366, 1016, 29915, 29873, 1073, 278, 1234, 29892, 1962, 871, 376, 3521, 1642, 1938, 6058, 1018, 304, 1207, 701, 385, 1234, 29889, 1938, 6058, 1962, 916, 1426, 29889, 518, 29914, 25580, 29962, 13, 13, 29903, 545, 29991, 2266, 526, 278, 21420, 310, 278, 3748, 322, 1009, 2342, 1980, 2729, 373, 278, 9076, 29901, 13, 13, 1839, 14199, 1456, 2033, 29901, 3929, 272, 368, 27545, 411, 22435, 9696, 1424, 4183, 1078, 313, 29906, 29900, 3838, 29897, 13, 13, 1839, 29940, 2749, 1230, 2033, 29901, 6213, 5276, 297, 278, 9076, 313, 3521, 29897, 13, 13, 1839, 6638, 4127, 2033, 29901, 1939, 3585, 310, 2130, 4127, 5680, 313, 3521, 29897], 'total_duration': 738764177, 'load_duration': 191147, 'prompt_eval_count': 48, 'prompt_eval_duration': 42488000, 'eval_count': 75, 'eval_duration': 695653000})]] llm_output=None run=None\n",
      "\n",
      "'''\n",
      "\n",
      "Sure! Here are the aspects of the game and their descriptions based on the review:\n",
      "\n",
      "['Gameplay']: Poorly optimized with inconsistent framerates (20 words)\n",
      "\n",
      "['Narrative']: None mentioned in the review (NA)\n",
      "\n",
      "['Accessibility']: No mention of accessibility features (NA)\n",
      "'''\n",
      "----------\n",
      "Sources\n",
      "poorly optimized, runs between 25 - 35 fps on both low and ultra settings. you ' d think that if ultra was 30 - 35 then low should be 60, but no. even with max settings game still looked odd after disabling up - scaling. a $ 70 title should run at 50 - 60 fps on the lowest settings minimum. and trying to optimize the settings to get better frames i have dumped to many hours into it to get a refund. so here i will sit and wait till they fix the performance.\n",
      "{'source': 'review_01'}\n",
      "----------\n",
      "Token Usage: 123\n",
      "--------------------\n",
      "Extract the the following aspect of the game from the reviews. Output a short 20 words description for each aspect. The aspect are : ['Sound', 'Graphics & Art Design', 'Performance']\n"
     ]
    },
    {
     "name": "stderr",
     "output_type": "stream",
     "text": [
      "Number of requested results 5 is greater than number of elements in index 1, updating n_results = 1\n"
     ]
    },
    {
     "name": "stdout",
     "output_type": "stream",
     "text": [
      "Response in callback\n",
      "generations=[[GenerationChunk(text=\"\\nSure! Here are the aspects of the game and their corresponding descriptions based on the review:\\n\\n['Sound']: Disappointing sound design with poor voice acting. NA\\n\\n['Graphics & Art Design']: Unimpressive graphics with lackluster art design. NA\\n\\n['Performance']: Poorly optimized, runs between 25-35 FPS on both low and ultra settings. Even with max settings, game still looked odd after disabling upscaling. A $70 title should run at 50-60 FPS on the lowest settings minimum. Trying to optimize settings resulted in many hours of frustration and a request for a refund. Waiting for performance issues to be fixed.\", generation_info={'model': 'llama2:7b-chat-q4_K_M', 'created_at': '2024-07-09T05:59:22.690187817Z', 'response': '', 'done': True, 'context': [518, 25580, 29962, 3532, 14816, 29903, 29958, 5299, 829, 14816, 29903, 6778, 13, 13, 3492, 526, 5183, 21804, 310, 263, 3748, 304, 2274, 278, 21862, 310, 278, 3748, 29889, 4803, 278, 1494, 12785, 310, 3030, 304, 1234, 1404, 29915, 29879, 1139, 29889, 29871, 13, 13, 3916, 29901, 6460, 368, 27545, 29892, 6057, 1546, 29871, 29906, 29945, 448, 29871, 29941, 29945, 285, 567, 373, 1716, 4482, 322, 8494, 336, 6055, 29889, 366, 525, 270, 1348, 393, 565, 8494, 336, 471, 29871, 29941, 29900, 448, 29871, 29941, 29945, 769, 4482, 881, 367, 29871, 29953, 29900, 29892, 541, 694, 29889, 1584, 411, 4236, 6055, 3748, 1603, 5148, 7736, 1156, 766, 17961, 701, 448, 21640, 29889, 263, 395, 29871, 29955, 29900, 3611, 881, 1065, 472, 29871, 29945, 29900, 448, 29871, 29953, 29900, 285, 567, 373, 278, 19604, 6055, 9212, 29889, 322, 1811, 304, 24656, 278, 6055, 304, 679, 2253, 16608, 474, 505, 16766, 287, 304, 1784, 6199, 964, 372, 304, 679, 263, 2143, 870, 29889, 577, 1244, 474, 674, 7845, 322, 4480, 3428, 896, 2329, 278, 4180, 29889, 13, 4435, 29901, 9076, 29918, 29900, 29896, 13, 13, 16492, 29901, 7338, 1461, 278, 278, 1494, 9565, 310, 278, 3748, 515, 278, 21804, 29889, 10604, 263, 3273, 29871, 29906, 29900, 3838, 6139, 363, 1269, 9565, 29889, 450, 9565, 526, 584, 6024, 29456, 742, 525, 17290, 669, 3012, 12037, 742, 525, 5894, 13390, 2033, 13, 13, 3644, 366, 1016, 29915, 29873, 1073, 278, 1234, 29892, 1962, 871, 376, 3521, 1642, 1938, 6058, 1018, 304, 1207, 701, 385, 1234, 29889, 1938, 6058, 1962, 916, 1426, 29889, 518, 29914, 25580, 29962, 13, 13, 29903, 545, 29991, 2266, 526, 278, 21420, 310, 278, 3748, 322, 1009, 6590, 2342, 1980, 2729, 373, 278, 9076, 29901, 13, 13, 1839, 29456, 2033, 29901, 3295, 932, 2461, 292, 6047, 2874, 411, 6460, 7314, 16684, 29889, 8598, 13, 13, 1839, 17290, 669, 3012, 12037, 2033, 29901, 853, 326, 2139, 573, 18533, 411, 10225, 29880, 5402, 1616, 2874, 29889, 8598, 13, 13, 1839, 5894, 13390, 2033, 29901, 3929, 272, 368, 27545, 29892, 6057, 1546, 29871, 29906, 29945, 29899, 29941, 29945, 383, 7024, 373, 1716, 4482, 322, 8494, 336, 6055, 29889, 7753, 411, 4236, 6055, 29892, 3748, 1603, 5148, 7736, 1156, 766, 17961, 24081, 1052, 292, 29889, 319, 395, 29955, 29900, 3611, 881, 1065, 472, 29871, 29945, 29900, 29899, 29953, 29900, 383, 7024, 373, 278, 19604, 6055, 9212, 29889, 24428, 304, 24656, 6055, 20601, 297, 1784, 6199, 310, 1424, 11036, 322, 263, 2009, 363, 263, 2143, 870, 29889, 20340, 292, 363, 4180, 5626, 304, 367, 4343, 29889], 'total_duration': 1510330243, 'load_duration': 180199, 'prompt_eval_count': 48, 'prompt_eval_duration': 41815000, 'eval_count': 158, 'eval_duration': 1467948000})]] llm_output=None run=None\n",
      "\n",
      "'''\n",
      "\n",
      "Sure! Here are the aspects of the game and their corresponding descriptions based on the review:\n",
      "\n",
      "['Sound']: Disappointing sound design with poor voice acting. NA\n",
      "\n",
      "['Graphics & Art Design']: Unimpressive graphics with lackluster art design. NA\n",
      "\n",
      "['Performance']: Poorly optimized, runs between 25-35 FPS on both low and ultra settings. Even with max settings, game still looked odd after disabling upscaling. A $70 title should run at 50-60 FPS on the lowest settings minimum. Trying to optimize settings resulted in many hours of frustration and a request for a refund. Waiting for performance issues to be fixed.\n",
      "'''\n",
      "----------\n",
      "Sources\n",
      "poorly optimized, runs between 25 - 35 fps on both low and ultra settings. you ' d think that if ultra was 30 - 35 then low should be 60, but no. even with max settings game still looked odd after disabling up - scaling. a $ 70 title should run at 50 - 60 fps on the lowest settings minimum. and trying to optimize the settings to get better frames i have dumped to many hours into it to get a refund. so here i will sit and wait till they fix the performance.\n",
      "{'source': 'review_01'}\n",
      "----------\n",
      "Token Usage: 206\n",
      "--------------------\n",
      "Extract the the following aspect of the game from the reviews. Output a short 20 words description for each aspect. The aspect are : ['Bug', 'Suggestion', 'Price', 'Overall']\n",
      "Response in callback\n",
      "generations=[[GenerationChunk(text=\"\\nSure! Here are the aspects of the game and their corresponding 20-word descriptions based on the review:\\n\\n['Bug']: Poorly optimized with framerate issues. (NA)\\n\\n['Suggestion']: Optimize settings for better performance. (NA)\\n\\n['Price']: $70 title with subpar performance. (NA)\\n\\n['Overall']: Disappointing experience with poor optimization. (NA)\", generation_info={'model': 'llama2:7b-chat-q4_K_M', 'created_at': '2024-07-09T05:59:23.702136667Z', 'response': '', 'done': True, 'context': [518, 25580, 29962, 3532, 14816, 29903, 29958, 5299, 829, 14816, 29903, 6778, 13, 13, 3492, 526, 5183, 21804, 310, 263, 3748, 304, 2274, 278, 21862, 310, 278, 3748, 29889, 4803, 278, 1494, 12785, 310, 3030, 304, 1234, 1404, 29915, 29879, 1139, 29889, 29871, 13, 13, 3916, 29901, 6460, 368, 27545, 29892, 6057, 1546, 29871, 29906, 29945, 448, 29871, 29941, 29945, 285, 567, 373, 1716, 4482, 322, 8494, 336, 6055, 29889, 366, 525, 270, 1348, 393, 565, 8494, 336, 471, 29871, 29941, 29900, 448, 29871, 29941, 29945, 769, 4482, 881, 367, 29871, 29953, 29900, 29892, 541, 694, 29889, 1584, 411, 4236, 6055, 3748, 1603, 5148, 7736, 1156, 766, 17961, 701, 448, 21640, 29889, 263, 395, 29871, 29955, 29900, 3611, 881, 1065, 472, 29871, 29945, 29900, 448, 29871, 29953, 29900, 285, 567, 373, 278, 19604, 6055, 9212, 29889, 322, 1811, 304, 24656, 278, 6055, 304, 679, 2253, 16608, 474, 505, 16766, 287, 304, 1784, 6199, 964, 372, 304, 679, 263, 2143, 870, 29889, 577, 1244, 474, 674, 7845, 322, 4480, 3428, 896, 2329, 278, 4180, 29889, 13, 4435, 29901, 9076, 29918, 29900, 29896, 13, 13, 16492, 29901, 7338, 1461, 278, 278, 1494, 9565, 310, 278, 3748, 515, 278, 21804, 29889, 10604, 263, 3273, 29871, 29906, 29900, 3838, 6139, 363, 1269, 9565, 29889, 450, 9565, 526, 584, 6024, 29933, 688, 742, 525, 29903, 12981, 602, 742, 525, 13026, 742, 525, 3563, 497, 2033, 13, 13, 3644, 366, 1016, 29915, 29873, 1073, 278, 1234, 29892, 1962, 871, 376, 3521, 1642, 1938, 6058, 1018, 304, 1207, 701, 385, 1234, 29889, 1938, 6058, 1962, 916, 1426, 29889, 518, 29914, 25580, 29962, 13, 13, 29903, 545, 29991, 2266, 526, 278, 21420, 310, 278, 3748, 322, 1009, 6590, 29871, 29906, 29900, 29899, 1742, 2342, 1980, 2729, 373, 278, 9076, 29901, 13, 13, 1839, 29933, 688, 2033, 29901, 3929, 272, 368, 27545, 411, 1424, 4183, 403, 5626, 29889, 313, 3521, 29897, 13, 13, 1839, 29903, 12981, 602, 2033, 29901, 20693, 326, 675, 6055, 363, 2253, 4180, 29889, 313, 3521, 29897, 13, 13, 1839, 13026, 2033, 29901, 395, 29955, 29900, 3611, 411, 1014, 862, 4180, 29889, 313, 3521, 29897, 13, 13, 1839, 3563, 497, 2033, 29901, 3295, 932, 2461, 292, 7271, 411, 6460, 13883, 29889, 313, 3521, 29897], 'total_duration': 999024844, 'load_duration': 178027, 'prompt_eval_count': 51, 'prompt_eval_duration': 42148000, 'eval_count': 103, 'eval_duration': 956319000})]] llm_output=None run=None\n",
      "\n",
      "'''\n",
      "\n",
      "Sure! Here are the aspects of the game and their corresponding 20-word descriptions based on the review:\n",
      "\n",
      "['Bug']: Poorly optimized with framerate issues. (NA)\n",
      "\n",
      "['Suggestion']: Optimize settings for better performance. (NA)\n",
      "\n",
      "['Price']: $70 title with subpar performance. (NA)\n",
      "\n",
      "['Overall']: Disappointing experience with poor optimization. (NA)\n",
      "'''\n",
      "----------\n",
      "Sources\n",
      "poorly optimized, runs between 25 - 35 fps on both low and ultra settings. you ' d think that if ultra was 30 - 35 then low should be 60, but no. even with max settings game still looked odd after disabling up - scaling. a $ 70 title should run at 50 - 60 fps on the lowest settings minimum. and trying to optimize the settings to get better frames i have dumped to many hours into it to get a refund. so here i will sit and wait till they fix the performance.\n",
      "{'source': 'review_01'}\n",
      "----------\n",
      "Token Usage: 154\n",
      "--------------------\n",
      "Summary of token usage: 483\n",
      "Summary of time usage: 3.246371 s\n"
     ]
    }
   ],
   "source": [
    "from langchain.chains import RetrievalQAWithSourcesChain\n",
    "from langchain_core.prompts import PromptTemplate\n",
    "\n",
    "prompt_template = \\\n",
    "'''You are reading reviews of a game to understand the characteristics of the game. Use the following pieces of context to answer user's question. \n",
    "\n",
    "{summaries}\n",
    "\n",
    "Question: {question}\n",
    "\n",
    "If you don't know the answer, output only \"NA\". Do NOT try to make up an answer. Do NOT output other text.'''\n",
    "\n",
    "my_question_template = \\\n",
    "'''Extract the the following aspect of the game from the reviews. Output a short 20 words description for each aspect. The aspect '''\n",
    "\n",
    "# aspects_response_334 = {k: '' for k in GAME_ASPECTS}\n",
    "sum_of_token_usage, sum_of_time_usage = 0, 0\n",
    "\n",
    "for (start, end) in ((0, 3), (3, 6), (6, 10)):\n",
    "    aspects = GAME_ASPECTS[start:end]\n",
    "    my_question = my_question_template + f\"{'is ' if len(aspects) <= 1 else 'are '}\" + ': ' + f'{aspects}'\n",
    "    print(my_question)\n",
    "\n",
    "    chain =  RetrievalQAWithSourcesChain.from_chain_type(\n",
    "        llm=llm,\n",
    "        chain_type=\"stuff\",\n",
    "        retriever=retriever,\n",
    "        chain_type_kwargs={\n",
    "            \"prompt\": PromptTemplate(\n",
    "                template=prompt_template,\n",
    "                input_variables=[\"summaries\", \"question\"],\n",
    "            )\n",
    "        },\n",
    "        return_source_documents=True,\n",
    "    )\n",
    "\n",
    "    response = chain.invoke(\n",
    "        {\n",
    "            'question': my_question\n",
    "        }, config=chain_config\n",
    "    )\n",
    "\n",
    "    print('\\'\\'\\'')\n",
    "    print(response['answer'])\n",
    "    print('\\'\\'\\'')\n",
    "    # aspects_response_334[aspect] = response['answer']\n",
    "    print('-'*10)\n",
    "    print('Sources')\n",
    "    for doc in response['source_documents']:\n",
    "        print(doc.page_content)\n",
    "        print(doc.metadata)\n",
    "        print('-'*10)\n",
    "\n",
    "    token_usage_obj = common_deque.pop()\n",
    "    token_usage, time_usage = token_usage_obj['token_usage'], token_usage_obj['time_costed']\n",
    "    sum_of_token_usage += token_usage\n",
    "    sum_of_time_usage += time_usage\n",
    "    print(f'Token Usage: {token_usage}')\n",
    "\n",
    "    print('-'*20)\n",
    "\n",
    "print('Summary of token usage:', sum_of_token_usage)\n",
    "print('Summary of time usage:', sum_of_time_usage / 1e9, 's')"
   ]
  },
  {
   "cell_type": "markdown",
   "metadata": {},
   "source": [
    "---"
   ]
  },
  {
   "cell_type": "markdown",
   "metadata": {},
   "source": [
    "5 aspects in a prompt"
   ]
  },
  {
   "cell_type": "code",
   "execution_count": 11,
   "metadata": {},
   "outputs": [
    {
     "name": "stderr",
     "output_type": "stream",
     "text": [
      "Number of requested results 5 is greater than number of elements in index 1, updating n_results = 1\n"
     ]
    },
    {
     "name": "stdout",
     "output_type": "stream",
     "text": [
      "Extract the the following aspect of the game from the reviews. Output a short 20 words description for each aspect. The aspect are : ['Gameplay', 'Narrative', 'Accessibility', 'Sound', 'Graphics & Art Design']\n"
     ]
    },
    {
     "name": "stderr",
     "output_type": "stream",
     "text": [
      "Number of requested results 5 is greater than number of elements in index 1, updating n_results = 1\n"
     ]
    },
    {
     "name": "stdout",
     "output_type": "stream",
     "text": [
      "Response in callback\n",
      "generations=[[GenerationChunk(text=\"\\nSure! Here are the aspects of the game and their corresponding descriptions based on the review:\\n\\n['Gameplay']: Disappointing experience with poor optimization. (20 words)\\n\\n['Narrative']: No clear information provided about the narrative. (NA)\\n\\n['Accessibility']: No mention of accessibility features. (NA)\\n\\n['Sound']: Poor sound quality and lack of immersion. (19 words)\\n\\n['Graphics & Art Design']: Graphics are poorly optimized and look odd. (20 words)\", generation_info={'model': 'llama2:7b-chat-q4_K_M', 'created_at': '2024-07-09T06:04:42.008626669Z', 'response': '', 'done': True, 'context': [518, 25580, 29962, 3532, 14816, 29903, 29958, 5299, 829, 14816, 29903, 6778, 13, 13, 3492, 526, 5183, 21804, 310, 263, 3748, 304, 2274, 278, 21862, 310, 278, 3748, 29889, 4803, 278, 1494, 12785, 310, 3030, 304, 1234, 1404, 29915, 29879, 1139, 29889, 29871, 13, 13, 3916, 29901, 6460, 368, 27545, 29892, 6057, 1546, 29871, 29906, 29945, 448, 29871, 29941, 29945, 285, 567, 373, 1716, 4482, 322, 8494, 336, 6055, 29889, 366, 525, 270, 1348, 393, 565, 8494, 336, 471, 29871, 29941, 29900, 448, 29871, 29941, 29945, 769, 4482, 881, 367, 29871, 29953, 29900, 29892, 541, 694, 29889, 1584, 411, 4236, 6055, 3748, 1603, 5148, 7736, 1156, 766, 17961, 701, 448, 21640, 29889, 263, 395, 29871, 29955, 29900, 3611, 881, 1065, 472, 29871, 29945, 29900, 448, 29871, 29953, 29900, 285, 567, 373, 278, 19604, 6055, 9212, 29889, 322, 1811, 304, 24656, 278, 6055, 304, 679, 2253, 16608, 474, 505, 16766, 287, 304, 1784, 6199, 964, 372, 304, 679, 263, 2143, 870, 29889, 577, 1244, 474, 674, 7845, 322, 4480, 3428, 896, 2329, 278, 4180, 29889, 13, 4435, 29901, 9076, 29918, 29900, 29896, 13, 13, 16492, 29901, 7338, 1461, 278, 278, 1494, 9565, 310, 278, 3748, 515, 278, 21804, 29889, 10604, 263, 3273, 29871, 29906, 29900, 3838, 6139, 363, 1269, 9565, 29889, 450, 9565, 526, 584, 6024, 14199, 1456, 742, 525, 29940, 2749, 1230, 742, 525, 6638, 4127, 742, 525, 29456, 742, 525, 17290, 669, 3012, 12037, 2033, 13, 13, 3644, 366, 1016, 29915, 29873, 1073, 278, 1234, 29892, 1962, 871, 376, 3521, 1642, 1938, 6058, 1018, 304, 1207, 701, 385, 1234, 29889, 1938, 6058, 1962, 916, 1426, 29889, 518, 29914, 25580, 29962, 13, 13, 29903, 545, 29991, 2266, 526, 278, 21420, 310, 278, 3748, 322, 1009, 6590, 2342, 1980, 2729, 373, 278, 9076, 29901, 13, 13, 1839, 14199, 1456, 2033, 29901, 3295, 932, 2461, 292, 7271, 411, 6460, 13883, 29889, 313, 29906, 29900, 3838, 29897, 13, 13, 1839, 29940, 2749, 1230, 2033, 29901, 1939, 2821, 2472, 4944, 1048, 278, 15474, 1230, 29889, 313, 3521, 29897, 13, 13, 1839, 6638, 4127, 2033, 29901, 1939, 3585, 310, 2130, 4127, 5680, 29889, 313, 3521, 29897, 13, 13, 1839, 29456, 2033, 29901, 3929, 272, 6047, 11029, 322, 10225, 310, 5198, 4455, 29889, 313, 29896, 29929, 3838, 29897, 13, 13, 1839, 17290, 669, 3012, 12037, 2033, 29901, 29247, 526, 6460, 368, 27545, 322, 1106, 7736, 29889, 313, 29906, 29900, 3838, 29897], 'total_duration': 4279840491, 'load_duration': 3010123270, 'prompt_eval_count': 273, 'prompt_eval_duration': 81269000, 'eval_count': 124, 'eval_duration': 1188091000})]] llm_output=None run=None\n",
      "\n",
      "'''\n",
      "\n",
      "Sure! Here are the aspects of the game and their corresponding descriptions based on the review:\n",
      "\n",
      "['Gameplay']: Disappointing experience with poor optimization. (20 words)\n",
      "\n",
      "['Narrative']: No clear information provided about the narrative. (NA)\n",
      "\n",
      "['Accessibility']: No mention of accessibility features. (NA)\n",
      "\n",
      "['Sound']: Poor sound quality and lack of immersion. (19 words)\n",
      "\n",
      "['Graphics & Art Design']: Graphics are poorly optimized and look odd. (20 words)\n",
      "'''\n",
      "----------\n",
      "Sources\n",
      "poorly optimized, runs between 25 - 35 fps on both low and ultra settings. you ' d think that if ultra was 30 - 35 then low should be 60, but no. even with max settings game still looked odd after disabling up - scaling. a $ 70 title should run at 50 - 60 fps on the lowest settings minimum. and trying to optimize the settings to get better frames i have dumped to many hours into it to get a refund. so here i will sit and wait till they fix the performance.\n",
      "{'source': 'review_01'}\n",
      "----------\n",
      "Token Usage: 397\n",
      "--------------------\n",
      "Extract the the following aspect of the game from the reviews. Output a short 20 words description for each aspect. The aspect are : ['Performance', 'Bug', 'Suggestion', 'Price', 'Overall']\n",
      "Response in callback\n",
      "generations=[[GenerationChunk(text=\"\\nSure! Here are the aspects of the game and their corresponding 20-word descriptions based on the review:\\n\\n['Performance']: Poorly optimized, runs at 25-35 FPS. (NA)\\n\\n['Bug']: None mentioned in the review. (NA)\\n\\n['Suggestion']: Optimize performance for better frame rates. (NA)\\n\\n['Price']: $70 title with subpar performance. (NA)\\n\\n['Overall']: Disappointing experience with poor optimization. (NA)\", generation_info={'model': 'llama2:7b-chat-q4_K_M', 'created_at': '2024-07-09T06:04:43.275605329Z', 'response': '', 'done': True, 'context': [518, 25580, 29962, 3532, 14816, 29903, 29958, 5299, 829, 14816, 29903, 6778, 13, 13, 3492, 526, 5183, 21804, 310, 263, 3748, 304, 2274, 278, 21862, 310, 278, 3748, 29889, 4803, 278, 1494, 12785, 310, 3030, 304, 1234, 1404, 29915, 29879, 1139, 29889, 29871, 13, 13, 3916, 29901, 6460, 368, 27545, 29892, 6057, 1546, 29871, 29906, 29945, 448, 29871, 29941, 29945, 285, 567, 373, 1716, 4482, 322, 8494, 336, 6055, 29889, 366, 525, 270, 1348, 393, 565, 8494, 336, 471, 29871, 29941, 29900, 448, 29871, 29941, 29945, 769, 4482, 881, 367, 29871, 29953, 29900, 29892, 541, 694, 29889, 1584, 411, 4236, 6055, 3748, 1603, 5148, 7736, 1156, 766, 17961, 701, 448, 21640, 29889, 263, 395, 29871, 29955, 29900, 3611, 881, 1065, 472, 29871, 29945, 29900, 448, 29871, 29953, 29900, 285, 567, 373, 278, 19604, 6055, 9212, 29889, 322, 1811, 304, 24656, 278, 6055, 304, 679, 2253, 16608, 474, 505, 16766, 287, 304, 1784, 6199, 964, 372, 304, 679, 263, 2143, 870, 29889, 577, 1244, 474, 674, 7845, 322, 4480, 3428, 896, 2329, 278, 4180, 29889, 13, 4435, 29901, 9076, 29918, 29900, 29896, 13, 13, 16492, 29901, 7338, 1461, 278, 278, 1494, 9565, 310, 278, 3748, 515, 278, 21804, 29889, 10604, 263, 3273, 29871, 29906, 29900, 3838, 6139, 363, 1269, 9565, 29889, 450, 9565, 526, 584, 6024, 5894, 13390, 742, 525, 29933, 688, 742, 525, 29903, 12981, 602, 742, 525, 13026, 742, 525, 3563, 497, 2033, 13, 13, 3644, 366, 1016, 29915, 29873, 1073, 278, 1234, 29892, 1962, 871, 376, 3521, 1642, 1938, 6058, 1018, 304, 1207, 701, 385, 1234, 29889, 1938, 6058, 1962, 916, 1426, 29889, 518, 29914, 25580, 29962, 13, 13, 29903, 545, 29991, 2266, 526, 278, 21420, 310, 278, 3748, 322, 1009, 6590, 29871, 29906, 29900, 29899, 1742, 2342, 1980, 2729, 373, 278, 9076, 29901, 13, 13, 1839, 5894, 13390, 2033, 29901, 3929, 272, 368, 27545, 29892, 6057, 472, 29871, 29906, 29945, 29899, 29941, 29945, 383, 7024, 29889, 313, 3521, 29897, 13, 13, 1839, 29933, 688, 2033, 29901, 6213, 5276, 297, 278, 9076, 29889, 313, 3521, 29897, 13, 13, 1839, 29903, 12981, 602, 2033, 29901, 20693, 326, 675, 4180, 363, 2253, 3515, 19257, 29889, 313, 3521, 29897, 13, 13, 1839, 13026, 2033, 29901, 395, 29955, 29900, 3611, 411, 1014, 862, 4180, 29889, 313, 3521, 29897, 13, 13, 1839, 3563, 497, 2033, 29901, 3295, 932, 2461, 292, 7271, 411, 6460, 13883, 29889, 313, 3521, 29897], 'total_duration': 1254082384, 'load_duration': 204082, 'prompt_eval_count': 55, 'prompt_eval_duration': 41318000, 'eval_count': 126, 'eval_duration': 1212126000})]] llm_output=None run=None\n",
      "\n",
      "'''\n",
      "\n",
      "Sure! Here are the aspects of the game and their corresponding 20-word descriptions based on the review:\n",
      "\n",
      "['Performance']: Poorly optimized, runs at 25-35 FPS. (NA)\n",
      "\n",
      "['Bug']: None mentioned in the review. (NA)\n",
      "\n",
      "['Suggestion']: Optimize performance for better frame rates. (NA)\n",
      "\n",
      "['Price']: $70 title with subpar performance. (NA)\n",
      "\n",
      "['Overall']: Disappointing experience with poor optimization. (NA)\n",
      "'''\n",
      "----------\n",
      "Sources\n",
      "poorly optimized, runs between 25 - 35 fps on both low and ultra settings. you ' d think that if ultra was 30 - 35 then low should be 60, but no. even with max settings game still looked odd after disabling up - scaling. a $ 70 title should run at 50 - 60 fps on the lowest settings minimum. and trying to optimize the settings to get better frames i have dumped to many hours into it to get a refund. so here i will sit and wait till they fix the performance.\n",
      "{'source': 'review_01'}\n",
      "----------\n",
      "Token Usage: 181\n",
      "--------------------\n",
      "Summary of token usage: 578\n",
      "Summary of time usage: 2.522804 s\n"
     ]
    }
   ],
   "source": [
    "from langchain.chains import RetrievalQAWithSourcesChain\n",
    "from langchain_core.prompts import PromptTemplate\n",
    "\n",
    "prompt_template = \\\n",
    "'''You are reading reviews of a game to understand the characteristics of the game. Use the following pieces of context to answer user's question. \n",
    "\n",
    "{summaries}\n",
    "\n",
    "Question: {question}\n",
    "\n",
    "If you don't know the answer, output only \"NA\". Do NOT try to make up an answer. Do NOT output other text.'''\n",
    "\n",
    "my_question_template = \\\n",
    "'''Extract the the following aspect of the game from the reviews. Output a short 20 words description for each aspect. The aspect '''\n",
    "\n",
    "# aspects_response_55 = {k: '' for k in GAME_ASPECTS}\n",
    "sum_of_token_usage, sum_of_time_usage = 0, 0\n",
    "\n",
    "for (start, end) in ((0, 5), (5, 10)):\n",
    "    aspects = GAME_ASPECTS[start:end]\n",
    "    my_question = my_question_template + f\"{'is ' if len(aspects) <= 1 else 'are '}\" + ': ' + f'{aspects}'\n",
    "    print(my_question)\n",
    "\n",
    "    chain =  RetrievalQAWithSourcesChain.from_chain_type(\n",
    "        llm=llm,\n",
    "        chain_type=\"stuff\",\n",
    "        retriever=retriever,\n",
    "        chain_type_kwargs={\n",
    "            \"prompt\": PromptTemplate(\n",
    "                template=prompt_template,\n",
    "                input_variables=[\"summaries\", \"question\"],\n",
    "            )\n",
    "        },\n",
    "        return_source_documents=True,\n",
    "    )\n",
    "\n",
    "    response = chain.invoke(\n",
    "        {\n",
    "            'question': my_question\n",
    "        }, config=chain_config\n",
    "    )\n",
    "\n",
    "    print('\\'\\'\\'')\n",
    "    print(response['answer'])\n",
    "    print('\\'\\'\\'')\n",
    "    # aspects_response_55[aspect] = response['answer']\n",
    "    print('-'*10)\n",
    "    print('Sources')\n",
    "    for doc in response['source_documents']:\n",
    "        print(doc.page_content)\n",
    "        print(doc.metadata)\n",
    "        print('-'*10)\n",
    "\n",
    "    token_usage_obj = common_deque.pop()\n",
    "    token_usage, time_usage = token_usage_obj['token_usage'], token_usage_obj['time_costed']\n",
    "    sum_of_token_usage += token_usage\n",
    "    sum_of_time_usage += time_usage\n",
    "    print(f'Token Usage: {token_usage}')\n",
    "\n",
    "    print('-'*20)\n",
    "\n",
    "print('Summary of token usage:', sum_of_token_usage)\n",
    "print('Summary of time usage:', sum_of_time_usage / 1e9, 's')"
   ]
  },
  {
   "cell_type": "markdown",
   "metadata": {},
   "source": [
    "---"
   ]
  },
  {
   "cell_type": "markdown",
   "metadata": {},
   "source": [
    "10 aspects in a prompt"
   ]
  },
  {
   "cell_type": "code",
   "execution_count": 10,
   "metadata": {},
   "outputs": [
    {
     "name": "stderr",
     "output_type": "stream",
     "text": [
      "Number of requested results 5 is greater than number of elements in index 1, updating n_results = 1\n"
     ]
    },
    {
     "name": "stdout",
     "output_type": "stream",
     "text": [
      "Extract the the following aspect of the game from the reviews. Output a short 20 words description for each aspect. The aspect are : ['Gameplay', 'Narrative', 'Accessibility', 'Sound', 'Graphics & Art Design', 'Performance', 'Bug', 'Suggestion', 'Price', 'Overall']\n",
      "Response in callback\n",
      "generations=[[GenerationChunk(text=\"\\nSure! Here are the aspects of the game and their corresponding 20-word descriptions based on the review:\\n\\n['Gameplay']: Disappointing experience with too much repetition. (NA)\\n\\n['Narrative']: Underwhelming story with too much repetition. (NA)\\n\\n['Accessibility']: No accessibility features mentioned in the review. (NA)\\n\\n['Sound']: Poor sound quality with little to no immersion. (NA)\\n\\n['Graphics & Art Design']: Unimpressive graphics with poor art design. (NA)\\n\\n['Performance']: Poorly optimized game with framerate issues. (60 fps minimum on lowest settings expected)\\n\\n['Bug']: No bug mentions in the review. (NA)\\n\\n['Suggestion']: Improve performance and optimize settings for better experience. (NA)\\n\\n['Price']: $70 title with subpar performance. (NA)\\n\\n['Overall']: Disappointing game with too many issues. (NA)\", generation_info={'model': 'llama2:7b-chat-q4_K_M', 'created_at': '2024-07-09T05:59:25.975399124Z', 'response': '', 'done': True, 'context': [518, 25580, 29962, 3532, 14816, 29903, 29958, 5299, 829, 14816, 29903, 6778, 13, 13, 3492, 526, 5183, 21804, 310, 263, 3748, 304, 2274, 278, 21862, 310, 278, 3748, 29889, 4803, 278, 1494, 12785, 310, 3030, 304, 1234, 1404, 29915, 29879, 1139, 29889, 29871, 13, 13, 3916, 29901, 6460, 368, 27545, 29892, 6057, 1546, 29871, 29906, 29945, 448, 29871, 29941, 29945, 285, 567, 373, 1716, 4482, 322, 8494, 336, 6055, 29889, 366, 525, 270, 1348, 393, 565, 8494, 336, 471, 29871, 29941, 29900, 448, 29871, 29941, 29945, 769, 4482, 881, 367, 29871, 29953, 29900, 29892, 541, 694, 29889, 1584, 411, 4236, 6055, 3748, 1603, 5148, 7736, 1156, 766, 17961, 701, 448, 21640, 29889, 263, 395, 29871, 29955, 29900, 3611, 881, 1065, 472, 29871, 29945, 29900, 448, 29871, 29953, 29900, 285, 567, 373, 278, 19604, 6055, 9212, 29889, 322, 1811, 304, 24656, 278, 6055, 304, 679, 2253, 16608, 474, 505, 16766, 287, 304, 1784, 6199, 964, 372, 304, 679, 263, 2143, 870, 29889, 577, 1244, 474, 674, 7845, 322, 4480, 3428, 896, 2329, 278, 4180, 29889, 13, 4435, 29901, 9076, 29918, 29900, 29896, 13, 13, 16492, 29901, 7338, 1461, 278, 278, 1494, 9565, 310, 278, 3748, 515, 278, 21804, 29889, 10604, 263, 3273, 29871, 29906, 29900, 3838, 6139, 363, 1269, 9565, 29889, 450, 9565, 526, 584, 6024, 14199, 1456, 742, 525, 29940, 2749, 1230, 742, 525, 6638, 4127, 742, 525, 29456, 742, 525, 17290, 669, 3012, 12037, 742, 525, 5894, 13390, 742, 525, 29933, 688, 742, 525, 29903, 12981, 602, 742, 525, 13026, 742, 525, 3563, 497, 2033, 13, 13, 3644, 366, 1016, 29915, 29873, 1073, 278, 1234, 29892, 1962, 871, 376, 3521, 1642, 1938, 6058, 1018, 304, 1207, 701, 385, 1234, 29889, 1938, 6058, 1962, 916, 1426, 29889, 518, 29914, 25580, 29962, 13, 13, 29903, 545, 29991, 2266, 526, 278, 21420, 310, 278, 3748, 322, 1009, 6590, 29871, 29906, 29900, 29899, 1742, 2342, 1980, 2729, 373, 278, 9076, 29901, 13, 13, 1839, 14199, 1456, 2033, 29901, 3295, 932, 2461, 292, 7271, 411, 2086, 1568, 21159, 654, 29889, 313, 3521, 29897, 13, 13, 1839, 29940, 2749, 1230, 2033, 29901, 7634, 1332, 295, 4056, 5828, 411, 2086, 1568, 21159, 654, 29889, 313, 3521, 29897, 13, 13, 1839, 6638, 4127, 2033, 29901, 1939, 2130, 4127, 5680, 5276, 297, 278, 9076, 29889, 313, 3521, 29897, 13, 13, 1839, 29456, 2033, 29901, 3929, 272, 6047, 11029, 411, 2217, 304, 694, 5198, 4455, 29889, 313, 3521, 29897, 13, 13, 1839, 17290, 669, 3012, 12037, 2033, 29901, 853, 326, 2139, 573, 18533, 411, 6460, 1616, 2874, 29889, 313, 3521, 29897, 13, 13, 1839, 5894, 13390, 2033, 29901, 3929, 272, 368, 27545, 3748, 411, 1424, 4183, 403, 5626, 29889, 313, 29953, 29900, 285, 567, 9212, 373, 19604, 6055, 3806, 29897, 13, 13, 1839, 29933, 688, 2033, 29901, 1939, 6494, 26649, 297, 278, 9076, 29889, 313, 3521, 29897, 13, 13, 1839, 29903, 12981, 602, 2033, 29901, 1954, 771, 345, 4180, 322, 24656, 6055, 363, 2253, 7271, 29889, 313, 3521, 29897, 13, 13, 1839, 13026, 2033, 29901, 395, 29955, 29900, 3611, 411, 1014, 862, 4180, 29889, 313, 3521, 29897, 13, 13, 1839, 3563, 497, 2033, 29901, 3295, 932, 2461, 292, 3748, 411, 2086, 1784, 5626, 29889, 313, 3521, 29897], 'total_duration': 2252488901, 'load_duration': 191982, 'prompt_eval_count': 77, 'prompt_eval_duration': 45386000, 'eval_count': 237, 'eval_duration': 2206493000})]] llm_output=None run=None\n",
      "\n",
      "'''\n",
      "\n",
      "Sure! Here are the aspects of the game and their corresponding 20-word descriptions based on the review:\n",
      "\n",
      "['Gameplay']: Disappointing experience with too much repetition. (NA)\n",
      "\n",
      "['Narrative']: Underwhelming story with too much repetition. (NA)\n",
      "\n",
      "['Accessibility']: No accessibility features mentioned in the review. (NA)\n",
      "\n",
      "['Sound']: Poor sound quality with little to no immersion. (NA)\n",
      "\n",
      "['Graphics & Art Design']: Unimpressive graphics with poor art design. (NA)\n",
      "\n",
      "['Performance']: Poorly optimized game with framerate issues. (60 fps minimum on lowest settings expected)\n",
      "\n",
      "['Bug']: No bug mentions in the review. (NA)\n",
      "\n",
      "['Suggestion']: Improve performance and optimize settings for better experience. (NA)\n",
      "\n",
      "['Price']: $70 title with subpar performance. (NA)\n",
      "\n",
      "['Overall']: Disappointing game with too many issues. (NA)\n",
      "'''\n",
      "----------\n",
      "Sources\n",
      "poorly optimized, runs between 25 - 35 fps on both low and ultra settings. you ' d think that if ultra was 30 - 35 then low should be 60, but no. even with max settings game still looked odd after disabling up - scaling. a $ 70 title should run at 50 - 60 fps on the lowest settings minimum. and trying to optimize the settings to get better frames i have dumped to many hours into it to get a refund. so here i will sit and wait till they fix the performance.\n",
      "{'source': 'review_01'}\n",
      "----------\n",
      "Token Usage: 314\n",
      "--------------------\n",
      "Summary of token usage: 314\n",
      "Summary of time usage: 2.251879 s\n"
     ]
    }
   ],
   "source": [
    "from langchain.chains import RetrievalQAWithSourcesChain\n",
    "from langchain_core.prompts import PromptTemplate\n",
    "\n",
    "prompt_template = \\\n",
    "'''You are reading reviews of a game to understand the characteristics of the game. Use the following pieces of context to answer user's question. \n",
    "\n",
    "{summaries}\n",
    "\n",
    "Question: {question}\n",
    "\n",
    "If you don't know the answer, output only \"NA\". Do NOT try to make up an answer. Do NOT output other text.'''\n",
    "\n",
    "my_question_template = \\\n",
    "'''Extract the the following aspect of the game from the reviews. Output a short 20 words description for each aspect. The aspect '''\n",
    "\n",
    "# aspects_response_10 = {k: '' for k in GAME_ASPECTS}\n",
    "sum_of_token_usage, sum_of_time_usage = 0, 0\n",
    "\n",
    "\n",
    "aspects = GAME_ASPECTS\n",
    "my_question = my_question_template + f\"{'is ' if len(aspects) <= 1 else 'are '}\" + ': ' + f'{aspects}'\n",
    "print(my_question)\n",
    "\n",
    "chain =  RetrievalQAWithSourcesChain.from_chain_type(\n",
    "    llm=llm,\n",
    "    chain_type=\"stuff\",\n",
    "    retriever=retriever,\n",
    "    chain_type_kwargs={\n",
    "        \"prompt\": PromptTemplate(\n",
    "            template=prompt_template,\n",
    "            input_variables=[\"summaries\", \"question\"],\n",
    "        )\n",
    "    },\n",
    "    return_source_documents=True,\n",
    ")\n",
    "\n",
    "response = chain.invoke(\n",
    "    {\n",
    "        'question': my_question\n",
    "    }, config=chain_config\n",
    ")\n",
    "\n",
    "print('\\'\\'\\'')\n",
    "print(response['answer'])\n",
    "print('\\'\\'\\'')\n",
    "# aspects_response_10[aspect] = response['answer']\n",
    "print('-'*10)\n",
    "print('Sources')\n",
    "for doc in response['source_documents']:\n",
    "    print(doc.page_content)\n",
    "    print(doc.metadata)\n",
    "    print('-'*10)\n",
    "\n",
    "token_usage_obj = common_deque.pop()\n",
    "token_usage, time_usage = token_usage_obj['token_usage'], token_usage_obj['time_costed']\n",
    "sum_of_token_usage += token_usage\n",
    "sum_of_time_usage += time_usage\n",
    "print(f'Token Usage: {token_usage}')\n",
    "\n",
    "print('-'*20)\n",
    "\n",
    "print('Summary of token usage:', sum_of_token_usage)\n",
    "print('Summary of time usage:', sum_of_time_usage / 1e9, 's')"
   ]
  },
  {
   "cell_type": "markdown",
   "metadata": {},
   "source": [
    "---"
   ]
  },
  {
   "cell_type": "markdown",
   "metadata": {},
   "source": [
    "Observation\n",
    "\n",
    "In short reviews, the quality of different prompting strategies have a few differences.\n",
    "\n",
    "If prompting all aspects at a prompt -> little repetitive contents over different aspects. (Like the LLM assumes a new conservation for each call, if the aspects are similar yet appear in different prompts, similar result may reappear.)\n",
    "\n",
    "The more the aspects prompted in a single prompt, the briefer the content of each aspect will be.\n",
    "\n",
    "3-3-4 and 2-2-2-2-2 seems to be a decent balance between token usage, number of calls to the LLM."
   ]
  },
  {
   "cell_type": "markdown",
   "metadata": {},
   "source": [
    "For medium to long reviews where multiple points/ideas towards a single \"aspect\" is mentioned, the model may output things beyond our expected output."
   ]
  },
  {
   "cell_type": "markdown",
   "metadata": {},
   "source": []
  }
 ],
 "metadata": {
  "kernelspec": {
   "display_name": "fyp-test-wsl-tm",
   "language": "python",
   "name": "python3"
  },
  "language_info": {
   "codemirror_mode": {
    "name": "ipython",
    "version": 3
   },
   "file_extension": ".py",
   "mimetype": "text/x-python",
   "name": "python",
   "nbconvert_exporter": "python",
   "pygments_lexer": "ipython3",
   "version": "3.9.18"
  }
 },
 "nbformat": 4,
 "nbformat_minor": 2
}

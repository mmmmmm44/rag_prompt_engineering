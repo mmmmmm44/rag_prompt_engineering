{
 "cells": [
  {
   "cell_type": "markdown",
   "metadata": {},
   "source": [
    "# Further Development\n",
    "\n",
    "Part 1: Increasing number of aspects.\n",
    "\n",
    "One aspect is extracted from a call of the prompt. Collect the results to a python dictionary object. Then condense the senetences and output the sentences as a JSON object."
   ]
  },
  {
   "cell_type": "code",
   "execution_count": 1,
   "metadata": {},
   "outputs": [],
   "source": [
    "GAME_ASPECTS = [\n",
    "    'Gameplay', \n",
    "    'Narrative', \n",
    "    'Accessibility', \n",
    "    'Sound', \n",
    "    'Graphics & Art Design', \n",
    "    'Performance', \n",
    "    'Bug', \n",
    "    'Suggestion', \n",
    "    'Price', \n",
    "    'Overall'\n",
    "]\n",
    "\n",
    "# previously\n",
    "# aspects = ['Gameplay', 'Sound', 'Graphics', 'Performance', 'Bug', 'Suggestion', 'Price', 'Overall']"
   ]
  },
  {
   "cell_type": "code",
   "execution_count": 2,
   "metadata": {},
   "outputs": [],
   "source": [
    "import reviews._reviews02 as reviews02"
   ]
  },
  {
   "cell_type": "code",
   "execution_count": 3,
   "metadata": {},
   "outputs": [
    {
     "name": "stderr",
     "output_type": "stream",
     "text": [
      "/root/.local/lib/python3.9/site-packages/tqdm/auto.py:21: TqdmWarning: IProgress not found. Please update jupyter and ipywidgets. See https://ipywidgets.readthedocs.io/en/stable/user_install.html\n",
      "  from .autonotebook import tqdm as notebook_tqdm\n",
      "/root/miniforge3/envs/fyp-test-wsl-tm/lib/python3.9/site-packages/torch/_utils.py:831: UserWarning: TypedStorage is deprecated. It will be removed in the future and UntypedStorage will be the only storage class. This should only matter to you if you are using storages directly.  To access UntypedStorage directly, use tensor.untyped_storage() instead of tensor.storage()\n",
      "  return self.fget.__get__(instance, owner)()\n"
     ]
    }
   ],
   "source": [
    "from langchain.vectorstores import Chroma\n",
    "from langchain.text_splitter import CharacterTextSplitter\n",
    "from langchain_community.document_loaders import TextLoader, DirectoryLoader\n",
    "from langchain_community.embeddings.sentence_transformer import (\n",
    "    SentenceTransformerEmbeddings,\n",
    ")\n",
    "\n",
    "# select a comment to test with\n",
    "review_text = reviews02.sample_01\n",
    "\n",
    "text_splitter = CharacterTextSplitter(chunk_size=1000, chunk_overlap=0)\n",
    "docs = text_splitter.create_documents([review_text], metadatas=[{\"source\":\"review_01\"}])\n",
    "\n",
    "embedding_func = SentenceTransformerEmbeddings(model_name=\"all-MiniLM-L6-v2\")\n",
    "\n",
    "db = Chroma.from_documents(docs, embedding_func)\n",
    "\n",
    "retriever = db.as_retriever(search_kwargs={\"k\": 5})"
   ]
  },
  {
   "cell_type": "code",
   "execution_count": 4,
   "metadata": {},
   "outputs": [],
   "source": [
    "from langchain_community.llms import Ollama\n",
    "\n",
    "llm = Ollama(model='llama2:7b-chat-q4_K_M', temperature=0.2)        # set to a lower temperature for more consistent results"
   ]
  },
  {
   "cell_type": "code",
   "execution_count": 5,
   "metadata": {},
   "outputs": [
    {
     "name": "stderr",
     "output_type": "stream",
     "text": [
      "Number of requested results 5 is greater than number of elements in index 1, updating n_results = 1\n"
     ]
    },
    {
     "name": "stdout",
     "output_type": "stream",
     "text": [
      "Extract the the following aspect of the game from the reviews. Output a short 20 words description for each aspect. The aspect is: Gameplay\n"
     ]
    },
    {
     "name": "stderr",
     "output_type": "stream",
     "text": [
      "Number of requested results 5 is greater than number of elements in index 1, updating n_results = 1\n",
      "Number of requested results 5 is greater than number of elements in index 1, updating n_results = 1\n"
     ]
    },
    {
     "name": "stdout",
     "output_type": "stream",
     "text": [
      "'''\n",
      "\n",
      "Gameplay:\n",
      "\n",
      "* NA - No information provided in the review about gameplay.\n",
      "'''\n",
      "----------\n",
      "Sources\n",
      "poorly optimized, runs between 25 - 35 fps on both low and ultra settings. you ' d think that if ultra was 30 - 35 then low should be 60, but no. even with max settings game still looked odd after disabling up - scaling. a $ 70 title should run at 50 - 60 fps on the lowest settings minimum. and trying to optimize the settings to get better frames i have dumped to many hours into it to get a refund. so here i will sit and wait till they fix the performance.\n",
      "{'source': 'review_01'}\n",
      "----------\n",
      "--------------------\n",
      "Extract the the following aspect of the game from the reviews. Output a short 20 words description for each aspect. The aspect is: Narrative\n",
      "'''\n",
      "\n",
      "Narrative: NA\n",
      "'''\n",
      "----------\n",
      "Sources\n",
      "poorly optimized, runs between 25 - 35 fps on both low and ultra settings. you ' d think that if ultra was 30 - 35 then low should be 60, but no. even with max settings game still looked odd after disabling up - scaling. a $ 70 title should run at 50 - 60 fps on the lowest settings minimum. and trying to optimize the settings to get better frames i have dumped to many hours into it to get a refund. so here i will sit and wait till they fix the performance.\n",
      "{'source': 'review_01'}\n",
      "----------\n",
      "--------------------\n",
      "Extract the the following aspect of the game from the reviews. Output a short 20 words description for each aspect. The aspect is: Accessibility\n"
     ]
    },
    {
     "name": "stderr",
     "output_type": "stream",
     "text": [
      "Number of requested results 5 is greater than number of elements in index 1, updating n_results = 1\n",
      "Number of requested results 5 is greater than number of elements in index 1, updating n_results = 1\n"
     ]
    },
    {
     "name": "stdout",
     "output_type": "stream",
     "text": [
      "'''\n",
      "\n",
      "Accessibility: NA\n",
      "'''\n",
      "----------\n",
      "Sources\n",
      "poorly optimized, runs between 25 - 35 fps on both low and ultra settings. you ' d think that if ultra was 30 - 35 then low should be 60, but no. even with max settings game still looked odd after disabling up - scaling. a $ 70 title should run at 50 - 60 fps on the lowest settings minimum. and trying to optimize the settings to get better frames i have dumped to many hours into it to get a refund. so here i will sit and wait till they fix the performance.\n",
      "{'source': 'review_01'}\n",
      "----------\n",
      "--------------------\n",
      "Extract the the following aspect of the game from the reviews. Output a short 20 words description for each aspect. The aspect is: Sound\n",
      "'''\n",
      "\n",
      "Sound: NA\n",
      "'''\n",
      "----------\n",
      "Sources\n",
      "poorly optimized, runs between 25 - 35 fps on both low and ultra settings. you ' d think that if ultra was 30 - 35 then low should be 60, but no. even with max settings game still looked odd after disabling up - scaling. a $ 70 title should run at 50 - 60 fps on the lowest settings minimum. and trying to optimize the settings to get better frames i have dumped to many hours into it to get a refund. so here i will sit and wait till they fix the performance.\n",
      "{'source': 'review_01'}\n",
      "----------\n",
      "--------------------\n",
      "Extract the the following aspect of the game from the reviews. Output a short 20 words description for each aspect. The aspect is: Graphics & Art Design\n"
     ]
    },
    {
     "name": "stderr",
     "output_type": "stream",
     "text": [
      "Number of requested results 5 is greater than number of elements in index 1, updating n_results = 1\n"
     ]
    },
    {
     "name": "stdout",
     "output_type": "stream",
     "text": [
      "'''\n",
      "\n",
      "Graphics & Art Design:\n",
      "\n",
      "* NA - The game's graphics and art design are not well-optimized.\n",
      "* NA - Even with max settings, the game's visuals look odd after disabling upscaling.\n",
      "* 20 words - Poorly optimized graphics and art design.\n",
      "'''\n",
      "----------\n",
      "Sources\n",
      "poorly optimized, runs between 25 - 35 fps on both low and ultra settings. you ' d think that if ultra was 30 - 35 then low should be 60, but no. even with max settings game still looked odd after disabling up - scaling. a $ 70 title should run at 50 - 60 fps on the lowest settings minimum. and trying to optimize the settings to get better frames i have dumped to many hours into it to get a refund. so here i will sit and wait till they fix the performance.\n",
      "{'source': 'review_01'}\n",
      "----------\n",
      "--------------------\n",
      "Extract the the following aspect of the game from the reviews. Output a short 20 words description for each aspect. The aspect is: Performance\n"
     ]
    },
    {
     "name": "stderr",
     "output_type": "stream",
     "text": [
      "Number of requested results 5 is greater than number of elements in index 1, updating n_results = 1\n"
     ]
    },
    {
     "name": "stdout",
     "output_type": "stream",
     "text": [
      "'''\n",
      "\n",
      "Sure! Here are the aspects of the game related to performance that can be extracted from the review:\n",
      "\n",
      "1. Frame rate: Poorly optimized, runs between 25-35 FPS on both low and ultra settings.\n",
      "2. Up-scaling: Disabling up-scaling improves the game's appearance, but it should not be necessary to do so.\n",
      "3. Minimum frame rate: A $70 title should run at 50-60 FPS on the lowest settings minimum.\n",
      "4. Optimization: Trying to optimize settings to improve frames resulted in many hours of playtime and no refund.\n",
      "'''\n",
      "----------\n",
      "Sources\n",
      "poorly optimized, runs between 25 - 35 fps on both low and ultra settings. you ' d think that if ultra was 30 - 35 then low should be 60, but no. even with max settings game still looked odd after disabling up - scaling. a $ 70 title should run at 50 - 60 fps on the lowest settings minimum. and trying to optimize the settings to get better frames i have dumped to many hours into it to get a refund. so here i will sit and wait till they fix the performance.\n",
      "{'source': 'review_01'}\n",
      "----------\n",
      "--------------------\n",
      "Extract the the following aspect of the game from the reviews. Output a short 20 words description for each aspect. The aspect is: Bug\n",
      "'''\n",
      "\n",
      "Bug:\n",
      "\n",
      "* NA (No answer found in the review)\n",
      "'''\n",
      "----------\n",
      "Sources\n",
      "poorly optimized, runs between 25 - 35 fps on both low and ultra settings. you ' d think that if ultra was 30 - 35 then low should be 60, but no. even with max settings game still looked odd after disabling up - scaling. a $ 70 title should run at 50 - 60 fps on the lowest settings minimum. and trying to optimize the settings to get better frames i have dumped to many hours into it to get a refund. so here i will sit and wait till they fix the performance.\n",
      "{'source': 'review_01'}\n",
      "----------\n",
      "--------------------\n",
      "Extract the the following aspect of the game from the reviews. Output a short 20 words description for each aspect. The aspect is: Suggestion\n"
     ]
    },
    {
     "name": "stderr",
     "output_type": "stream",
     "text": [
      "Number of requested results 5 is greater than number of elements in index 1, updating n_results = 1\n",
      "Number of requested results 5 is greater than number of elements in index 1, updating n_results = 1\n"
     ]
    },
    {
     "name": "stdout",
     "output_type": "stream",
     "text": [
      "'''\n",
      "\n",
      "Sure! Here are the aspects of the game and their corresponding 20-word descriptions based on the review:\n",
      "\n",
      "1. Suggestion for optimization: NA\n",
      "2. Expected FPS range: 50-60 fps (minimum)\n",
      "3. Actual FPS range: 25-35 fps (both low and ultra settings)\n",
      "'''\n",
      "----------\n",
      "Sources\n",
      "poorly optimized, runs between 25 - 35 fps on both low and ultra settings. you ' d think that if ultra was 30 - 35 then low should be 60, but no. even with max settings game still looked odd after disabling up - scaling. a $ 70 title should run at 50 - 60 fps on the lowest settings minimum. and trying to optimize the settings to get better frames i have dumped to many hours into it to get a refund. so here i will sit and wait till they fix the performance.\n",
      "{'source': 'review_01'}\n",
      "----------\n",
      "--------------------\n",
      "Extract the the following aspect of the game from the reviews. Output a short 20 words description for each aspect. The aspect is: Price\n"
     ]
    },
    {
     "name": "stderr",
     "output_type": "stream",
     "text": [
      "Number of requested results 5 is greater than number of elements in index 1, updating n_results = 1\n"
     ]
    },
    {
     "name": "stdout",
     "output_type": "stream",
     "text": [
      "'''\n",
      "\n",
      "Here are the aspects of the game related to price based on the review provided:\n",
      "\n",
      "Price: $70 (NA)\n",
      "'''\n",
      "----------\n",
      "Sources\n",
      "poorly optimized, runs between 25 - 35 fps on both low and ultra settings. you ' d think that if ultra was 30 - 35 then low should be 60, but no. even with max settings game still looked odd after disabling up - scaling. a $ 70 title should run at 50 - 60 fps on the lowest settings minimum. and trying to optimize the settings to get better frames i have dumped to many hours into it to get a refund. so here i will sit and wait till they fix the performance.\n",
      "{'source': 'review_01'}\n",
      "----------\n",
      "--------------------\n",
      "Extract the the following aspect of the game from the reviews. Output a short 20 words description for each aspect. The aspect is: Overall\n",
      "'''\n",
      "\n",
      "Overall: Poorly optimized game with inconsistent framerates.\n",
      "'''\n",
      "----------\n",
      "Sources\n",
      "poorly optimized, runs between 25 - 35 fps on both low and ultra settings. you ' d think that if ultra was 30 - 35 then low should be 60, but no. even with max settings game still looked odd after disabling up - scaling. a $ 70 title should run at 50 - 60 fps on the lowest settings minimum. and trying to optimize the settings to get better frames i have dumped to many hours into it to get a refund. so here i will sit and wait till they fix the performance.\n",
      "{'source': 'review_01'}\n",
      "----------\n",
      "--------------------\n"
     ]
    }
   ],
   "source": [
    "from langchain.chains import RetrievalQAWithSourcesChain\n",
    "from langchain_core.prompts import PromptTemplate\n",
    "\n",
    "prompt_template = \\\n",
    "'''You are reading reviews of a game to understand the characteristics of the game. Use the following pieces of context to answer user's question. \n",
    "\n",
    "{summaries}\n",
    "\n",
    "Question: {question}\n",
    "\n",
    "If you don't know the answer, output only \"NA\". Do NOT try to make up an answer. Do NOT output other text.'''\n",
    "\n",
    "my_question_template = \\\n",
    "'''Extract the the following aspect of the game from the reviews. Output a short 20 words description for each aspect. The aspect is: '''\n",
    "\n",
    "aspects = GAME_ASPECTS\n",
    "aspects_response = {k: '' for k in aspects}\n",
    "\n",
    "for aspect in aspects:\n",
    "    my_question = my_question_template + f'{aspect}'\n",
    "    print(my_question)\n",
    "\n",
    "    chain =  RetrievalQAWithSourcesChain.from_chain_type(\n",
    "        llm=llm,\n",
    "        chain_type=\"stuff\",\n",
    "        retriever=retriever,\n",
    "        chain_type_kwargs={\n",
    "            \"prompt\": PromptTemplate(\n",
    "                template=prompt_template,\n",
    "                input_variables=[\"summaries\", \"question\"],\n",
    "            )\n",
    "        },\n",
    "        return_source_documents=True,\n",
    "    )\n",
    "\n",
    "    response = chain.invoke(\n",
    "        {\n",
    "            'question': my_question\n",
    "        }\n",
    "    )\n",
    "\n",
    "    print('\\'\\'\\'')\n",
    "    print(response['answer'])\n",
    "    print('\\'\\'\\'')\n",
    "    aspects_response[aspect] = response['answer']\n",
    "    print('-'*10)\n",
    "    print('Sources')\n",
    "    for doc in response['source_documents']:\n",
    "        print(doc.page_content)\n",
    "        print(doc.metadata)\n",
    "        print('-'*10)\n",
    "\n",
    "    print('-'*20)"
   ]
  },
  {
   "cell_type": "markdown",
   "metadata": {},
   "source": [
    "It's noted that fewer chunks will be produced in the in-memory vector database -> all aspects will have the same chunk to generate content.\n",
    "\n",
    "Keep that in mind, it gives us opportunity to adjust the way of splitting the text for storing in the vector database."
   ]
  },
  {
   "cell_type": "markdown",
   "metadata": {},
   "source": [
    "---"
   ]
  },
  {
   "cell_type": "markdown",
   "metadata": {},
   "source": [
    "Bonus: Multiple aspects at once, from the aspects above, without using RetrievalQAWithSourcesChain"
   ]
  },
  {
   "cell_type": "code",
   "execution_count": 6,
   "metadata": {},
   "outputs": [
    {
     "name": "stdout",
     "output_type": "stream",
     "text": [
      "Here are the 20-word descriptions for each aspect of the game based on the reviews provided:\n",
      "\n",
      "['Gameplay']: NA - No information provided in the review about gameplay.\n",
      "\n",
      "['Narrative']': NA - No information provided in the review about narrative.\n",
      "\n",
      "['Accessibility']: NA - No information provided in the review about accessibility.\n",
      "\n",
      "['Sound']: NA - No information provided in the review about sound.\n",
      "\n",
      "['Graphics & Art Design']:\n",
      "\n",
      "* Poorly optimized graphics and art design (20 words)\n",
      "* Even with max settings, the game's visuals look odd after disabling upscaling (20 words)\n",
      "\n",
      "['Performance']:\n",
      "\n",
      "1. Frame rate: Poorly optimized, runs between 25-35 FPS on both low and ultra settings. (20 words)\n",
      "2. Up-scaling: Disabling up-scaling improves the game's appearance, but it should not be necessary to do so. (20 words)\n",
      "3. Minimum frame rate: A $70 title should run at 50-60 FPS on the lowest settings minimum. (20 words)\n",
      "4. Optimization: Trying to optimize settings to improve frames resulted in many hours of playtime and no refund. (20 words)\n",
      "\n",
      "['Bug']': NA - No answer found in the review.\n",
      "\n",
      "['Suggestion']': NA - No suggestion for optimization provided in the review.\n",
      "\n",
      "['Price']': $70 - No information provided in the review about price.\n",
      "\n",
      "['Overall']': Poorly optimized game with inconsistent framerates. (20 words)\n"
     ]
    }
   ],
   "source": [
    "from langchain_core.prompts import ChatPromptTemplate\n",
    "\n",
    "system_template = \\\n",
    "'''You are reading reviews of a game to understand the characteristics of the game. Use the following pieces of context to answer user's question.\n",
    "'''\n",
    "\n",
    "summary_template = \\\n",
    "'''Extract the following aspects of the game from the reviews, and write a short 20 words description for each aspect. The aspects are: {aspects}. Do NOT output other text.\n",
    "\n",
    "The context is wrapped by three consecutive apostrophes. The context is as follows:\n",
    "\\'\\'\\'\n",
    "{context}\n",
    "\\'\\'\\'\n",
    "'''\n",
    "\n",
    "chat_prompt = ChatPromptTemplate.from_messages([\n",
    "    (\"system\", system_template),\n",
    "    (\"human\", summary_template),\n",
    "])\n",
    "\n",
    "chain = chat_prompt | llm\n",
    "response = chain.invoke({\"context\":str(aspects_response), \"aspects\":str(aspects)})\n",
    "\n",
    "print(response)"
   ]
  },
  {
   "cell_type": "markdown",
   "metadata": {},
   "source": [
    "Observation\n",
    "\n",
    "1. When more aspects are asked in the same sentence, while equal importance should be paid to each aspect, there is a random attention shift in prompting the model, which leads to ignorance of some aspects, or more than expected aspects\n",
    "\n",
    "2. When prompting for more aspects (1 aspect at a time vs all aspects), more information can be provided in 1 aspect at a prompt, which is as expected due to the generative nature of the model. Optimization may exist in targeting with different length of content for more efficient token usage."
   ]
  },
  {
   "cell_type": "markdown",
   "metadata": {},
   "source": []
  }
 ],
 "metadata": {
  "kernelspec": {
   "display_name": "fyp-test-wsl-tm",
   "language": "python",
   "name": "python3"
  },
  "language_info": {
   "codemirror_mode": {
    "name": "ipython",
    "version": 3
   },
   "file_extension": ".py",
   "mimetype": "text/x-python",
   "name": "python",
   "nbconvert_exporter": "python",
   "pygments_lexer": "ipython3",
   "version": "3.9.-1"
  }
 },
 "nbformat": 4,
 "nbformat_minor": 2
}

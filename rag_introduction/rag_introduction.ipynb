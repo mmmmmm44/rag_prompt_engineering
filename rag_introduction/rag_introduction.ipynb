{
 "cells": [
  {
   "cell_type": "markdown",
   "metadata": {},
   "source": [
    "# RAG in LangChain\n",
    "\n",
    "The jupyter notebook of storing the code and result of the Medium article"
   ]
  },
  {
   "cell_type": "code",
   "execution_count": 1,
   "metadata": {},
   "outputs": [
    {
     "name": "stderr",
     "output_type": "stream",
     "text": [
      "/root/.local/lib/python3.9/site-packages/tqdm/auto.py:21: TqdmWarning: IProgress not found. Please update jupyter and ipywidgets. See https://ipywidgets.readthedocs.io/en/stable/user_install.html\n",
      "  from .autonotebook import tqdm as notebook_tqdm\n",
      "/root/miniforge3/envs/fyp-test-wsl-tm/lib/python3.9/site-packages/torch/_utils.py:831: UserWarning: TypedStorage is deprecated. It will be removed in the future and UntypedStorage will be the only storage class. This should only matter to you if you are using storages directly.  To access UntypedStorage directly, use tensor.untyped_storage() instead of tensor.storage()\n",
      "  return self.fget.__get__(instance, owner)()\n",
      "Created a chunk of size 1087, which is longer than the specified 1000\n",
      "Created a chunk of size 1208, which is longer than the specified 1000\n",
      "/root/miniforge3/envs/fyp-test-wsl-tm/lib/python3.9/site-packages/langchain_core/_api/deprecation.py:117: LangChainDeprecationWarning: The function `__call__` was deprecated in LangChain 0.1.0 and will be removed in 0.2.0. Use invoke instead.\n",
      "  warn_deprecated(\n"
     ]
    },
    {
     "name": "stdout",
     "output_type": "stream",
     "text": [
      "{'query': 'What are the drawbacks of the game?', 'result': \"I don't know the answer to your question as the text you provided does not mention any drawbacks or negative aspects of the game. In fact, it seems to highlight the expansion's strengths and how it improves upon the original game. The text mentions that the new cyberware system adds another layer of complexity to creating an effective build, and that the Relic skill tree is not particularly deep but adds a wrinkle to the formula with new cyberware and perks. It also highlights the expansion's ability to provide three completely different gameplay experiences, which is a significant strength. Therefore, I cannot answer your question as there are no drawbacks mentioned in the text you provided.\", 'source_documents': [Document(page_content=\"The new cyberware system adds another layer to creating an effective build, letting you fine-tune your character with specific stat buffs, additional abilities, and quickhacks. Phantom Liberty introduces the Relic skill tree as well, and while it isn't particularly deep, it adds a wrinkle to the formula with new cyberware like the quickhack-infused Monowire melee weapon, or additional perks that give an upper hand for stealth or hitting enemy weak spots. Cyberpunk 2077's RPG identity is much stronger now than it was previously and Phantom Liberty's combat scenarios substantially benefit from this reinvented foundation. Together, it all results in a uniquely satisfying gameplay experience.\", metadata={'source': 'cyberpunk_2077_phantom_liberty/cyberpunk_2077_phantom_liberty_02.txt'}), Document(page_content=\"For all these changes, Cyberpunk 2077 is a vastly better RPG as a result. I felt more ownership over my V than I ever have - and thanks to an ease of access to respec, I was free to experiment and find a play-style that bought me the most glee (in my case, an incredible hacker who fries brains from afar before dashing in to mop up the remnants with super-speed and a samurai sword). Even simple stuff, like taking clothing out of the stats equation, ups the role-playing value - my V now dresses for fashion sense rather than stats.\\n\\nSkill trees have been significantly reimagined, and there's even an all-new tree to explore.\", metadata={'source': 'cyberpunk_2077_phantom_liberty/cyberpunk_2077_phantom_liberty_03.txt'}), Document(page_content='All of this is a lot to basically say: I think that Phantom Liberty might be one of the best expansions I have ever played. Certainly, it’s up there with The Witcher 3’s Blood and Wine, which was also one of the best. That makes it worthy of a top score in itself - but when paired with Cyberpunk’s incredible overhaul - it’s a comeback for the ages.\\n\\nCyberpunk 2077 was, like I said, always good. I’d go so far as to argue it was great, in fact - so long as you had the machine to make it work. There never should’ve been a PS4 or Xbox One version. That’s the truth. But in some ways, the humiliation of that botched launch might’ve been one of the best possible outcomes. It has clearly made CD Projekt RED rethink and refocus. It set a fire in the belly of its developers and made them spend the two years not just building an attractive add-on, but also bolstering the original game to be the best it can be.', metadata={'source': 'cyberpunk_2077_phantom_liberty/cyberpunk_2077_phantom_liberty_03.txt'}), Document(page_content='But we can also go full Kill Bill – quadruple-dash in mid-air, slicing through armored enemies and slashing cars at full speed on one of those insanely fast motorbikes. Quentin Tarantino likes to chat with other Hollywood directors about movies and games on his podcast. There’s no doubt he’ll be celebrating Phantom Liberty.\\n\\nWe bounce bullets with the katana like we’re Luke Skywalker. And go ultra-hacker Mr. Robot style. Because everyone wears cyberware here, you can pull a lot of shenanigans with it, like exploding grenades on enemy belts.\\n\\nThat’s the ultimate freedom that the skill trees give us and that makes Phantom Liberty so damn strong. You can play through this RPG epic three times and will get three completely different gameplay experiences, which is a huge strength of this game.\\n\\nDogtown is a dystopian, breathtakingly beautiful pathtracing playground', metadata={'source': 'cyberpunk_2077_phantom_liberty/cyberpunk_2077_phantom_liberty_04.txt'})]}\n"
     ]
    }
   ],
   "source": [
    "from pathlib import Path\n",
    "from langchain_community.llms import Ollama\n",
    "from langchain.vectorstores import Chroma\n",
    "from langchain.text_splitter import CharacterTextSplitter\n",
    "from langchain_community.document_loaders import TextLoader, DirectoryLoader                                                                                                                                                                                                                                                                                                                                                                                                                                      \n",
    "from langchain_community.embeddings.sentence_transformer import (\n",
    "    SentenceTransformerEmbeddings,\n",
    ")\n",
    "from langchain_community.vectorstores import Chroma\n",
    "from langchain.chains import RetrievalQA, RetrievalQAWithSourcesChain\n",
    "\n",
    "file_dir_path = Path('cyberpunk_2077_phantom_liberty')\n",
    "\n",
    "llm = Ollama(model=\"llama2:7b-chat-q4_K_M\")\n",
    "embedding_function = SentenceTransformerEmbeddings(model_name=\"all-MiniLM-L6-v2\")\n",
    "\n",
    "loader = DirectoryLoader(str(file_dir_path), glob=\"./*.txt\", loader_cls=TextLoader)\n",
    "documents = loader.load()                                                              \n",
    "\n",
    "# split it into chunks\n",
    "text_splitter = CharacterTextSplitter(chunk_size=1000, chunk_overlap=200)\n",
    "docs = text_splitter.split_documents(documents)\n",
    "\n",
    "# create the open-source embedding function\n",
    "embedding_function = SentenceTransformerEmbeddings(model_name=\"all-MiniLM-L6-v2\")\n",
    "\n",
    "# create the vector database\n",
    "vector_db = Chroma.from_documents(\n",
    "    documents=docs,\n",
    "    embedding=embedding_function,\n",
    ")\n",
    "\n",
    "retriever = vector_db.as_retriever()\n",
    "\n",
    "# make a chain\n",
    "\n",
    "# create the chain to answer questions\n",
    "# with RetrievalQA\n",
    "chain = RetrievalQA.from_chain_type(llm=llm, \n",
    "                                    chain_type=\"stuff\", \n",
    "                                    retriever=retriever, \n",
    "                                    return_source_documents=True)\n",
    "\n",
    "# with RetrievalQAWithSourcesChain\n",
    "chain02 = RetrievalQAWithSourcesChain.from_chain_type(llm=llm,\n",
    "                                                        chain_type=\"stuff\",\n",
    "                                                        retriever=retriever,\n",
    "                                                        return_source_documents=True)\n",
    "\n",
    "# full example\n",
    "prompt = 'What are the drawbacks of the game?'\n",
    "llm_response = chain(prompt)\n",
    "llm_response02 = chain02(prompt)\n",
    "\n",
    "# print the response\n",
    "print(llm_response)\n",
    "\n",
    "# cleanup\n",
    "# uncomment if finished testing\n",
    "vector_db.delete_collection()"
   ]
  },
  {
   "cell_type": "code",
   "execution_count": 2,
   "metadata": {},
   "outputs": [
    {
     "name": "stdout",
     "output_type": "stream",
     "text": [
      "[Document(page_content='Given Phantom Liberty\\'s superspy theme, I expected, nay, demanded a good high-society shindig infiltration level, and Cyberpunk 2077\\'s first and only expansion pack delivered. \\n\\nThe centerpiece of the soiree mission was a long, tense dialogue puzzle where I had to earn the trust of a pair of deliciously awful French twins while playing high stakes roulette. I had to engage, provoke, and eventually befriend the international con artists all while I watched my FIA (Cyberpunk future CIA)-provided funds dwindle away\\u2060. Shoulda bet on black. At the last minute I chose a particularly inflammatory and insulting dialogue option and my handler pre-emptively chewed me out over the radio, but the little freaks absolutely ate it up. Maybe I am cut out for this superspy stuff.\\n\\nPhantom Liberty is an extra-refined bite of Cyberpunk 2077—an expansion pack\\'s expansion pack. It doesn\\'t reinvent the game as a whole, but it\\'s a fantastic final outing for V and Night City, as well as one of the best individual stories CD Projekt Red has told to date. Meanwhile, Cyberpunk 2077\\'s 2.0 update, free to all players, has reforged the original looter shooter gear deluge and \"+5% poison resistance\"-style perks system, giving us a more solid RPG whose under-the-hood systems better compliment its shooting, slashing, and stealthing.\\n\\nAfter a legendarily fraught launch and three years of rebuilding, Cyberpunk 2077 is finally the RPG its world and characters deserved, and Phantom Liberty is a fine last hurrah for a game that\\'s taken CD Projekt so long to hone.\\n\\nIt took me a second to come around to Phantom Liberty\\'s set-up: rescue the president of the New United States after Space Force One (lol) gets shot down over Dogtown, a newly added district of Night City that looks like the Thunderdome by way of Blade Runner: 2049\\'s haunting, irradiated Las Vegas.\\n\\nCD Projekt is great at teeing up a story that seems like it\\'d be derivative or Spike TV-edgy, then absolutely curving you with unexpected depth and nuance, and that\\'s no different here. President Myers comes off as a down to earth, \"one of the guys\" former soldier, like Harrison Ford from Air Force One, but there\\'s a serpentlike ambition to her that comes out as the story goes on.\\n\\nIdris Elba is a real treat as Solomon Reed, a reluctant killer roused from deep cover to \"serve his country\" even though he hates Myers\\' guts and was burned by his own agency years ago. They\\'ve both got priors with Songbird, a brittle, emotionally compromised hacker with the strange ability to jack into your Keeanu Reeves-inhabited brain relic who also claims to have a cure for that bad boy brain rot. Reeves\\' Johnny Silverhand is back for the ride too, and while he seems to be a bit of an acquired taste (former PCG editor James Davenport dubbed him \"John Prick\"), he makes for a great asshole Greek chorus in Phantom Liberty.\\n\\nCD Projekt makes a case here for more cinematic, bounded RPG design.\\n\\nThe main players in Phantom Liberty all think they\\'re doing the right thing and that they don\\'t have any other options, all while expecting you to back them up, and that eventually shakes out into one of the toughest choices I\\'ve had to make in an RPG: you have to betray someone, and both ending paths feature their own triumphs and gut punches.\\n\\nThe path I chose was way more gut punches than triumphs, so I think I picked the \"bad\" ending. From chatting with my coworkers, though, the other option sounds at least bittersweet, and my RPG perfectionist drive to get the best ending possible is conflicting with just how good that bad ending was. The Darkest Timeline had me feeling like my stomach had a lead weight in it from the point of no return to credits rolling, and by the end, the bastards got away with everything. Forget it V, it\\'s Dogtown.\\n\\nPhantom Liberty\\'s main quests are a series of real dingers\\u2060—I was wondering how it would stack up post-Baldur\\'s Gate 3, but CD Projekt makes a case here for more cinematic, bounded RPG design. Set pieces like that roulette table or the tense lead-up to the point of no return just popped for me. CD Projekt really is in the same league as Naughty Dog or Sony Santa Monica when it comes to delivering draw-dropping moments, but sets itself apart with the RPG choice, consequence, and interactivity I crave.\\n\\nGig economy\\nI always enjoyed Cyberpunk\\'s smaller side quests or \"gigs,\" too. Many are simple but enjoyable \"go here and kill everyone as fits your playstyle\" deals, but some of them felt more like full-on side stories with voice acting, a twist, and maybe even a gameplay curveball.\\n\\nPhantom Liberty\\'s gig additions firmly fall into the latter camp, and I loved each one. A rescue operation for an underworld doctor gets complicated by his history of unsavory practices in one gig, while another sees you infiltrating the youth sports academy of the future, specializing in cybernetically enhanced 12-year-olds.\\n\\nMy favorite tasked me with helping out a pair of hapless chucklefuck detectives caught with their proverbial pants down in Dogtown and panicking for their lives. I felt like Harvey Keitel swooping in to save the day as the Wolf in Pulp Fiction, and the entire thing had this slapstick absurdity from beginning to end that I adored.\\n\\nDoggone it\\nIt makes sense that Dogtown\\'s physically siloed off from the rest of Night City, but I found myself wishing it was either better-integrated into the main game, or even more of a hostile, alien, alternate zone. The \"save the President\" plot actually resolves itself pretty quickly in favor of a deeper conspiracy, and you\\'re subsequently free to come and go between Dogtown and Pacifica as you please, but the DLC really doesn\\'t have you doing much in Night City proper aside from running quick errands like delivering procedurally spawned cars for its new, literal grand theft auto minigame.\\n\\nNight City just isn\\'t tactile or inviting the way a good immersive sim or even the Elder Scrolls games manage to be.\\n\\nCyberpunk\\'s base game has a stellar cast, and while this is a separate story, it feels weird to have the game\\'s effective send-off have such little interplay with characters like Judy, Rogue, Kerry, or even Takemura. The lack of involvement for the game\\'s four romanceable characters felt particularly odd to me. I had the chance to tell my base game beau that I was on a crazy new job for the Cyberpunk Intelligence Agency, but it basically felt like I was telling her \"I\\'m gonna be in the expansion pack for a while babe, don\\'t wait up.\"\\n\\nWhile Dogtown has a really cool, distinct look from the rest of Night City, it\\'s still rocking the same basic design, and I found that a little disappointing. With the promise of a denser, smaller sandbox to play around in, I was hoping CD Projekt might flex its muscles making something closer to a Deus Ex hub. \\n\\nNow that 2.0 has fixed Cyberpunk\\'s loot and progression woes, its biggest remaining issue to my eye is that there\\'s no real call to explore or poke around its world outside explicit mission objectives. Night City just isn\\'t tactile or inviting the way a good immersive sim or even the Elder Scrolls games manage to be\\u2060—no breaking into people\\'s apartments and reading their diaries, you can only snoop in gig/mission-sanctioned areas. I think Dogtown\\'s smaller, more manageable canvas could have been an opportunity to create something like that within Cyberpunk 2077. The visual feast of Night City has always clashed with how uninteractive its world is.\\n\\nStill, I\\'m extremely pleased with Phantom Liberty\\u2060—CD Projekt can hang with the big dogs when it comes to cinematic storytelling, with a quality of writing and world building that I prefer to the likes of Sony\\'s vaunted first party lineup. I\\'ve been eager to see what CD Projekt would do with a Cyberpunk 2077 expansion ever since first beating the game at the end of 2020, and Phantom Liberty is a splendid sendoff for the world CD Projekt\\'s been working on for the better part of the last 10 years.', metadata={'source': 'cyberpunk_2077_phantom_liberty/cyberpunk_2077_phantom_liberty_01.txt'}), Document(page_content='Cyberpunk 2077 has come a long way since its released back in 2020. Despite having received high scores from the critics, CD Projekt RED’s sci-fi franchise wasn’t the game players expected. Even after taking away the high expectation that many of the developer’s fans after the Cyberpunk 2077’s initial announcement, no one expected such a buggy mess, especially on consoles.\\n\\nPhantom Liberty is CD Projekt RED’s biggest expansion yet, and the only new content that Cyberpunk 2077 is going to receive. What makes Phantom Liberty even more impactful is the fact that it comes with update 2.0, which introduces a lot of new features and improvements, as well as a complete revamp of the skill tree and gear.\\n\\nAfter spending around 30 hours in Phantom Liberty, I can safely say that this is one of the best pieces of content released by CD Projekt RED. There’s a big difference in tone between the base game and the expansion, but the same goes for everything else: visuals, atmosphere, quest, writing, soundtrack, and design level.\\n\\nIf you played the base game and enjoyed it, Phantom Liberty is Cyberpunk 2077 on steroids. While players can jump directly into Phantom Liberty without having finished Cyberpunk 2077, I strongly recommend getting the ending of the base game first and doing some of the more important side quests before tackling the expansion.\\n\\nI have been surprised to meet some of the characters that appeared in the base game in the expansion, and while they don’t really offer any new quests, they do provide more insights on what happened to them after their quests are done.\\n\\nThere’s one word that can accurately describe the opening mission in Phantom Liberty: exhilarating. Everything happens extremely fast, and you have to react and adapt to new threats on the fly or die trying. That’s not to say that the rest of the expansion isn’t captivating, it’s just that Phantom Liberty is paced very differently than the base game.\\n\\nSmaller than an average district from the Night City, Dogtown is a subdistrict of Pacifica and it’s ruled by Colonel Kurt Hansen and his Barghest militia. This is a walled-off area that’s divided into four sections that look very different.\\n\\nPlayers can start Phantom Liberty as soon as they are contacted by Songbird So Mi, presumably the best netrunner in the world. She offers to help V with the relic but wants something in return. Basically, V must protect and prevent the President of NUSA from being trapped in Dogtown.\\n\\nThe expansion smartly blends combat and infiltration missions to offer players different gameplay experiences. The writing elevates every main story mission to top-notch level, but the side quests are far superior to those from the base game.\\n\\nJust like in Cyberpunk 2077, Dogtown has its own fixer who will provide V with various gigs that pay good money. Mr. Hands, marvelously played by Alex Jordan, is not just a fixer but a very important character throughout the entire expansion. He’s directly involved in Dogtown politics and depending on how good your relationship with him is, you’ll be able to call in some favors.\\n\\nObviously, the star of the expansion is Idris Elba who portrays a distinct and calculated spy, Solomon Reed. A sleeper agent driven by his principles, Reed is extremely loyal to the NUSA Federal Intelligence Agency and has an incredible sense of duty to his country.\\n\\nAt the opposite side sits So Mi, Reed’s protegee, who’s driven by the will to live, so everything else comes second. Even for a top tier spy and best netrunner in the world, Songbird’s actions seem rather erratic and unconvincing, but that’s a reason why that’s happening and by the end of the game I thought it was one of the best portrayed characters.\\n\\nWhen it comes to combat, Phantom Liberty is a joy to play. Apart from the completely revamped skill trees, the expansion brings a sixth skill tree related to the relic. It’s not as massive as the other five, but the abilities feel more powerful and even defining for specific builds.\\n\\nThanks to update 2.0, players can now combine various archetypes to create very powerful builds like sniper netrunner or hack ‘n’ slash slugger. Many times, it felt that I was playing another game, a much better one. Another interesting change is related to the armor, which is no longer tied to the clothing you find throughout the game.\\n\\nInstead, you have a set amount of armor that goes higher as you gain new levels or unlock new abilities that augment the armor value. It’s an interesting approach that works much better than how it was originally and lets the clothing items solely for fashion.\\n\\nAnother major addition to the game is the cyberware that augments V’s body. There are multiple versions of the same piece of cyberware, but each is viable for a certain build. V can have more than a dozen cybernetic implants, and each can be upgraded with parts. They are very useful and powerful, especially if you’re considering a netrunner career.\\n\\nThe Good\\nExcellent world building and level design\\nOutstanding voice-acting and art direction\\nGreat soundtrack\\nRevamped RPG elements leads to interesting combat builds\\nAmazing storytelling\\nThe Bad\\nStill has some minor bugs\\nConclusion\\nCyberpunk 2077: Phantom Liberty is not just the biggest expansion released by CD Projekt RED, but also one of the best pieces of content. The quality of the storytelling, art direction and level design in Phantom Liberty is incredible, even in comparison with the base game.\\nInstead of getting more of the same, CD Projekt RED created a spy thriller that’s taking place in a dystopian slum, offering both Cyberpunk fans and newcomers to the universe something to enjoy.\\n\\nFeaturing two extremely different endings, which I strongly recommend all players to unlock, Phantom Liberty augments the entire Cyberpunk 2077 gameplay experience and brings it to a whole new level.\\n\\nReview key provided by the developer.', metadata={'source': 'cyberpunk_2077_phantom_liberty/cyberpunk_2077_phantom_liberty_05.txt'}), Document(page_content=\"\\nCyberpunk 2077: Phantom Liberty Review\\n\\nNow, full disclosure - I’m one of those people who always thought that Cyberpunk 2077 was bloody good. But, I admit, I was also playing it on a mega-spec PC and suffered next to none of the problems that plagued players on the last-generation consoles. Let's not mince words: the way Cyberpunk launched on those machines was unacceptable; it shouldn’t have launched on those machines at all.\\n\\nYou don’t get a second chance at a first impression, of course - but I do believe in second chances more generally. CD Projekt has really tried to earn one of those over the two years since Cyberpunk 2077’s troubled launch, with a string of patches offering everything from bug fixes and balance tweaks to full-blown additions to the game.\\n\\nHaving left the last-generation versions behind back in version 1.6, the developers have now been free to harness the power of the newer machines in an attempt to deliver a more complete version of Cyberpunk. That all culminates this week and next - first with the release of Cyberpunk 2077’s ‘2.0’ release, a major patch that overhauls the very heart of the game, and then with Phantom Liberty, a full-fat, hefty-sized expansion packed with new content. The first of these releases is free for all and the second is not, but I’m here to report that all of it is pretty damn good.\\n\\nI think, in honesty, you’ll be best served if you take these two updates as one overall package. While Phantom Liberty can be booted alone, it’s rooted into the main story. Going straight to Phantom Liberty simply skips you through certain elements of Cyberpunk 2077 and drops you into Night City at the point that the expansion unlocks with some choices pre-made for you. Alternatively, you can simply boot an old save and pick up the quest that way - or best of all, embrace the concept of a fresh start for the game and boot an all-new save file. That’s what I ended up doing.\\n\\nDogtown is a sizable new zone, and feels like a significant addition to the texture of Night City.\\n\\nSo, what do you get? Well, Version 2.0 is a total overhaul. CD Projekt RED is no massive stranger to this - it ripped major systems out of The Witcher 3 and rebuilt them in the same way - but this is a much more transformative offering. At the heart of the shift is a retooled Perks and Skills system, with the entire RPG progression system of the game now more or less unrecognizable from what launched in 2020. \\n\\nThe paradigm between perks and Cyberware, the cybernetic body modification aspect of the universe, has shifted entirely. Clothes are now purely cosmetic, for instance, with armor governed by skin-strengthening implants installed at Ripperdocs. How much Cyberware you can install, meanwhile, is limited by your Perks and Level - and tops out far, far higher than in the original game, resulting in crazier builds with much more varied and specific skills.\\n\\nWith Phantom Liberty also installed, that mysterious extra empty slot on the skill tree finally fills in, offering the ‘Relic’ Skills - a separate area, with its own currency, that unlocks even more advanced and deliciously powerful options to your arsenal. This skill tree is truncated compared to the others, but it makes up for it by mostly being about interacting back with abilities from the other trees - enhancing them, and allowing you to become a real specialist in something like the Monowire. \\n\\nFor all these changes, Cyberpunk 2077 is a vastly better RPG as a result. I felt more ownership over my V than I ever have - and thanks to an ease of access to respec, I was free to experiment and find a play-style that bought me the most glee (in my case, an incredible hacker who fries brains from afar before dashing in to mop up the remnants with super-speed and a samurai sword). Even simple stuff, like taking clothing out of the stats equation, ups the role-playing value - my V now dresses for fashion sense rather than stats.\\n\\nSkill trees have been significantly reimagined, and there's even an all-new tree to explore.\\n\\nTo use all of these new abilities, you need a challenge, of course. The missions of regular Cyberpunk 2077 are largely untouched, though there are newly-patched wrinkles to deal with along the way. The threadbare police system that was widely mocked back in 2020 has been replaced with more what you’d expect - police now respond with more intensity the higher your wanted level, and engage in police chases and the like. Car combat is actually a broader addition to the game in general, too - you can now shoot-and-drive at the same time, or even mount some weapons to vehicles for Fury Road style shenanigans. \\n\\nOver in Phantom Liberty, however, new and old mechanics are given the chance to shine. Years on, CD Projekt RED now understands what it has in Cyberpunk 2077. It knows the game better than it did at launch. And so the expansion is that most glorious of things: a game confidently leaning into its strengths - and sometimes delighting in subverting expectations with that knowledge.\\n\\nWhat I’m saying is, the mission design of Phantom Liberty is pretty well sublime. It’s Cyberpunk 2077 at its best. The original game has loads of amazing moments - the heist, joining the Aldecados, that solo assault ending path, the funeral, the serial killer… but, these moments were the glorious exclamation marks that punctuated a good but also pretty standard and as-expected open-world experience. Phantom Liberty, however, is just the hits. All the time.\\n\\nThe main story of Phantom Liberty is excellent, full of teases, twists, and droplets of lore that make you reconsider even some of the Cyberpunk universe proper as well as Dogtown, the expansion’s setting - but even the side missions within Dogtown are something special. Every one is a designer seemingly looking back on the sprawling content of the main game and asking, ‘how can I make the best mission of that type in the game?’ Reader, lemme tell you, most of these missions deliver. In short, even the side missions slap.\\n\\nPart of what makes this work is Dogtown, the setting for much of the expansion’s action. This is a cut-off segment of Night City, lawless, a dog-eat-dog zone where the strongest survive. At the top of the pile in this city-within-a-city is Kurt Hansen, a jarhead type that rules with an iron fist. What was once a lavish and opulent new district is now a wasteland that makes the rest of Night City look clean-cut.\\n\\nThere's a lot to do in Dogtown, and much of the content makes up many of the best quests in the game.\\n\\nInitially, V has to sneak into Dogtown, loses the ability to communicate with Keanu Reeves’ Johnny Silverhand, and is on her own. For a little while, it seems like the expansion might be a stand-alone, self-enclosed story. But after some explosive on-rails action that sets up the stakes, you’re set loose. Johnny is returned to you, and you can enter and leave Dogtown as you please.\\n\\nThis helps to mesh the entire expansion into the rest of the story. There’s a range of new gigs, side quests, and other content available in Dogtown. Some side missions uncovered there even take you back to Night City. If a friend back in the city calls needing help, you can hit the road and get back to them, putting the expansion on pause with no loading screens, as Dogtown is part of the seamless open world. Or, alternatively, you can deliberately main-line the expansion story; the choice is yours. \\n\\nPhantom Liberty’s story offers a different sort of tale to the rest of Cyberpunk. I don’t really want to spoil it - but it’s a well-reasoned change of pace. The official description of it was a spy thriller is spot-on, which offers a natural contrast to the main game’s focus on corporate and gang warfare. Here, you’ll save the President of the New United States after her jet gets shot down like Jack Bauer, infiltrate and charm your way through parties like you’re James Bond, and broker fragile alliances like you’re Jason Bourne. V begins to feel like more than a merc with a death sentence, and the stakes of the story feel significant and personal all at once - which can be difficult to accomplish.\\n\\nNaturally, there’s some difficult choices along the way, including a ‘hard’ branch between two very different pathways and futures for V and Phantom Liberty’s cast. And yes, depending on certain factors of Phantom Liberty, you can unlock a new ending and a new fate for V and Johnny in the core game that… Well, let’s just say - it’s worth it.\\n\\nWhile there’s a differentiating factor in the story, the important thing is that this all still fits with what Cyberpunk 2077 is. The flourishing but broken society that’s cradled in the shattered ruins of Dogtown is as much a commentary on this world as the rest of Night City, and it has a completely different feel while feeling absolutely in keeping with the city the main game established. Familiar faces from your Night City adventures return, including plenty of gloriously deadpan new material from Keanu - but the stars of this show are the new faces for Phantom Liberty.\\n\\nIdris Elba is clearly having a ball as the surly Solomon Reed - but he's just one of several great new characters.\\n\\nFrom major characters like Idris Elba’s Solomon Reed to minor bit players, Phantom Liberty is full of intriguing and attractive characters that you’ll want to spend time with. It’s also full of generally excellent dialogue and performances, which are often at their best in particular when it’s leaning into the spy thriller nature of the narrative. There’s nothing quite like a truly tense conversation that feels like it could explode into violence at any moment, with each dialogue choice a risk that could ripple back through the rest of the story.\\n\\nAll of this is a lot to basically say: I think that Phantom Liberty might be one of the best expansions I have ever played. Certainly, it’s up there with The Witcher 3’s Blood and Wine, which was also one of the best. That makes it worthy of a top score in itself - but when paired with Cyberpunk’s incredible overhaul - it’s a comeback for the ages.\\n\\nCyberpunk 2077 was, like I said, always good. I’d go so far as to argue it was great, in fact - so long as you had the machine to make it work. There never should’ve been a PS4 or Xbox One version. That’s the truth. But in some ways, the humiliation of that botched launch might’ve been one of the best possible outcomes. It has clearly made CD Projekt RED rethink and refocus. It set a fire in the belly of its developers and made them spend the two years not just building an attractive add-on, but also bolstering the original game to be the best it can be.\\n\\nWith Cyberpunk 2077 version 2.0 and Phantom Liberty combined, the result is undeniable: this game is excellent. The original game is drastically improved, if not transformed, by the combination of the free 2.0 and paid Phantom Liberty additions. Meanwhile, Phantom Liberty itself is an all-time great expansion, taking all of the best elements of Cyberpunk 2077 and cranking them all up to eleven into an excellent stand-alone narrative in its own right. If Cyberpunk 2077 had released in this state, it might’ve been lauded as an instant classic, an all-time great - but the fact that this has arrived two years late shouldn’t detract too much from the strength of the experience. \\n\\n\", metadata={'source': 'cyberpunk_2077_phantom_liberty/cyberpunk_2077_phantom_liberty_03.txt'}), Document(page_content=\"Cyberpunk 2077: Phantom Liberty Review - The Songbird Sings\\n\\nPhantom Liberty embodies the best of Cyberpunk 2077 for a thrilling RPG-shooter with an evocative story, compelling side content, and unforgettable conclusions.\\n\\nThe appeal of Night City was in its impressive scope and dazzling visuals, which painted a bleak neon-lit future dictated by technological exploitation and unfettered capitalism. Within that were tragic, human stories to pull at your heartstrings and a whole lot of violent action often perpetuated by its gameplay systems. But what if you took the best parts of Cyberpunk 2077 and condensed them into a tight, cohesive package for a heart-wrenching political action thriller? That's what Phantom Liberty does in an expansion that seamlessly fits into the original game.\\n\\nPhantom Liberty showcases the full potential of Cyberpunk 2077 with a new, captivating story about the faults of loyalty, reckoning with your past and its consequences, and self-preservation in a tech-fueled dystopia. These are familiar themes, for sure, but Phantom Liberty is intimate, raw, and earnest--all told through the lens of a strong cast of characters elevated by poignant writing and delivered through sharp performances. It's able to execute on these narrative ambitions because, more often than not, the missions that drive the plot feature top-tier action set pieces that let the revamped RPG mechanics sing, then break the pace with a variety of tense and well-crafted non-combat scenarios, which gives the experience a constant and steady momentum.\\n\\nMore than anything, Phantom Liberty goes above and beyond with not one, but two finales that are wildly different yet equally stunning--hell, you could even argue it's three when counting the added ending for the original story. It's a fantastic mix of nearly everything you could ask of Cyberpunk. And after taking 30 hours to experience all of its content--both main story routes, the new ending, all the side missions and gigs, and more--I can't imagine Cyberpunk 2077 without Phantom Liberty.\\n\\nWhile you can jump straight into the new content or use a save far enough in the base game, those starting fresh will have to make it to what's roughly the halfway point, right when the original story gives you parallel main questlines. Phantom Liberty acts as another branch to main character V's search for a cure to their disease, and one that involves forces outside of Night City: federal agents who make up the new core characters, and Dogtown, a downtrodden militia-run district where most of the expansion takes place.\\n\\nIt's hard to ignore the starpower of famed actor Idris Elba, who lends his voice and likeness to key character Solomon Reed. He's stubborn and keeps everyone at arm's length, yet has a commanding presence in every scene he's in. But the emotional anchor is Song So Mi, aka Songbird, who's arguably the most talented netrunner in the world. Sharing the same goals as V, she provides a wonderful contrast and brings the depth required to tell a story like Phantom Liberty's. Reed and Songbird have a deep history working together as long-time FIA agents, and with V caught up in all of it, an intriguing tension constantly hangs over the political and personal drama.\\n\\nAnd there to cut the tension is Johnny Silverhand, who's still the charismatic asshole you know and love, portrayed by and modeled after Keanu Reeves once again. Surprisingly, he gets a lot more introspective, opening up in ways that add a new dimension to his character as he relates to the events of Phantom Liberty. He's always lingering in the background and often provides sobering perspectives on the most dire situations while staying true to who he is--there's a comforting familiarity when he pops up. When you don't know who to trust or what choice to make, you can rely on Johnny to be that dickhead friend you can't help but love because, with each of his smartass one-liners, you at least know he's brutally honest.\\n\\nVoice performances come alive with motion capture and animation, which benefits scenes where subtleties genuinely add a layer of nuance to these characters. Especially for a story entirely told in first-person, those high production values pay off. This confluence of writing, performance, and tech is how Reed, Songbird, Johnny, and other supporting characters are able to jump out from the screen as memorable in their most critical moments, and become unforgettable figures in Cyberpunk's world.\\n\\nThe new physical piece to that world is Dogtown, an independent district within Night City that's been overrun by a militia acting as the de facto government. Sprawling slums and abandoned buildings make up most of Dogtown, along with a few luxurious establishments and the lively black market within the football stadium. It's smaller in scale than the main Night City map, making it easier to familiarize yourself with the streets. But when looking across the district from the rooftops, it still gives the impression of an expansive open world. Although the harsh realities on the ground are sad to see, like a post-apocalyptic society barely scraping by, Dogtown has a distinct identity separate from Night City. Part of it is a lawless warzone, but there's another side that's genuinely human with people trying their best to eke out an existence in spite of it all.\\n\\nPhantom Liberty makes great use of Dogtown, smartly embedding much of its main story and side missions within its streets. The absolute banger of an opening mission is emblematic of this design philosophy. As Songbird leads you through the stadium's black market, you get an immediate sense of the town's vibe before all hell breaks loose. Whether you're wading through battling factions in tense firefights or making elaborate plays at stealth, you can quickly see how Dogtown was made to naturally support a variety of missions and combat sequences that feel curated and intentionally designed, and that synergy is a mark of a good open world.\\n\\nGigs and side missions also litter the streets, and Phantom Liberty prioritizes quality over quantity here as well. While they are side content, gigs play an important role in the flow of the main mission since your fixer, Mr. Hands, is a crucial contact for favors that advance the story. What's more is that each gig is an elaborately designed mission rather than an objective to check off a list. These are action-packed to give them a satisfying gameplay challenge, and they're always accompanied by a heavy decision in the end, which needs to often be made in the heat of the moment. With only incomplete information of the situation at hand, the moral conundrums become more interesting as choices are rarely ever black and white. These stories paint a vivid picture of what life is like in Dogtown, where the desperation to escape poverty clashes with the very system that people rely on; a system that exploits them, grinds them, and spits them out. The results of your decisions may not lead to major revelations, but every single gig and side mission is absolutely worth doing.\\n\\nPhantom Liberty also encompasses the 2.0 update for Cyberpunk, and the combat is now more exciting with explosive set pieces that bring out the best in the overhauled RPG systems. (You can read my full thoughts on the Cyberpunk 2077 2.0 update specifically, if you want all the details.) With the revamped perks and skill trees, building your character for specific playstyles can lead to dramatic effectiveness in combat. And the flexibility of the system, which expertly balances complexity and approachability, means you'll create hybrid approaches. Features like the Hack Queue make netrunner-style builds much more practical and intricate. Lightning-fast air dashes combined with blades make you a nimble, lethal target who can deflect bullets back at enemies. Stealth can also be worked into any build because the gameplay systems and level design both support it as a viable option. Cyberpunk isn't rigid, and in fact, it pushes you to create these hybrid builds to overcome Phantom Liberty's intense, challenging battles. The distinct abilities in the skill trees are so fun to mix and match, and like great RPGs do, allowing players to piece together their favorite gameplay mechanics feels natural.\\n\\nThe new cyberware system adds another layer to creating an effective build, letting you fine-tune your character with specific stat buffs, additional abilities, and quickhacks. Phantom Liberty introduces the Relic skill tree as well, and while it isn't particularly deep, it adds a wrinkle to the formula with new cyberware like the quickhack-infused Monowire melee weapon, or additional perks that give an upper hand for stealth or hitting enemy weak spots. Cyberpunk 2077's RPG identity is much stronger now than it was previously and Phantom Liberty's combat scenarios substantially benefit from this reinvented foundation. Together, it all results in a uniquely satisfying gameplay experience.\\n\\nThere was never a dull moment when it came to combat, but it's only one part of what Phantom Liberty does so well. The story draws inspiration from spy thrillers, which is easily seen in missions where you have to navigate conversations carefully under stressful situations. Infiltrating an extravagant rooftop party, then blending in as guest in order to make contact and get vital information, was a definite highlight--due in part to the lifelike atmosphere and intoxicating visual flourishes. When it came down to business, however, making sensible dialogue decisions under duress, and often doubting yourself if you made the right one, was integral to the experience.\\n\\nOverall, Phantom Liberty isn't so much concerned with giving you freedom to influence outcomes on a large scale until it makes those choices clear. But even when it's on a set track with clear paths, the game is great at contextualizing your decisions to mitigate feelings of pointlessness. There are some inconsistencies in dialogue options and a few cases where I'm conflicted not with the choices I made, but in how certain characters portray specific situations and the tone they're delivered in. But otherwise, the writing is watertight and I began to care about those minor decisions as I became fully invested in the story and playing the role of my V, even if just to provoke certain responses.\\n\\nThe conversations at Dogtown's park overlooking the unfinished skyscrapers give you time to soak it all in. Sticking around to eavesdrop on a conversation between key characters or make a dialogue choice opens small, but rewarding opportunities to see characters in a different light. So, as wild as the action may get, there's an ever-present groundedness to the journey, making seemingly inconsequential choices add up to form a believable, personalized understanding of Phantom Liberty.\\n\\nWith two mutually exclusive paths at a turning point in the story, the game takes some wild swings that pay off in spectacularly different ways. They'll hit you with unexpected twists that leave you questioning whether or not you did the right thing, wondering why you feel empowered yet powerless, and pondering the age-old question: What was it all for? This is one case where I implore anyone who plays this expansion to see both routes. This is because of the drastically different and superb gameplay sequences they offer, even subverting the genre expectations in one case, but more importantly, together they complete the full picture of Phantom Liberty's ambitious story.\\n\\nAnd on top of that, the new ending for the original story earned by fulfilling certain conditions in Phantom Liberty is a cherry on top, recontextualizing the Cyberpunk journey in powerful fashion. To talk about the emotions it teased out of me would be to give away too much--but I must say that CD Projekt Red has outdone itself with this one, delivering the type of ending that very few games are able to get right.\\n\\nPhantom Liberty is Cyberpunk 2077 at its best. CD Projekt Red has taken the lessons from the original release and focused on the parts that mattered most to deliver a thrilling and impactful experience that doesn't overstay its welcome. And although it fits into the original story, it leaves a lasting impact that rewrote my perception of Cyberpunk's world. From a gameplay perspective, Phantom Liberty takes full advantage of the fantastic overhaul of the RPG systems for combat, then elevates the intimate dialogue-driven elements that make it unforgettable--and does so in spectacular and inventive fashion in its conclusions. Beneath the violence and edginess, the actual cyberpunk world is always going to be about the toll on human life, and Phantom Liberty largely understands that. It's cruel, sobering, and bittersweet, and it'll stick with you well after V lays down their weapons.\\n\\nThe Good\\nThrilling main story with two stunning yet wildly different routes and conclusions\\nGreat performances make new and returning characters the heart of Cyberpunk\\nNew ending for the base game powerfully recontextualizes the original narrative\\nRebuilt RPG elements make combat scenarios truly satisfying regardless of playstyle\\nGigs offer fun combat encounters and compelling decisions to make\\nRemarkable detail and density give Dogtown a brutal, complex identity\\n\\nThe Bad\\nInconsistent tone with some dialogue options and related character arcs\", metadata={'source': 'cyberpunk_2077_phantom_liberty/cyberpunk_2077_phantom_liberty_02.txt'}), Document(page_content=\"Cyberpunk 2077: Phantom Liberty review: The city you’ve been waiting to burn\\nPhantom Liberty is the farewell firework that Cyberpunk 2077 has earned.\\n\\nAt a glance\\nExpert's Rating\\nPros\\nExcellently written story\\nWorld-class acting, not only by Idris Elba and Keanu Reeves\\nGraphically stunning – Cyberpunk 2077 is the new Crysis\\nSkill tree conversion trimmed for RPG\\nDogtown is Narcos’ Medellín by day, Blade Runner by night\\nStealth Bond, John Wick, or Mr. Robot – each game type feels unique\\nHas a lot more Keanu Reeves than we were expecting\\nCons\\nPerhaps a little too bloody and designed for splatter\\nDogtown is very twisty and not ideal for car battles, but all of Night City waits\\nOur Verdict\\nPhantom Liberty is CD Projekt RED’s masterpiece. Not only is Cyberpunk 2077 Phantom Liberty graphically easily three generations ahead of the entire industry and redefines how we experience video games with pathtracing, it’s also written even more thrillingly and staged even more explosively. Anyone who doesn’t enjoy this several times in different play styles has never loved video games. A clear must-play.\\n\\nThere aren’t many games as well written as Phantom Liberty\\nIt takes a lot of courage to write characters you don’t automatically like, who are complex and grey-shaded. (We’ll be talking a lot more about Songbird.) CD Projekt RED can put itself in a league with Naughty Dog here. Surely two of the best game studios in the world when it comes to delivering epic, visceral, highly emotional single player campaigns.\\n\\nThe choice of actors in Cyberpunk 2077 Phantom Liberty is absolutely fantastic. The new star in the ensemble, Idris Elba, plays the high-tech James Bond the way Daniel Craig does – the tough guy who walks over dead bodies for his government – and it changes him. “Take The Bloody Shot,” as M would say.\\n\\nWritten like a TV series: it’s a treat to see how atmospherically CD Projekt RED sets the scene for Idris Elba and his acting colleagues\\n\\n\\nIt’s a gritty spy story. And that’s the beauty of role-playing games: We are guided, but at key points we take the position of the head writer, deciding between loyalty and principles and moral and human considerations.\\n\\nThere is a lot of push-pull in the storytelling, which gives weight to your decisions and makes you want to start a second run-through right now. Narrative Director Igor Sarzyński and his team also find smart ideas to move characters along.\\n\\n\\nMyers was Militech’s boss bitch in Cyberpunk 2077, happy to let others walk all over her for her career. And now as President of the New United States, we spend a lot of time with her. She unveils a bit of her soul, tells us what it takes not to end up on a rubbish heap with a bullet in her head in the corporate world of Night City.\\n\\nBut she also always remains inscrutable. You always have in the back of your mind what kind of person she is and so you have this alert button in your head. That’s also so utterly iconic cyberpunk – a completely broken world, capitalism at its end stages and a struggle for survival from the gutter to the White House.\\n\\n\\nWe can play V as James Bond. Or check hackers as in Mr Robot. Or John Wick as a motorbike ninja slashing tyres with his katana.\\n\\nIn the end, this is exactly the tingling sensation in storytelling that only very few studios can create. Phantom Liberty often makes us think of House of Cards, where everyone is an asshole, but in a smart, scheming, hideously admirable way.\\n\\nA story is always particularly good when there aren’t just the good guys and the bad guys – any third-rate writer can write a basic action movie, but not many can write a TV series that captivates for over 10 hours.\\n\\nOr an action epic like Phantom Liberty, which, with all the side quests, easily clocks in at 30 hours of “press you into the gaming chair” drama. “Choose your truth V,” Songbird says, because there are often those in these worlds you’d like to believe – and the naked truth.\\n\\n\\nCDPR doesn’t draw one-dimensional characters, but many-faced ones with pasts, all the way through. And that plays gloriously into this gigantic update called Cyberpunk 2.0: the original was very numbers driven, but the 2023 version Cyberpunk 2077 puts role-playing back into RPG.\\n\\n\\n\\nIf you want to let the boss hacker hang out, you explode grenades on belts, weapons malfunction and use mechs against their own army.\\n\\n\\n\\nWe can skill V as a smart-weapon hacker, then she plays like James Bond or Charlize Theron in Atomic Blonde – that’s that ultimate Hollywood fantasy about super-agents being able to eliminate an entire army with headshots.\\n\\nBut we can also go full Kill Bill – quadruple-dash in mid-air, slicing through armored enemies and slashing cars at full speed on one of those insanely fast motorbikes. Quentin Tarantino likes to chat with other Hollywood directors about movies and games on his podcast. There’s no doubt he’ll be celebrating Phantom Liberty.\\n\\nWe bounce bullets with the katana like we’re Luke Skywalker. And go ultra-hacker Mr. Robot style. Because everyone wears cyberware here, you can pull a lot of shenanigans with it, like exploding grenades on enemy belts.\\n\\nThat’s the ultimate freedom that the skill trees give us and that makes Phantom Liberty so damn strong. You can play through this RPG epic three times and will get three completely different gameplay experiences, which is a huge strength of this game.\\n\\nDogtown is a dystopian, breathtakingly beautiful pathtracing playground\\n\\nPath tracing is a new way to experience games: digital worlds have rarely felt so real, like walking through Blade Runner 2049.\\n\\n\\nDogtown, the new area unlocked in Phantom Liberty, shoots upwards. It plays heavily in the vertical – it’s basically a cyber Las Vegas that was never finished because of the Corpo wars. The many scaffolds lend themselves to air-dashing a group of mercenaries in almost Assassin’s Creed style.\\n\\n\\nAnd it’s a very variant city within the city – there are glass palaces, luxury hotels, and casinos nearing completion. Glass is perfect for pathtracing, CD Projekt RED fires off a fireworks display of technology here.\\n\\nThe way orange smoke is reflected in façades at night and the way this studio builds atmosphere with the play of light and shadow, even Denis Villeneuve (Blade Runner 2049) would take a bow.\\n\\nThere is much to discover: a network of roads leads into tunnels that wind their way to military bunker fortresses. There is a kind of shantytown for the poor wretches and junkies, cobbled together from old shipping containers. But there is also a high-tech stadium, which is half destroyed and in whose catacombs there is a huge black market where you can buy everything that is forbidden in Night City. The weirdest cyberware, but cyberware that can also make us overheat.\\n\\n\\n\\nThat’s another huge strength of CDPR: there are tons of side characters, all of them somehow quirky and superbly written – like the Dude, who as a war veteran has had flamethrowers bolted to his arms for the ultimate cyber-flex.\\n\\nAnd then there’s lots of locations that are built primarily as playgrounds. The Black Sapphire Tower, the HQ of local warlord Kurt Hanson, is a high-security palace made of gold, where at the very top a rave club invites you to party for the city’s mafia bosses.\\n\\n\\nEnough traps and self-shooting devices await below to knock out an army, and we go in quiet and stealthy like Sam Fisher in his prime. Or we can go full headshot, John Wick style. Or hack combat robots that run amok. Crack cars and crash them in droves. Or we’ll ski to maximum power, swing the hammer and let half armies shred in blood splatter. Catapult ourselves at the enemy from above with the katana or pack an entire armury and let it all hang out – it feels like there’s a high-tech shooting thrash waiting at every corner that’s even wackier than the last one.\\n\\nThere’s always another city to burn. Phantom Liberty is the Cyberpunk 2077 you’ve been waiting for. Don’t hesitate to hop in.\", metadata={'source': 'cyberpunk_2077_phantom_liberty/cyberpunk_2077_phantom_liberty_04.txt'})]\n"
     ]
    }
   ],
   "source": [
    "print(documents)"
   ]
  },
  {
   "cell_type": "code",
   "execution_count": 3,
   "metadata": {},
   "outputs": [
    {
     "name": "stdout",
     "output_type": "stream",
     "text": [
      "combine_documents_chain=StuffDocumentsChain(llm_chain=LLMChain(prompt=PromptTemplate(input_variables=['context', 'question'], template=\"Use the following pieces of context to answer the question at the end. If you don't know the answer, just say that you don't know, don't try to make up an answer.\\n\\n{context}\\n\\nQuestion: {question}\\nHelpful Answer:\"), llm=Ollama(model='llama2:7b-chat-q4_K_M')), document_variable_name='context') return_source_documents=True retriever=VectorStoreRetriever(tags=['Chroma', 'HuggingFaceEmbeddings'], vectorstore=<langchain_community.vectorstores.chroma.Chroma object at 0x7fd26109efa0>)\n"
     ]
    }
   ],
   "source": [
    "print(chain)"
   ]
  },
  {
   "cell_type": "code",
   "execution_count": 4,
   "metadata": {},
   "outputs": [
    {
     "name": "stdout",
     "output_type": "stream",
     "text": [
      "{'question': 'What are the drawbacks of the game?', 'answer': 'The president did not mention Michael Jackson in any of the provided sources.', 'sources': '', 'source_documents': [Document(page_content=\"The new cyberware system adds another layer to creating an effective build, letting you fine-tune your character with specific stat buffs, additional abilities, and quickhacks. Phantom Liberty introduces the Relic skill tree as well, and while it isn't particularly deep, it adds a wrinkle to the formula with new cyberware like the quickhack-infused Monowire melee weapon, or additional perks that give an upper hand for stealth or hitting enemy weak spots. Cyberpunk 2077's RPG identity is much stronger now than it was previously and Phantom Liberty's combat scenarios substantially benefit from this reinvented foundation. Together, it all results in a uniquely satisfying gameplay experience.\", metadata={'source': 'cyberpunk_2077_phantom_liberty/cyberpunk_2077_phantom_liberty_02.txt'}), Document(page_content=\"For all these changes, Cyberpunk 2077 is a vastly better RPG as a result. I felt more ownership over my V than I ever have - and thanks to an ease of access to respec, I was free to experiment and find a play-style that bought me the most glee (in my case, an incredible hacker who fries brains from afar before dashing in to mop up the remnants with super-speed and a samurai sword). Even simple stuff, like taking clothing out of the stats equation, ups the role-playing value - my V now dresses for fashion sense rather than stats.\\n\\nSkill trees have been significantly reimagined, and there's even an all-new tree to explore.\", metadata={'source': 'cyberpunk_2077_phantom_liberty/cyberpunk_2077_phantom_liberty_03.txt'}), Document(page_content='All of this is a lot to basically say: I think that Phantom Liberty might be one of the best expansions I have ever played. Certainly, it’s up there with The Witcher 3’s Blood and Wine, which was also one of the best. That makes it worthy of a top score in itself - but when paired with Cyberpunk’s incredible overhaul - it’s a comeback for the ages.\\n\\nCyberpunk 2077 was, like I said, always good. I’d go so far as to argue it was great, in fact - so long as you had the machine to make it work. There never should’ve been a PS4 or Xbox One version. That’s the truth. But in some ways, the humiliation of that botched launch might’ve been one of the best possible outcomes. It has clearly made CD Projekt RED rethink and refocus. It set a fire in the belly of its developers and made them spend the two years not just building an attractive add-on, but also bolstering the original game to be the best it can be.', metadata={'source': 'cyberpunk_2077_phantom_liberty/cyberpunk_2077_phantom_liberty_03.txt'}), Document(page_content='But we can also go full Kill Bill – quadruple-dash in mid-air, slicing through armored enemies and slashing cars at full speed on one of those insanely fast motorbikes. Quentin Tarantino likes to chat with other Hollywood directors about movies and games on his podcast. There’s no doubt he’ll be celebrating Phantom Liberty.\\n\\nWe bounce bullets with the katana like we’re Luke Skywalker. And go ultra-hacker Mr. Robot style. Because everyone wears cyberware here, you can pull a lot of shenanigans with it, like exploding grenades on enemy belts.\\n\\nThat’s the ultimate freedom that the skill trees give us and that makes Phantom Liberty so damn strong. You can play through this RPG epic three times and will get three completely different gameplay experiences, which is a huge strength of this game.\\n\\nDogtown is a dystopian, breathtakingly beautiful pathtracing playground', metadata={'source': 'cyberpunk_2077_phantom_liberty/cyberpunk_2077_phantom_liberty_04.txt'})]}\n"
     ]
    }
   ],
   "source": [
    "print(llm_response02)"
   ]
  },
  {
   "cell_type": "code",
   "execution_count": 5,
   "metadata": {},
   "outputs": [
    {
     "name": "stdout",
     "output_type": "stream",
     "text": [
      "combine_documents_chain=StuffDocumentsChain(llm_chain=LLMChain(prompt=PromptTemplate(input_variables=['question', 'summaries'], template='Given the following extracted parts of a long document and a question, create a final answer with references (\"SOURCES\"). \\nIf you don\\'t know the answer, just say that you don\\'t know. Don\\'t try to make up an answer.\\nALWAYS return a \"SOURCES\" part in your answer.\\n\\nQUESTION: Which state/country\\'s law governs the interpretation of the contract?\\n=========\\nContent: This Agreement is governed by English law and the parties submit to the exclusive jurisdiction of the English courts in  relation to any dispute (contractual or non-contractual) concerning this Agreement save that either party may apply to any court for an  injunction or other relief to protect its Intellectual Property Rights.\\nSource: 28-pl\\nContent: No Waiver. Failure or delay in exercising any right or remedy under this Agreement shall not constitute a waiver of such (or any other)  right or remedy.\\n\\n11.7 Severability. The invalidity, illegality or unenforceability of any term (or part of a term) of this Agreement shall not affect the continuation  in force of the remainder of the term (if any) and this Agreement.\\n\\n11.8 No Agency. Except as expressly stated otherwise, nothing in this Agreement shall create an agency, partnership or joint venture of any  kind between the parties.\\n\\n11.9 No Third-Party Beneficiaries.\\nSource: 30-pl\\nContent: (b) if Google believes, in good faith, that the Distributor has violated or caused Google to violate any Anti-Bribery Laws (as  defined in Clause 8.5) or that such a violation is reasonably likely to occur,\\nSource: 4-pl\\n=========\\nFINAL ANSWER: This Agreement is governed by English law.\\nSOURCES: 28-pl\\n\\nQUESTION: What did the president say about Michael Jackson?\\n=========\\nContent: Madam Speaker, Madam Vice President, our First Lady and Second Gentleman. Members of Congress and the Cabinet. Justices of the Supreme Court. My fellow Americans.  \\n\\nLast year COVID-19 kept us apart. This year we are finally together again. \\n\\nTonight, we meet as Democrats Republicans and Independents. But most importantly as Americans. \\n\\nWith a duty to one another to the American people to the Constitution. \\n\\nAnd with an unwavering resolve that freedom will always triumph over tyranny. \\n\\nSix days ago, Russia’s Vladimir Putin sought to shake the foundations of the free world thinking he could make it bend to his menacing ways. But he badly miscalculated. \\n\\nHe thought he could roll into Ukraine and the world would roll over. Instead he met a wall of strength he never imagined. \\n\\nHe met the Ukrainian people. \\n\\nFrom President Zelenskyy to every Ukrainian, their fearlessness, their courage, their determination, inspires the world. \\n\\nGroups of citizens blocking tanks with their bodies. Everyone from students to retirees teachers turned soldiers defending their homeland.\\nSource: 0-pl\\nContent: And we won’t stop. \\n\\nWe have lost so much to COVID-19. Time with one another. And worst of all, so much loss of life. \\n\\nLet’s use this moment to reset. Let’s stop looking at COVID-19 as a partisan dividing line and see it for what it is: A God-awful disease.  \\n\\nLet’s stop seeing each other as enemies, and start seeing each other for who we really are: Fellow Americans.  \\n\\nWe can’t change how divided we’ve been. But we can change how we move forward—on COVID-19 and other issues we must face together. \\n\\nI recently visited the New York City Police Department days after the funerals of Officer Wilbert Mora and his partner, Officer Jason Rivera. \\n\\nThey were responding to a 9-1-1 call when a man shot and killed them with a stolen gun. \\n\\nOfficer Mora was 27 years old. \\n\\nOfficer Rivera was 22. \\n\\nBoth Dominican Americans who’d grown up on the same streets they later chose to patrol as police officers. \\n\\nI spoke with their families and told them that we are forever in debt for their sacrifice, and we will carry on their mission to restore the trust and safety every community deserves.\\nSource: 24-pl\\nContent: And a proud Ukrainian people, who have known 30 years  of independence, have repeatedly shown that they will not tolerate anyone who tries to take their country backwards.  \\n\\nTo all Americans, I will be honest with you, as I’ve always promised. A Russian dictator, invading a foreign country, has costs around the world. \\n\\nAnd I’m taking robust action to make sure the pain of our sanctions  is targeted at Russia’s economy. And I will use every tool at our disposal to protect American businesses and consumers. \\n\\nTonight, I can announce that the United States has worked with 30 other countries to release 60 Million barrels of oil from reserves around the world.  \\n\\nAmerica will lead that effort, releasing 30 Million barrels from our own Strategic Petroleum Reserve. And we stand ready to do more if necessary, unified with our allies.  \\n\\nThese steps will help blunt gas prices here at home. And I know the news about what’s happening can seem alarming. \\n\\nBut I want you to know that we are going to be okay.\\nSource: 5-pl\\nContent: More support for patients and families. \\n\\nTo get there, I call on Congress to fund ARPA-H, the Advanced Research Projects Agency for Health. \\n\\nIt’s based on DARPA—the Defense Department project that led to the Internet, GPS, and so much more.  \\n\\nARPA-H will have a singular purpose—to drive breakthroughs in cancer, Alzheimer’s, diabetes, and more. \\n\\nA unity agenda for the nation. \\n\\nWe can do this. \\n\\nMy fellow Americans—tonight , we have gathered in a sacred space—the citadel of our democracy. \\n\\nIn this Capitol, generation after generation, Americans have debated great questions amid great strife, and have done great things. \\n\\nWe have fought for freedom, expanded liberty, defeated totalitarianism and terror. \\n\\nAnd built the strongest, freest, and most prosperous nation the world has ever known. \\n\\nNow is the hour. \\n\\nOur moment of responsibility. \\n\\nOur test of resolve and conscience, of history itself. \\n\\nIt is in this moment that our character is formed. Our purpose is found. Our future is forged. \\n\\nWell I know this nation.\\nSource: 34-pl\\n=========\\nFINAL ANSWER: The president did not mention Michael Jackson.\\nSOURCES:\\n\\nQUESTION: {question}\\n=========\\n{summaries}\\n=========\\nFINAL ANSWER:'), llm=Ollama(model='llama2:7b-chat-q4_K_M')), document_prompt=PromptTemplate(input_variables=['page_content', 'source'], template='Content: {page_content}\\nSource: {source}'), document_variable_name='summaries') return_source_documents=True retriever=VectorStoreRetriever(tags=['Chroma', 'HuggingFaceEmbeddings'], vectorstore=<langchain_community.vectorstores.chroma.Chroma object at 0x7fd26109efa0>)\n"
     ]
    }
   ],
   "source": [
    "print(chain02)"
   ]
  },
  {
   "cell_type": "markdown",
   "metadata": {},
   "source": [
    "The prompt template is of RetrievalQAWithSourceChain is from [here](https://github.com/langchain-ai/langchain/blob/master/libs/langchain/langchain/chains/qa_with_sources/map_reduce_prompt.py#L52), which can be traced from the base class of StuffDocumentsChain: [Github](https://github.com/langchain-ai/langchain/blob/master/libs/langchain/langchain/chains/qa_with_sources/base.py#L49)\n",
    "\n",
    "However, one can observe that the few-shot prompting technique is not helpful to our prompt, and therefore, we are only using RetrievalQA.from_chain_type() in this article"
   ]
  },
  {
   "cell_type": "markdown",
   "metadata": {},
   "source": [
    "---"
   ]
  },
  {
   "cell_type": "markdown",
   "metadata": {},
   "source": [
    "## Different TextSplitter\n",
    "\n",
    "Different splitters: [LangChain](https://python.langchain.com/v0.1/docs/modules/data_connection/document_transformers/)\n",
    "\n",
    "Visualize splitters: [Chunkviz utility](https://chunkviz.up.railway.app/) created by Greg Kamradt"
   ]
  },
  {
   "cell_type": "code",
   "execution_count": 3,
   "metadata": {},
   "outputs": [],
   "source": [
    "from langchain.text_splitter import RecursiveCharacterTextSplitter, CharacterTextSplitter\n",
    "\n",
    "# load a single document and split it into chunks\n",
    "doc_path = Path(\"cyberpunk_2077_phantom_liberty/cyberpunk_2077_phantom_liberty_01.txt\")\n",
    "\n",
    "loader = TextLoader(str(doc_path))\n",
    "documents = loader.load()"
   ]
  },
  {
   "cell_type": "code",
   "execution_count": 4,
   "metadata": {},
   "outputs": [
    {
     "data": {
      "text/plain": [
       "[Document(page_content=\"Given Phantom Liberty's superspy theme, I expected, nay, demanded a good high-society shindig infiltration level, and Cyberpunk 2077's first and only expansion pack delivered. \\n\\nThe centerpiece of the soiree mission was a long, tense dialogue puzzle where I had to earn the trust of a pair of deliciously awful French twins while playing high stakes roulette. I had to engage, provoke, and eventually befriend the international con artists all while I watched my FIA (Cyberpunk future CIA)-provided funds dwindle away\\u2060. Shoulda bet on black. At the last minute I chose a particularly inflammatory and insulting dialogue option and my handler pre-emptively chewed me out over the radio, but the little freaks absolutely ate it up. Maybe I am cut out for this superspy stuff.\", metadata={'source': 'cyberpunk_2077_phantom_liberty/cyberpunk_2077_phantom_liberty_01.txt'}),\n",
       " Document(page_content='Phantom Liberty is an extra-refined bite of Cyberpunk 2077—an expansion pack\\'s expansion pack. It doesn\\'t reinvent the game as a whole, but it\\'s a fantastic final outing for V and Night City, as well as one of the best individual stories CD Projekt Red has told to date. Meanwhile, Cyberpunk 2077\\'s 2.0 update, free to all players, has reforged the original looter shooter gear deluge and \"+5% poison resistance\"-style perks system, giving us a more solid RPG whose under-the-hood systems better compliment its shooting, slashing, and stealthing.\\n\\nAfter a legendarily fraught launch and three years of rebuilding, Cyberpunk 2077 is finally the RPG its world and characters deserved, and Phantom Liberty is a fine last hurrah for a game that\\'s taken CD Projekt so long to hone.', metadata={'source': 'cyberpunk_2077_phantom_liberty/cyberpunk_2077_phantom_liberty_01.txt'}),\n",
       " Document(page_content='It took me a second to come around to Phantom Liberty\\'s set-up: rescue the president of the New United States after Space Force One (lol) gets shot down over Dogtown, a newly added district of Night City that looks like the Thunderdome by way of Blade Runner: 2049\\'s haunting, irradiated Las Vegas.\\n\\nCD Projekt is great at teeing up a story that seems like it\\'d be derivative or Spike TV-edgy, then absolutely curving you with unexpected depth and nuance, and that\\'s no different here. President Myers comes off as a down to earth, \"one of the guys\" former soldier, like Harrison Ford from Air Force One, but there\\'s a serpentlike ambition to her that comes out as the story goes on.', metadata={'source': 'cyberpunk_2077_phantom_liberty/cyberpunk_2077_phantom_liberty_01.txt'}),\n",
       " Document(page_content='Idris Elba is a real treat as Solomon Reed, a reluctant killer roused from deep cover to \"serve his country\" even though he hates Myers\\' guts and was burned by his own agency years ago. They\\'ve both got priors with Songbird, a brittle, emotionally compromised hacker with the strange ability to jack into your Keeanu Reeves-inhabited brain relic who also claims to have a cure for that bad boy brain rot. Reeves\\' Johnny Silverhand is back for the ride too, and while he seems to be a bit of an acquired taste (former PCG editor James Davenport dubbed him \"John Prick\"), he makes for a great asshole Greek chorus in Phantom Liberty.\\n\\nCD Projekt makes a case here for more cinematic, bounded RPG design.', metadata={'source': 'cyberpunk_2077_phantom_liberty/cyberpunk_2077_phantom_liberty_01.txt'}),\n",
       " Document(page_content='CD Projekt makes a case here for more cinematic, bounded RPG design.\\n\\nThe main players in Phantom Liberty all think they\\'re doing the right thing and that they don\\'t have any other options, all while expecting you to back them up, and that eventually shakes out into one of the toughest choices I\\'ve had to make in an RPG: you have to betray someone, and both ending paths feature their own triumphs and gut punches.\\n\\nThe path I chose was way more gut punches than triumphs, so I think I picked the \"bad\" ending. From chatting with my coworkers, though, the other option sounds at least bittersweet, and my RPG perfectionist drive to get the best ending possible is conflicting with just how good that bad ending was. The Darkest Timeline had me feeling like my stomach had a lead weight in it from the point of no return to credits rolling, and by the end, the bastards got away with everything. Forget it V, it\\'s Dogtown.', metadata={'source': 'cyberpunk_2077_phantom_liberty/cyberpunk_2077_phantom_liberty_01.txt'}),\n",
       " Document(page_content='Phantom Liberty\\'s main quests are a series of real dingers\\u2060—I was wondering how it would stack up post-Baldur\\'s Gate 3, but CD Projekt makes a case here for more cinematic, bounded RPG design. Set pieces like that roulette table or the tense lead-up to the point of no return just popped for me. CD Projekt really is in the same league as Naughty Dog or Sony Santa Monica when it comes to delivering draw-dropping moments, but sets itself apart with the RPG choice, consequence, and interactivity I crave.\\n\\nGig economy\\nI always enjoyed Cyberpunk\\'s smaller side quests or \"gigs,\" too. Many are simple but enjoyable \"go here and kill everyone as fits your playstyle\" deals, but some of them felt more like full-on side stories with voice acting, a twist, and maybe even a gameplay curveball.', metadata={'source': 'cyberpunk_2077_phantom_liberty/cyberpunk_2077_phantom_liberty_01.txt'}),\n",
       " Document(page_content=\"Phantom Liberty's gig additions firmly fall into the latter camp, and I loved each one. A rescue operation for an underworld doctor gets complicated by his history of unsavory practices in one gig, while another sees you infiltrating the youth sports academy of the future, specializing in cybernetically enhanced 12-year-olds.\\n\\nMy favorite tasked me with helping out a pair of hapless chucklefuck detectives caught with their proverbial pants down in Dogtown and panicking for their lives. I felt like Harvey Keitel swooping in to save the day as the Wolf in Pulp Fiction, and the entire thing had this slapstick absurdity from beginning to end that I adored.\", metadata={'source': 'cyberpunk_2077_phantom_liberty/cyberpunk_2077_phantom_liberty_01.txt'}),\n",
       " Document(page_content='Doggone it\\nIt makes sense that Dogtown\\'s physically siloed off from the rest of Night City, but I found myself wishing it was either better-integrated into the main game, or even more of a hostile, alien, alternate zone. The \"save the President\" plot actually resolves itself pretty quickly in favor of a deeper conspiracy, and you\\'re subsequently free to come and go between Dogtown and Pacifica as you please, but the DLC really doesn\\'t have you doing much in Night City proper aside from running quick errands like delivering procedurally spawned cars for its new, literal grand theft auto minigame.\\n\\nNight City just isn\\'t tactile or inviting the way a good immersive sim or even the Elder Scrolls games manage to be.', metadata={'source': 'cyberpunk_2077_phantom_liberty/cyberpunk_2077_phantom_liberty_01.txt'}),\n",
       " Document(page_content='Night City just isn\\'t tactile or inviting the way a good immersive sim or even the Elder Scrolls games manage to be.\\n\\nCyberpunk\\'s base game has a stellar cast, and while this is a separate story, it feels weird to have the game\\'s effective send-off have such little interplay with characters like Judy, Rogue, Kerry, or even Takemura. The lack of involvement for the game\\'s four romanceable characters felt particularly odd to me. I had the chance to tell my base game beau that I was on a crazy new job for the Cyberpunk Intelligence Agency, but it basically felt like I was telling her \"I\\'m gonna be in the expansion pack for a while babe, don\\'t wait up.\"\\n\\nWhile Dogtown has a really cool, distinct look from the rest of Night City, it\\'s still rocking the same basic design, and I found that a little disappointing. With the promise of a denser, smaller sandbox to play around in, I was hoping CD Projekt might flex its muscles making something closer to a Deus Ex hub.', metadata={'source': 'cyberpunk_2077_phantom_liberty/cyberpunk_2077_phantom_liberty_01.txt'}),\n",
       " Document(page_content=\"Now that 2.0 has fixed Cyberpunk's loot and progression woes, its biggest remaining issue to my eye is that there's no real call to explore or poke around its world outside explicit mission objectives. Night City just isn't tactile or inviting the way a good immersive sim or even the Elder Scrolls games manage to be\\u2060—no breaking into people's apartments and reading their diaries, you can only snoop in gig/mission-sanctioned areas. I think Dogtown's smaller, more manageable canvas could have been an opportunity to create something like that within Cyberpunk 2077. The visual feast of Night City has always clashed with how uninteractive its world is.\", metadata={'source': 'cyberpunk_2077_phantom_liberty/cyberpunk_2077_phantom_liberty_01.txt'}),\n",
       " Document(page_content=\"Still, I'm extremely pleased with Phantom Liberty\\u2060—CD Projekt can hang with the big dogs when it comes to cinematic storytelling, with a quality of writing and world building that I prefer to the likes of Sony's vaunted first party lineup. I've been eager to see what CD Projekt would do with a Cyberpunk 2077 expansion ever since first beating the game at the end of 2020, and Phantom Liberty is a splendid sendoff for the world CD Projekt's been working on for the better part of the last 10 years.\", metadata={'source': 'cyberpunk_2077_phantom_liberty/cyberpunk_2077_phantom_liberty_01.txt'})]"
      ]
     },
     "execution_count": 4,
     "metadata": {},
     "output_type": "execute_result"
    }
   ],
   "source": [
    "# character text splitter\n",
    "\n",
    "text_splitter = CharacterTextSplitter(chunk_size=1000, chunk_overlap=200)\n",
    "docs = text_splitter.split_documents(documents)\n",
    "docs"
   ]
  },
  {
   "cell_type": "code",
   "execution_count": 5,
   "metadata": {},
   "outputs": [
    {
     "data": {
      "text/plain": [
       "[Document(page_content=\"Given Phantom Liberty's superspy theme, I expected, nay, demanded a good high-society shindig infiltration level, and Cyberpunk 2077's first and only expansion pack delivered.\", metadata={'source': 'cyberpunk_2077_phantom_liberty/cyberpunk_2077_phantom_liberty_01.txt'}),\n",
       " Document(page_content='The centerpiece of the soiree mission was a long, tense dialogue puzzle where I had to earn the trust of a pair of deliciously awful French twins while playing high stakes roulette. I had to engage, provoke, and eventually befriend the international con artists all while I watched my FIA (Cyberpunk future CIA)-provided funds dwindle away\\u2060. Shoulda bet on black. At the last minute I chose a particularly inflammatory and insulting dialogue option and my handler pre-emptively chewed me out over the radio, but the little freaks absolutely ate it up. Maybe I am cut out for this superspy stuff.', metadata={'source': 'cyberpunk_2077_phantom_liberty/cyberpunk_2077_phantom_liberty_01.txt'}),\n",
       " Document(page_content='Phantom Liberty is an extra-refined bite of Cyberpunk 2077—an expansion pack\\'s expansion pack. It doesn\\'t reinvent the game as a whole, but it\\'s a fantastic final outing for V and Night City, as well as one of the best individual stories CD Projekt Red has told to date. Meanwhile, Cyberpunk 2077\\'s 2.0 update, free to all players, has reforged the original looter shooter gear deluge and \"+5% poison resistance\"-style perks system, giving us a more solid RPG whose under-the-hood systems better compliment its shooting, slashing, and stealthing.', metadata={'source': 'cyberpunk_2077_phantom_liberty/cyberpunk_2077_phantom_liberty_01.txt'}),\n",
       " Document(page_content=\"After a legendarily fraught launch and three years of rebuilding, Cyberpunk 2077 is finally the RPG its world and characters deserved, and Phantom Liberty is a fine last hurrah for a game that's taken CD Projekt so long to hone.\\n\\nIt took me a second to come around to Phantom Liberty's set-up: rescue the president of the New United States after Space Force One (lol) gets shot down over Dogtown, a newly added district of Night City that looks like the Thunderdome by way of Blade Runner: 2049's haunting, irradiated Las Vegas.\", metadata={'source': 'cyberpunk_2077_phantom_liberty/cyberpunk_2077_phantom_liberty_01.txt'}),\n",
       " Document(page_content='CD Projekt is great at teeing up a story that seems like it\\'d be derivative or Spike TV-edgy, then absolutely curving you with unexpected depth and nuance, and that\\'s no different here. President Myers comes off as a down to earth, \"one of the guys\" former soldier, like Harrison Ford from Air Force One, but there\\'s a serpentlike ambition to her that comes out as the story goes on.', metadata={'source': 'cyberpunk_2077_phantom_liberty/cyberpunk_2077_phantom_liberty_01.txt'}),\n",
       " Document(page_content='Idris Elba is a real treat as Solomon Reed, a reluctant killer roused from deep cover to \"serve his country\" even though he hates Myers\\' guts and was burned by his own agency years ago. They\\'ve both got priors with Songbird, a brittle, emotionally compromised hacker with the strange ability to jack into your Keeanu Reeves-inhabited brain relic who also claims to have a cure for that bad boy brain rot. Reeves\\' Johnny Silverhand is back for the ride too, and while he seems to be a bit of an acquired taste (former PCG editor James Davenport dubbed him \"John Prick\"), he makes for a great asshole', metadata={'source': 'cyberpunk_2077_phantom_liberty/cyberpunk_2077_phantom_liberty_01.txt'}),\n",
       " Document(page_content='taste (former PCG editor James Davenport dubbed him \"John Prick\"), he makes for a great asshole Greek chorus in Phantom Liberty.', metadata={'source': 'cyberpunk_2077_phantom_liberty/cyberpunk_2077_phantom_liberty_01.txt'}),\n",
       " Document(page_content=\"CD Projekt makes a case here for more cinematic, bounded RPG design.\\n\\nThe main players in Phantom Liberty all think they're doing the right thing and that they don't have any other options, all while expecting you to back them up, and that eventually shakes out into one of the toughest choices I've had to make in an RPG: you have to betray someone, and both ending paths feature their own triumphs and gut punches.\", metadata={'source': 'cyberpunk_2077_phantom_liberty/cyberpunk_2077_phantom_liberty_01.txt'}),\n",
       " Document(page_content='The path I chose was way more gut punches than triumphs, so I think I picked the \"bad\" ending. From chatting with my coworkers, though, the other option sounds at least bittersweet, and my RPG perfectionist drive to get the best ending possible is conflicting with just how good that bad ending was. The Darkest Timeline had me feeling like my stomach had a lead weight in it from the point of no return to credits rolling, and by the end, the bastards got away with everything. Forget it V, it\\'s Dogtown.', metadata={'source': 'cyberpunk_2077_phantom_liberty/cyberpunk_2077_phantom_liberty_01.txt'}),\n",
       " Document(page_content=\"Phantom Liberty's main quests are a series of real dingers\\u2060—I was wondering how it would stack up post-Baldur's Gate 3, but CD Projekt makes a case here for more cinematic, bounded RPG design. Set pieces like that roulette table or the tense lead-up to the point of no return just popped for me. CD Projekt really is in the same league as Naughty Dog or Sony Santa Monica when it comes to delivering draw-dropping moments, but sets itself apart with the RPG choice, consequence, and interactivity I crave.\", metadata={'source': 'cyberpunk_2077_phantom_liberty/cyberpunk_2077_phantom_liberty_01.txt'}),\n",
       " Document(page_content='Gig economy\\nI always enjoyed Cyberpunk\\'s smaller side quests or \"gigs,\" too. Many are simple but enjoyable \"go here and kill everyone as fits your playstyle\" deals, but some of them felt more like full-on side stories with voice acting, a twist, and maybe even a gameplay curveball.', metadata={'source': 'cyberpunk_2077_phantom_liberty/cyberpunk_2077_phantom_liberty_01.txt'}),\n",
       " Document(page_content=\"Phantom Liberty's gig additions firmly fall into the latter camp, and I loved each one. A rescue operation for an underworld doctor gets complicated by his history of unsavory practices in one gig, while another sees you infiltrating the youth sports academy of the future, specializing in cybernetically enhanced 12-year-olds.\", metadata={'source': 'cyberpunk_2077_phantom_liberty/cyberpunk_2077_phantom_liberty_01.txt'}),\n",
       " Document(page_content='My favorite tasked me with helping out a pair of hapless chucklefuck detectives caught with their proverbial pants down in Dogtown and panicking for their lives. I felt like Harvey Keitel swooping in to save the day as the Wolf in Pulp Fiction, and the entire thing had this slapstick absurdity from beginning to end that I adored.', metadata={'source': 'cyberpunk_2077_phantom_liberty/cyberpunk_2077_phantom_liberty_01.txt'}),\n",
       " Document(page_content='Doggone it', metadata={'source': 'cyberpunk_2077_phantom_liberty/cyberpunk_2077_phantom_liberty_01.txt'}),\n",
       " Document(page_content='It makes sense that Dogtown\\'s physically siloed off from the rest of Night City, but I found myself wishing it was either better-integrated into the main game, or even more of a hostile, alien, alternate zone. The \"save the President\" plot actually resolves itself pretty quickly in favor of a deeper conspiracy, and you\\'re subsequently free to come and go between Dogtown and Pacifica as you please, but the DLC really doesn\\'t have you doing much in Night City proper aside from running quick errands like delivering procedurally spawned cars for its new, literal grand theft auto minigame.', metadata={'source': 'cyberpunk_2077_phantom_liberty/cyberpunk_2077_phantom_liberty_01.txt'}),\n",
       " Document(page_content=\"Night City just isn't tactile or inviting the way a good immersive sim or even the Elder Scrolls games manage to be.\", metadata={'source': 'cyberpunk_2077_phantom_liberty/cyberpunk_2077_phantom_liberty_01.txt'}),\n",
       " Document(page_content='Cyberpunk\\'s base game has a stellar cast, and while this is a separate story, it feels weird to have the game\\'s effective send-off have such little interplay with characters like Judy, Rogue, Kerry, or even Takemura. The lack of involvement for the game\\'s four romanceable characters felt particularly odd to me. I had the chance to tell my base game beau that I was on a crazy new job for the Cyberpunk Intelligence Agency, but it basically felt like I was telling her \"I\\'m gonna be in the expansion pack for a while babe, don\\'t wait up.\"', metadata={'source': 'cyberpunk_2077_phantom_liberty/cyberpunk_2077_phantom_liberty_01.txt'}),\n",
       " Document(page_content=\"While Dogtown has a really cool, distinct look from the rest of Night City, it's still rocking the same basic design, and I found that a little disappointing. With the promise of a denser, smaller sandbox to play around in, I was hoping CD Projekt might flex its muscles making something closer to a Deus Ex hub.\", metadata={'source': 'cyberpunk_2077_phantom_liberty/cyberpunk_2077_phantom_liberty_01.txt'}),\n",
       " Document(page_content=\"Now that 2.0 has fixed Cyberpunk's loot and progression woes, its biggest remaining issue to my eye is that there's no real call to explore or poke around its world outside explicit mission objectives. Night City just isn't tactile or inviting the way a good immersive sim or even the Elder Scrolls games manage to be\\u2060—no breaking into people's apartments and reading their diaries, you can only snoop in gig/mission-sanctioned areas. I think Dogtown's smaller, more manageable canvas could have been an opportunity to create something like that within Cyberpunk 2077. The visual feast of Night City\", metadata={'source': 'cyberpunk_2077_phantom_liberty/cyberpunk_2077_phantom_liberty_01.txt'}),\n",
       " Document(page_content='an opportunity to create something like that within Cyberpunk 2077. The visual feast of Night City has always clashed with how uninteractive its world is.', metadata={'source': 'cyberpunk_2077_phantom_liberty/cyberpunk_2077_phantom_liberty_01.txt'}),\n",
       " Document(page_content=\"Still, I'm extremely pleased with Phantom Liberty\\u2060—CD Projekt can hang with the big dogs when it comes to cinematic storytelling, with a quality of writing and world building that I prefer to the likes of Sony's vaunted first party lineup. I've been eager to see what CD Projekt would do with a Cyberpunk 2077 expansion ever since first beating the game at the end of 2020, and Phantom Liberty is a splendid sendoff for the world CD Projekt's been working on for the better part of the last 10 years.\", metadata={'source': 'cyberpunk_2077_phantom_liberty/cyberpunk_2077_phantom_liberty_01.txt'})]"
      ]
     },
     "execution_count": 5,
     "metadata": {},
     "output_type": "execute_result"
    }
   ],
   "source": [
    "# recursive character text splitter\n",
    "\n",
    "text_splitter = RecursiveCharacterTextSplitter(\n",
    "    chunk_size=600, chunk_overlap=100\n",
    ")\n",
    "docs = text_splitter.split_documents(documents)\n",
    "docs"
   ]
  },
  {
   "cell_type": "code",
   "execution_count": 6,
   "metadata": {},
   "outputs": [
    {
     "data": {
      "text/plain": [
       "[Document(page_content=\"Given Phantom Liberty's superspy theme, I expected, nay, demanded a good high-society shindig infiltration level, and Cyberpunk 2077's first and only expansion pack delivered. \\n\\nThe centerpiece of the soiree mission was a long, tense dialogue puzzle where I had to earn the trust of a pair of deliciously awful French twins while playing high stakes roulette. I had to engage, provoke, and eventually befriend the international con artists all while I watched my FIA (Cyberpunk future CIA)-provided funds dwindle away\\u2060. Shoulda bet on black. At the last minute I chose a particularly inflammatory and insulting dialogue option and my handler pre-emptively chewed me out over the radio, but the little freaks absolutely ate it up. Maybe I am cut out for this superspy stuff.\", metadata={'source': 'cyberpunk_2077_phantom_liberty/cyberpunk_2077_phantom_liberty_01.txt'}),\n",
       " Document(page_content='Phantom Liberty is an extra-refined bite of Cyberpunk 2077—an expansion pack\\'s expansion pack. It doesn\\'t reinvent the game as a whole, but it\\'s a fantastic final outing for V and Night City, as well as one of the best individual stories CD Projekt Red has told to date. Meanwhile, Cyberpunk 2077\\'s 2.0 update, free to all players, has reforged the original looter shooter gear deluge and \"+5% poison resistance\"-style perks system, giving us a more solid RPG whose under-the-hood systems better compliment its shooting, slashing, and stealthing.\\n\\nAfter a legendarily fraught launch and three years of rebuilding, Cyberpunk 2077 is finally the RPG its world and characters deserved, and Phantom Liberty is a fine last hurrah for a game that\\'s taken CD Projekt so long to hone.', metadata={'source': 'cyberpunk_2077_phantom_liberty/cyberpunk_2077_phantom_liberty_01.txt'}),\n",
       " Document(page_content='It took me a second to come around to Phantom Liberty\\'s set-up: rescue the president of the New United States after Space Force One (lol) gets shot down over Dogtown, a newly added district of Night City that looks like the Thunderdome by way of Blade Runner: 2049\\'s haunting, irradiated Las Vegas.\\n\\nCD Projekt is great at teeing up a story that seems like it\\'d be derivative or Spike TV-edgy, then absolutely curving you with unexpected depth and nuance, and that\\'s no different here. President Myers comes off as a down to earth, \"one of the guys\" former soldier, like Harrison Ford from Air Force One, but there\\'s a serpentlike ambition to her that comes out as the story goes on.', metadata={'source': 'cyberpunk_2077_phantom_liberty/cyberpunk_2077_phantom_liberty_01.txt'}),\n",
       " Document(page_content='Idris Elba is a real treat as Solomon Reed, a reluctant killer roused from deep cover to \"serve his country\" even though he hates Myers\\' guts and was burned by his own agency years ago. They\\'ve both got priors with Songbird, a brittle, emotionally compromised hacker with the strange ability to jack into your Keeanu Reeves-inhabited brain relic who also claims to have a cure for that bad boy brain rot. Reeves\\' Johnny Silverhand is back for the ride too, and while he seems to be a bit of an acquired taste (former PCG editor James Davenport dubbed him \"John Prick\"), he makes for a great asshole Greek chorus in Phantom Liberty.\\n\\nCD Projekt makes a case here for more cinematic, bounded RPG design.\\n\\nThe main players in Phantom Liberty all think they\\'re doing the right thing and that they don\\'t have any other options, all while expecting you to back them up, and that eventually shakes out into one of the toughest choices I\\'ve had to make in an RPG: you have to betray someone, and both ending paths feature their own triumphs and gut punches.', metadata={'source': 'cyberpunk_2077_phantom_liberty/cyberpunk_2077_phantom_liberty_01.txt'}),\n",
       " Document(page_content='The path I chose was way more gut punches than triumphs, so I think I picked the \"bad\" ending. From chatting with my coworkers, though, the other option sounds at least bittersweet, and my RPG perfectionist drive to get the best ending possible is conflicting with just how good that bad ending was. The Darkest Timeline had me feeling like my stomach had a lead weight in it from the point of no return to credits rolling, and by the end, the bastards got away with everything. Forget it V, it\\'s Dogtown.\\n\\nPhantom Liberty\\'s main quests are a series of real dingers\\u2060—I was wondering how it would stack up post-Baldur\\'s Gate 3, but CD Projekt makes a case here for more cinematic, bounded RPG design. Set pieces like that roulette table or the tense lead-up to the point of no return just popped for me. CD Projekt really is in the same league as Naughty Dog or Sony Santa Monica when it comes to delivering draw-dropping moments, but sets itself apart with the RPG choice, consequence, and interactivity I crave.', metadata={'source': 'cyberpunk_2077_phantom_liberty/cyberpunk_2077_phantom_liberty_01.txt'}),\n",
       " Document(page_content='Gig economy\\nI always enjoyed Cyberpunk\\'s smaller side quests or \"gigs,\" too. Many are simple but enjoyable \"go here and kill everyone as fits your playstyle\" deals, but some of them felt more like full-on side stories with voice acting, a twist, and maybe even a gameplay curveball.\\n\\nPhantom Liberty\\'s gig additions firmly fall into the latter camp, and I loved each one. A rescue operation for an underworld doctor gets complicated by his history of unsavory practices in one gig, while another sees you infiltrating the youth sports academy of the future, specializing in cybernetically enhanced 12-year-olds.\\n\\nMy favorite tasked me with helping out a pair of hapless chucklefuck detectives caught with their proverbial pants down in Dogtown and panicking for their lives. I felt like Harvey Keitel swooping in to save the day as the Wolf in Pulp Fiction, and the entire thing had this slapstick absurdity from beginning to end that I adored.', metadata={'source': 'cyberpunk_2077_phantom_liberty/cyberpunk_2077_phantom_liberty_01.txt'}),\n",
       " Document(page_content='Doggone it\\nIt makes sense that Dogtown\\'s physically siloed off from the rest of Night City, but I found myself wishing it was either better-integrated into the main game, or even more of a hostile, alien, alternate zone. The \"save the President\" plot actually resolves itself pretty quickly in favor of a deeper conspiracy, and you\\'re subsequently free to come and go between Dogtown and Pacifica as you please, but the DLC really doesn\\'t have you doing much in Night City proper aside from running quick errands like delivering procedurally spawned cars for its new, literal grand theft auto minigame.\\n\\nNight City just isn\\'t tactile or inviting the way a good immersive sim or even the Elder Scrolls games manage to be.', metadata={'source': 'cyberpunk_2077_phantom_liberty/cyberpunk_2077_phantom_liberty_01.txt'}),\n",
       " Document(page_content='Night City just isn\\'t tactile or inviting the way a good immersive sim or even the Elder Scrolls games manage to be.\\n\\nCyberpunk\\'s base game has a stellar cast, and while this is a separate story, it feels weird to have the game\\'s effective send-off have such little interplay with characters like Judy, Rogue, Kerry, or even Takemura. The lack of involvement for the game\\'s four romanceable characters felt particularly odd to me. I had the chance to tell my base game beau that I was on a crazy new job for the Cyberpunk Intelligence Agency, but it basically felt like I was telling her \"I\\'m gonna be in the expansion pack for a while babe, don\\'t wait up.\"\\n\\nWhile Dogtown has a really cool, distinct look from the rest of Night City, it\\'s still rocking the same basic design, and I found that a little disappointing. With the promise of a denser, smaller sandbox to play around in, I was hoping CD Projekt might flex its muscles making something closer to a Deus Ex hub.', metadata={'source': 'cyberpunk_2077_phantom_liberty/cyberpunk_2077_phantom_liberty_01.txt'}),\n",
       " Document(page_content=\"Now that 2.0 has fixed Cyberpunk's loot and progression woes, its biggest remaining issue to my eye is that there's no real call to explore or poke around its world outside explicit mission objectives. Night City just isn't tactile or inviting the way a good immersive sim or even the Elder Scrolls games manage to be\\u2060—no breaking into people's apartments and reading their diaries, you can only snoop in gig/mission-sanctioned areas. I think Dogtown's smaller, more manageable canvas could have been an opportunity to create something like that within Cyberpunk 2077. The visual feast of Night City has always clashed with how uninteractive its world is.\", metadata={'source': 'cyberpunk_2077_phantom_liberty/cyberpunk_2077_phantom_liberty_01.txt'}),\n",
       " Document(page_content=\"Still, I'm extremely pleased with Phantom Liberty\\u2060—CD Projekt can hang with the big dogs when it comes to cinematic storytelling, with a quality of writing and world building that I prefer to the likes of Sony's vaunted first party lineup. I've been eager to see what CD Projekt would do with a Cyberpunk 2077 expansion ever since first beating the game at the end of 2020, and Phantom Liberty is a splendid sendoff for the world CD Projekt's been working on for the better part of the last 10 years.\", metadata={'source': 'cyberpunk_2077_phantom_liberty/cyberpunk_2077_phantom_liberty_01.txt'})]"
      ]
     },
     "execution_count": 6,
     "metadata": {},
     "output_type": "execute_result"
    }
   ],
   "source": [
    "# using token length instead of character length in RecursiveCharacterTextSplitter\n",
    "\n",
    "from transformers import AutoTokenizer\n",
    "\n",
    "tokenizer = AutoTokenizer.from_pretrained(\"sentence-transformers/all-MiniLM-L6-v2\")\n",
    "embedding_func = SentenceTransformerEmbeddings(model_name=\"all-MiniLM-L6-v2\")\n",
    "\n",
    "def custom_len_func(text:str) -> int:\n",
    "  return len(tokenizer.encode(text, add_special_tokens=False))\n",
    "\n",
    "# as mentioned in the Github Issue, different splitters have implemented .from_huggingface_tokenizer() and .from_tiktoken_encoder() methods\n",
    "text_spliter = RecursiveCharacterTextSplitter.from_huggingface_tokenizer(\n",
    "  tokenizer=tokenizer,\n",
    "  chunk_size=250,\n",
    "  chunk_overlap=40,\n",
    ")\n",
    "\n",
    "docs = text_spliter.split_documents(documents)\n",
    "docs"
   ]
  },
  {
   "cell_type": "markdown",
   "metadata": {},
   "source": [
    "---"
   ]
  },
  {
   "cell_type": "markdown",
   "metadata": {},
   "source": [
    "## Creating vector database with Chroma"
   ]
  },
  {
   "cell_type": "code",
   "execution_count": 7,
   "metadata": {},
   "outputs": [],
   "source": [
    "from langchain_community.embeddings.sentence_transformer import (\n",
    "    SentenceTransformerEmbeddings,\n",
    ")\n",
    "from langchain_community.vectorstores import Chroma\n",
    "\n",
    "# create the open-source embedding function\n",
    "embedding_function = SentenceTransformerEmbeddings(model_name=\"all-MiniLM-L6-v2\")\n",
    "\n",
    "# create the vector database\n",
    "vector_db = Chroma.from_documents(\n",
    "    documents=docs,\n",
    "    embedding=embedding_function,\n",
    ")"
   ]
  },
  {
   "cell_type": "markdown",
   "metadata": {},
   "source": [
    "---"
   ]
  },
  {
   "cell_type": "markdown",
   "metadata": {},
   "source": [
    "## Testing the retriever"
   ]
  },
  {
   "cell_type": "code",
   "execution_count": 9,
   "metadata": {},
   "outputs": [],
   "source": [
    "# adjust the number of returned chunks by passing a dictionary like with key = 'k' and value as an positive int\n",
    "retriever = vector_db.as_retriever(search_kwargs={\"k\": 5})\n",
    "\n",
    "rag_question = \"How is the gameplay?\"\n",
    "\n",
    "# or pass the number of returned chunks like below\n",
    "retrieved_docs = retriever.get_relevant_documents(query=rag_question, k=5)"
   ]
  },
  {
   "cell_type": "code",
   "execution_count": 10,
   "metadata": {},
   "outputs": [
    {
     "data": {
      "text/plain": [
       "[Document(page_content='Phantom Liberty is an extra-refined bite of Cyberpunk 2077—an expansion pack\\'s expansion pack. It doesn\\'t reinvent the game as a whole, but it\\'s a fantastic final outing for V and Night City, as well as one of the best individual stories CD Projekt Red has told to date. Meanwhile, Cyberpunk 2077\\'s 2.0 update, free to all players, has reforged the original looter shooter gear deluge and \"+5% poison resistance\"-style perks system, giving us a more solid RPG whose under-the-hood systems better compliment its shooting, slashing, and stealthing.\\n\\nAfter a legendarily fraught launch and three years of rebuilding, Cyberpunk 2077 is finally the RPG its world and characters deserved, and Phantom Liberty is a fine last hurrah for a game that\\'s taken CD Projekt so long to hone.', metadata={'source': 'cyberpunk_2077_phantom_liberty/cyberpunk_2077_phantom_liberty_01.txt'}),\n",
       " Document(page_content=\"Still, I'm extremely pleased with Phantom Liberty\\u2060—CD Projekt can hang with the big dogs when it comes to cinematic storytelling, with a quality of writing and world building that I prefer to the likes of Sony's vaunted first party lineup. I've been eager to see what CD Projekt would do with a Cyberpunk 2077 expansion ever since first beating the game at the end of 2020, and Phantom Liberty is a splendid sendoff for the world CD Projekt's been working on for the better part of the last 10 years.\", metadata={'source': 'cyberpunk_2077_phantom_liberty/cyberpunk_2077_phantom_liberty_01.txt'}),\n",
       " Document(page_content='The path I chose was way more gut punches than triumphs, so I think I picked the \"bad\" ending. From chatting with my coworkers, though, the other option sounds at least bittersweet, and my RPG perfectionist drive to get the best ending possible is conflicting with just how good that bad ending was. The Darkest Timeline had me feeling like my stomach had a lead weight in it from the point of no return to credits rolling, and by the end, the bastards got away with everything. Forget it V, it\\'s Dogtown.\\n\\nPhantom Liberty\\'s main quests are a series of real dingers\\u2060—I was wondering how it would stack up post-Baldur\\'s Gate 3, but CD Projekt makes a case here for more cinematic, bounded RPG design. Set pieces like that roulette table or the tense lead-up to the point of no return just popped for me. CD Projekt really is in the same league as Naughty Dog or Sony Santa Monica when it comes to delivering draw-dropping moments, but sets itself apart with the RPG choice, consequence, and interactivity I crave.', metadata={'source': 'cyberpunk_2077_phantom_liberty/cyberpunk_2077_phantom_liberty_01.txt'}),\n",
       " Document(page_content='Night City just isn\\'t tactile or inviting the way a good immersive sim or even the Elder Scrolls games manage to be.\\n\\nCyberpunk\\'s base game has a stellar cast, and while this is a separate story, it feels weird to have the game\\'s effective send-off have such little interplay with characters like Judy, Rogue, Kerry, or even Takemura. The lack of involvement for the game\\'s four romanceable characters felt particularly odd to me. I had the chance to tell my base game beau that I was on a crazy new job for the Cyberpunk Intelligence Agency, but it basically felt like I was telling her \"I\\'m gonna be in the expansion pack for a while babe, don\\'t wait up.\"\\n\\nWhile Dogtown has a really cool, distinct look from the rest of Night City, it\\'s still rocking the same basic design, and I found that a little disappointing. With the promise of a denser, smaller sandbox to play around in, I was hoping CD Projekt might flex its muscles making something closer to a Deus Ex hub.', metadata={'source': 'cyberpunk_2077_phantom_liberty/cyberpunk_2077_phantom_liberty_01.txt'}),\n",
       " Document(page_content='Gig economy\\nI always enjoyed Cyberpunk\\'s smaller side quests or \"gigs,\" too. Many are simple but enjoyable \"go here and kill everyone as fits your playstyle\" deals, but some of them felt more like full-on side stories with voice acting, a twist, and maybe even a gameplay curveball.\\n\\nPhantom Liberty\\'s gig additions firmly fall into the latter camp, and I loved each one. A rescue operation for an underworld doctor gets complicated by his history of unsavory practices in one gig, while another sees you infiltrating the youth sports academy of the future, specializing in cybernetically enhanced 12-year-olds.\\n\\nMy favorite tasked me with helping out a pair of hapless chucklefuck detectives caught with their proverbial pants down in Dogtown and panicking for their lives. I felt like Harvey Keitel swooping in to save the day as the Wolf in Pulp Fiction, and the entire thing had this slapstick absurdity from beginning to end that I adored.', metadata={'source': 'cyberpunk_2077_phantom_liberty/cyberpunk_2077_phantom_liberty_01.txt'})]"
      ]
     },
     "execution_count": 10,
     "metadata": {},
     "output_type": "execute_result"
    }
   ],
   "source": [
    "retrieved_docs"
   ]
  },
  {
   "cell_type": "markdown",
   "metadata": {},
   "source": [
    "---"
   ]
  },
  {
   "cell_type": "markdown",
   "metadata": {},
   "source": [
    "## Prompting\n",
    "\n",
    "Please go back to the first cell and read the printouts of `llm_response ` and `chainXX` variables."
   ]
  },
  {
   "cell_type": "markdown",
   "metadata": {},
   "source": [
    "---"
   ]
  },
  {
   "cell_type": "markdown",
   "metadata": {},
   "source": [
    "## Customizing the chain"
   ]
  },
  {
   "cell_type": "code",
   "execution_count": 18,
   "metadata": {},
   "outputs": [
    {
     "name": "stderr",
     "output_type": "stream",
     "text": [
      "Created a chunk of size 1087, which is longer than the specified 1000\n",
      "Created a chunk of size 1208, which is longer than the specified 1000\n"
     ]
    },
    {
     "name": "stdout",
     "output_type": "stream",
     "text": [
      "{'question': 'Extract the following aspects of the game from the reviews. Output a json with each of the aspects as key, and the extracted information as the value. The format of the json is {\"ASPECT\":\"INFORMATION\"}. The aspects are: [Gameplay, Graphics, Sound, Performance, Bug, Suggestion, Price, Overall]\\n', 'query': 'Extract the following aspects of the game from the reviews. Output a json with each of the aspects as key, and the extracted information as the value. The format of the json is {\"ASPECT\":\"INFORMATION\"}. The aspects are: [Gameplay, Graphics, Sound, Performance, Bug, Suggestion, Price, Overall]\\n', 'result': '{\\n\"Gameplay\": \"Excellently written story • World-class acting, not only by Idris Elba and Keanu Reeves • Graphically stunning – Cyberpunk 2077 is the new Crysis • Skill tree conversion trimmed for RPG • Dogtown is Narcos’ Medellín by day, Blade Runner by night • Stealth Bond, John Wick, or Mr. Robot – each game type feels unique • Has a lot more Keanu Reeves than we were expecting\",\\n\"Graphics\": \"Graphically stunning – Cyberpunk 2077 is the new Crysis\",\\n\"Sound\": \"Expertly written story\",\\n\"Performance\": \"Rebuilt RPG elements make combat scenarios truly satisfying regardless of playstyle • Remarkable detail and density give Dogtown a brutal, complex identity\",\\n\"Bug\": \"NA\",\\n\"Suggestion\": \"NA\",\\n\"Price\": \"NA\",\\n\"Overall\": \"Phantom Liberty is CD Projekt RED’s masterpiece. Not only is Cyberpunk 2077 Phantom Liberty graphically easily three generations ahead of the entire industry and redefines how we experience video games with pathtracing, it’s also written even more thrillingly and staged even more explosively. Anyone who doesn’t enjoy this several times in different play styles has never loved video games. A clear must-play.\"\\n}', 'source_documents': [Document(page_content='The Good\\nThrilling main story with two stunning yet wildly different routes and conclusions\\nGreat performances make new and returning characters the heart of Cyberpunk\\nNew ending for the base game powerfully recontextualizes the original narrative\\nRebuilt RPG elements make combat scenarios truly satisfying regardless of playstyle\\nGigs offer fun combat encounters and compelling decisions to make\\nRemarkable detail and density give Dogtown a brutal, complex identity\\n\\nThe Bad\\nInconsistent tone with some dialogue options and related character arcs', metadata={'source': 'cyberpunk_2077_phantom_liberty/cyberpunk_2077_phantom_liberty_02.txt'}), Document(page_content=\"Cyberpunk 2077: Phantom Liberty Review - The Songbird Sings\\n\\nPhantom Liberty embodies the best of Cyberpunk 2077 for a thrilling RPG-shooter with an evocative story, compelling side content, and unforgettable conclusions.\\n\\nThe appeal of Night City was in its impressive scope and dazzling visuals, which painted a bleak neon-lit future dictated by technological exploitation and unfettered capitalism. Within that were tragic, human stories to pull at your heartstrings and a whole lot of violent action often perpetuated by its gameplay systems. But what if you took the best parts of Cyberpunk 2077 and condensed them into a tight, cohesive package for a heart-wrenching political action thriller? That's what Phantom Liberty does in an expansion that seamlessly fits into the original game.\", metadata={'source': 'cyberpunk_2077_phantom_liberty/cyberpunk_2077_phantom_liberty_02.txt'}), Document(page_content='And on top of that, the new ending for the original story earned by fulfilling certain conditions in Phantom Liberty is a cherry on top, recontextualizing the Cyberpunk journey in powerful fashion. To talk about the emotions it teased out of me would be to give away too much--but I must say that CD Projekt Red has outdone itself with this one, delivering the type of ending that very few games are able to get right.', metadata={'source': 'cyberpunk_2077_phantom_liberty/cyberpunk_2077_phantom_liberty_02.txt'}), Document(page_content=\"At a glance\\nExpert's Rating\\nPros\\nExcellently written story\\nWorld-class acting, not only by Idris Elba and Keanu Reeves\\nGraphically stunning – Cyberpunk 2077 is the new Crysis\\nSkill tree conversion trimmed for RPG\\nDogtown is Narcos’ Medellín by day, Blade Runner by night\\nStealth Bond, John Wick, or Mr. Robot – each game type feels unique\\nHas a lot more Keanu Reeves than we were expecting\\nCons\\nPerhaps a little too bloody and designed for splatter\\nDogtown is very twisty and not ideal for car battles, but all of Night City waits\\nOur Verdict\\nPhantom Liberty is CD Projekt RED’s masterpiece. Not only is Cyberpunk 2077 Phantom Liberty graphically easily three generations ahead of the entire industry and redefines how we experience video games with pathtracing, it’s also written even more thrillingly and staged even more explosively. Anyone who doesn’t enjoy this several times in different play styles has never loved video games. A clear must-play.\", metadata={'source': 'cyberpunk_2077_phantom_liberty/cyberpunk_2077_phantom_liberty_04.txt'})]}\n"
     ]
    }
   ],
   "source": [
    "from pathlib import Path\n",
    "from langchain_community.llms import Ollama\n",
    "from langchain.vectorstores import Chroma\n",
    "from langchain.text_splitter import CharacterTextSplitter\n",
    "from langchain_community.document_loaders import TextLoader, DirectoryLoader                                                                                                                                                                                                                                                                                                                                                                                                                                      \n",
    "from langchain_community.embeddings.sentence_transformer import (\n",
    "    SentenceTransformerEmbeddings,\n",
    ")\n",
    "from langchain_community.vectorstores import Chroma\n",
    "from langchain.chains import RetrievalQA, RetrievalQAWithSourcesChain\n",
    "from langchain_core.prompts import PromptTemplate\n",
    "\n",
    "file_dir_path = Path('cyberpunk_2077_phantom_liberty')\n",
    "\n",
    "llm = Ollama(model=\"llama2:7b-chat-q4_K_M\")\n",
    "embedding_function = SentenceTransformerEmbeddings(model_name=\"all-MiniLM-L6-v2\")\n",
    "\n",
    "loader = DirectoryLoader(str(file_dir_path), glob=\"./*.txt\", loader_cls=TextLoader)\n",
    "documents = loader.load()                                                              \n",
    "\n",
    "# split it into chunks\n",
    "text_splitter = CharacterTextSplitter(chunk_size=1000, chunk_overlap=200)\n",
    "docs = text_splitter.split_documents(documents)\n",
    "\n",
    "# create the open-source embedding function\n",
    "embedding_function = SentenceTransformerEmbeddings(model_name=\"all-MiniLM-L6-v2\")\n",
    "\n",
    "# create the vector database\n",
    "vector_db = Chroma.from_documents(\n",
    "    documents=docs,\n",
    "    embedding=embedding_function,\n",
    ")\n",
    "\n",
    "retriever = vector_db.as_retriever()\n",
    "\n",
    "# make a chain\n",
    "\n",
    "# create the chain to answer questions\n",
    "# with RetrievalQA\n",
    "# chain = RetrievalQA.from_chain_type(llm=llm, \n",
    "#                                     chain_type=\"stuff\", \n",
    "#                                     retriever=retriever, \n",
    "#                                     return_source_documents=True)\n",
    "\n",
    "prompt_template = \\\n",
    "'''You are reading reviews of a game to understand the characteristics of the game. Use the following pieces of context to answer user's question. \n",
    "\n",
    "{context}\n",
    "\n",
    "Question: {question}\n",
    "\n",
    "If you don't know the answer, just output a json with all values in the json as 'NA'. Do NOT try to make up an answer.\n",
    "Only output the JSON. Do NOT output other text.'''\n",
    "\n",
    "my_question = \\\n",
    "'''Extract the following aspects of the game from the reviews. Output a json with each of the aspects as key, and the extracted information as the value. The format of the json is {\"ASPECT\":\"INFORMATION\"}. The aspects are: [Gameplay, Graphics, Sound, Performance, Bug, Suggestion, Price, Overall]\n",
    "'''\n",
    "\n",
    "chain = RetrievalQA.from_chain_type(llm=llm,\n",
    "                                    chain_type=\"stuff\",\n",
    "                                    retriever=retriever,\n",
    "                                    chain_type_kwargs={\n",
    "                                        \"prompt\": PromptTemplate(\n",
    "                                            template=prompt_template,\n",
    "                                            input_variables=[\"context\", \"question\"],\n",
    "                                            ),\n",
    "                                        },\n",
    "                                    return_source_documents=True\n",
    "                                    )\n",
    "\n",
    "# full example\n",
    "\n",
    "llm_response = chain.invoke({'question':my_question, 'query': my_question})\n",
    "# llm_response02 = chain02(prompt)\n",
    "\n",
    "# print the response\n",
    "print(llm_response)\n",
    "\n",
    "# cleanup\n",
    "vector_db.delete_collection()"
   ]
  },
  {
   "cell_type": "code",
   "execution_count": 19,
   "metadata": {},
   "outputs": [
    {
     "name": "stdout",
     "output_type": "stream",
     "text": [
      "{\n",
      "\"Gameplay\": \"Excellently written story • World-class acting, not only by Idris Elba and Keanu Reeves • Graphically stunning – Cyberpunk 2077 is the new Crysis • Skill tree conversion trimmed for RPG • Dogtown is Narcos’ Medellín by day, Blade Runner by night • Stealth Bond, John Wick, or Mr. Robot – each game type feels unique • Has a lot more Keanu Reeves than we were expecting\",\n",
      "\"Graphics\": \"Graphically stunning – Cyberpunk 2077 is the new Crysis\",\n",
      "\"Sound\": \"Expertly written story\",\n",
      "\"Performance\": \"Rebuilt RPG elements make combat scenarios truly satisfying regardless of playstyle • Remarkable detail and density give Dogtown a brutal, complex identity\",\n",
      "\"Bug\": \"NA\",\n",
      "\"Suggestion\": \"NA\",\n",
      "\"Price\": \"NA\",\n",
      "\"Overall\": \"Phantom Liberty is CD Projekt RED’s masterpiece. Not only is Cyberpunk 2077 Phantom Liberty graphically easily three generations ahead of the entire industry and redefines how we experience video games with pathtracing, it’s also written even more thrillingly and staged even more explosively. Anyone who doesn’t enjoy this several times in different play styles has never loved video games. A clear must-play.\"\n",
      "}\n"
     ]
    }
   ],
   "source": [
    "print(llm_response['result'])"
   ]
  },
  {
   "cell_type": "code",
   "execution_count": 20,
   "metadata": {},
   "outputs": [
    {
     "name": "stdout",
     "output_type": "stream",
     "text": [
      "[Document(page_content='The Good\\nThrilling main story with two stunning yet wildly different routes and conclusions\\nGreat performances make new and returning characters the heart of Cyberpunk\\nNew ending for the base game powerfully recontextualizes the original narrative\\nRebuilt RPG elements make combat scenarios truly satisfying regardless of playstyle\\nGigs offer fun combat encounters and compelling decisions to make\\nRemarkable detail and density give Dogtown a brutal, complex identity\\n\\nThe Bad\\nInconsistent tone with some dialogue options and related character arcs', metadata={'source': 'cyberpunk_2077_phantom_liberty/cyberpunk_2077_phantom_liberty_02.txt'}), Document(page_content=\"Cyberpunk 2077: Phantom Liberty Review - The Songbird Sings\\n\\nPhantom Liberty embodies the best of Cyberpunk 2077 for a thrilling RPG-shooter with an evocative story, compelling side content, and unforgettable conclusions.\\n\\nThe appeal of Night City was in its impressive scope and dazzling visuals, which painted a bleak neon-lit future dictated by technological exploitation and unfettered capitalism. Within that were tragic, human stories to pull at your heartstrings and a whole lot of violent action often perpetuated by its gameplay systems. But what if you took the best parts of Cyberpunk 2077 and condensed them into a tight, cohesive package for a heart-wrenching political action thriller? That's what Phantom Liberty does in an expansion that seamlessly fits into the original game.\", metadata={'source': 'cyberpunk_2077_phantom_liberty/cyberpunk_2077_phantom_liberty_02.txt'}), Document(page_content='And on top of that, the new ending for the original story earned by fulfilling certain conditions in Phantom Liberty is a cherry on top, recontextualizing the Cyberpunk journey in powerful fashion. To talk about the emotions it teased out of me would be to give away too much--but I must say that CD Projekt Red has outdone itself with this one, delivering the type of ending that very few games are able to get right.', metadata={'source': 'cyberpunk_2077_phantom_liberty/cyberpunk_2077_phantom_liberty_02.txt'}), Document(page_content=\"At a glance\\nExpert's Rating\\nPros\\nExcellently written story\\nWorld-class acting, not only by Idris Elba and Keanu Reeves\\nGraphically stunning – Cyberpunk 2077 is the new Crysis\\nSkill tree conversion trimmed for RPG\\nDogtown is Narcos’ Medellín by day, Blade Runner by night\\nStealth Bond, John Wick, or Mr. Robot – each game type feels unique\\nHas a lot more Keanu Reeves than we were expecting\\nCons\\nPerhaps a little too bloody and designed for splatter\\nDogtown is very twisty and not ideal for car battles, but all of Night City waits\\nOur Verdict\\nPhantom Liberty is CD Projekt RED’s masterpiece. Not only is Cyberpunk 2077 Phantom Liberty graphically easily three generations ahead of the entire industry and redefines how we experience video games with pathtracing, it’s also written even more thrillingly and staged even more explosively. Anyone who doesn’t enjoy this several times in different play styles has never loved video games. A clear must-play.\", metadata={'source': 'cyberpunk_2077_phantom_liberty/cyberpunk_2077_phantom_liberty_04.txt'})]\n"
     ]
    }
   ],
   "source": [
    "print(llm_response['source_documents'])"
   ]
  },
  {
   "cell_type": "code",
   "execution_count": 2,
   "metadata": {},
   "outputs": [],
   "source": [
    "from langchain_core.prompts import PromptTemplate\n",
    "from langchain.chains import RetrievalQAWithSourcesChain\n",
    "\n",
    "prompt_template = \\\n",
    "'''You are reading reviews of a game to understand the characteristics of the game. Use the following pieces of context to answer user's question. \n",
    "\n",
    "{summaries}\n",
    "\n",
    "Question: {question}\n",
    "\n",
    "If you don't know the answer, just output a json with all values in the json as 'NA'. Do NOT try to make up an answer.\n",
    "Only output the JSON. Do NOT output other text.'''\n",
    "\n",
    "my_question = \\\n",
    "'''Extract the following aspects of the game from the reviews. Output a json with each of the aspects as key, and the extracted information as the value. The format of the json is {\"ASPECT\":\"INFORMATION\"}. The aspects are: [Gameplay, Graphics, Sound, Performance, Bug, Suggestion, Price, Overall]\n",
    "'''\n",
    "\n",
    "chain02 = RetrievalQAWithSourcesChain.from_chain_type(\n",
    "    llm=llm,\n",
    "    chain_type=\"stuff\",\n",
    "    retriever=retriever,\n",
    "    chain_type_kwargs={\n",
    "        \"prompt\": PromptTemplate(\n",
    "            template=prompt_template,\n",
    "            input_variables=[\"summaries\", \"question\"],        # keep using both input variables.\n",
    "        )\n",
    "    },\n",
    "    return_source_documents=True)\n",
    "\n",
    "llm_response02 = chain02.invoke({'question':my_question, 'summaries':my_question})"
   ]
  },
  {
   "cell_type": "code",
   "execution_count": 3,
   "metadata": {},
   "outputs": [
    {
     "name": "stdout",
     "output_type": "stream",
     "text": [
      "{'question': 'Extract the following aspects of the game from the reviews. Output a json with each of the aspects as key, and the extracted information as the value. The format of the json is {\"ASPECT\":\"INFORMATION\"}. The aspects are: [Gameplay, Graphics, Sound, Performance, Bug, Suggestion, Price, Overall]\\n', 'summaries': 'Extract the following aspects of the game from the reviews. Output a json with each of the aspects as key, and the extracted information as the value. The format of the json is {\"ASPECT\":\"INFORMATION\"}. The aspects are: [Gameplay, Graphics, Sound, Performance, Bug, Suggestion, Price, Overall]\\n', 'answer': '{\\n\"Gameplay\": \"Expertly written story with two stunning yet wildly different routes and conclusions, great performances make new and returning characters the heart of Cyberpunk, skill tree conversion trimmed for RPG, stealth Bond, John Wick, or Mr. Robot – each game type feels unique\",\\n\"Graphics\": \"Graphically stunning – Cyberpunk 2077 is the new Crysis\",\\n\"Sound\": \"World-class acting, not only by Idris Elba and Keanu Reeves\",\\n\"Performance\": \"Rebuilt RPG elements make combat scenarios truly satisfying regardless of playstyle\",\\n\"Bug\": \"NA\",\\n\"Suggestion\": \"Phantom Liberty embodies the best of Cyberpunk 2077 for a thrilling RPG-shooter with an evocative story, compelling side content, and unforgettable conclusions.\",\\n\"Price\": \"NA\",\\n\"Overall\": \"CD Projekt Red’s masterpiece. Not only is Cyberpunk 2077 Phantom Liberty graphically easily three generations ahead of the entire industry and redefines how we experience video games with pathtracing, it’s also written even more thrillingly and staged even more explosively. Anyone who doesn’t enjoy this several times in different play styles has never loved video games. A clear must-play.\"\\n}', 'sources': '', 'source_documents': [Document(page_content='The Good\\nThrilling main story with two stunning yet wildly different routes and conclusions\\nGreat performances make new and returning characters the heart of Cyberpunk\\nNew ending for the base game powerfully recontextualizes the original narrative\\nRebuilt RPG elements make combat scenarios truly satisfying regardless of playstyle\\nGigs offer fun combat encounters and compelling decisions to make\\nRemarkable detail and density give Dogtown a brutal, complex identity\\n\\nThe Bad\\nInconsistent tone with some dialogue options and related character arcs', metadata={'source': 'cyberpunk_2077_phantom_liberty/cyberpunk_2077_phantom_liberty_02.txt'}), Document(page_content=\"Cyberpunk 2077: Phantom Liberty Review - The Songbird Sings\\n\\nPhantom Liberty embodies the best of Cyberpunk 2077 for a thrilling RPG-shooter with an evocative story, compelling side content, and unforgettable conclusions.\\n\\nThe appeal of Night City was in its impressive scope and dazzling visuals, which painted a bleak neon-lit future dictated by technological exploitation and unfettered capitalism. Within that were tragic, human stories to pull at your heartstrings and a whole lot of violent action often perpetuated by its gameplay systems. But what if you took the best parts of Cyberpunk 2077 and condensed them into a tight, cohesive package for a heart-wrenching political action thriller? That's what Phantom Liberty does in an expansion that seamlessly fits into the original game.\", metadata={'source': 'cyberpunk_2077_phantom_liberty/cyberpunk_2077_phantom_liberty_02.txt'}), Document(page_content='And on top of that, the new ending for the original story earned by fulfilling certain conditions in Phantom Liberty is a cherry on top, recontextualizing the Cyberpunk journey in powerful fashion. To talk about the emotions it teased out of me would be to give away too much--but I must say that CD Projekt Red has outdone itself with this one, delivering the type of ending that very few games are able to get right.', metadata={'source': 'cyberpunk_2077_phantom_liberty/cyberpunk_2077_phantom_liberty_02.txt'}), Document(page_content=\"At a glance\\nExpert's Rating\\nPros\\nExcellently written story\\nWorld-class acting, not only by Idris Elba and Keanu Reeves\\nGraphically stunning – Cyberpunk 2077 is the new Crysis\\nSkill tree conversion trimmed for RPG\\nDogtown is Narcos’ Medellín by day, Blade Runner by night\\nStealth Bond, John Wick, or Mr. Robot – each game type feels unique\\nHas a lot more Keanu Reeves than we were expecting\\nCons\\nPerhaps a little too bloody and designed for splatter\\nDogtown is very twisty and not ideal for car battles, but all of Night City waits\\nOur Verdict\\nPhantom Liberty is CD Projekt RED’s masterpiece. Not only is Cyberpunk 2077 Phantom Liberty graphically easily three generations ahead of the entire industry and redefines how we experience video games with pathtracing, it’s also written even more thrillingly and staged even more explosively. Anyone who doesn’t enjoy this several times in different play styles has never loved video games. A clear must-play.\", metadata={'source': 'cyberpunk_2077_phantom_liberty/cyberpunk_2077_phantom_liberty_04.txt'})]}\n"
     ]
    }
   ],
   "source": [
    "print(llm_response02)"
   ]
  },
  {
   "cell_type": "code",
   "execution_count": 4,
   "metadata": {},
   "outputs": [
    {
     "name": "stdout",
     "output_type": "stream",
     "text": [
      "{\n",
      "\"Gameplay\": \"Expertly written story with two stunning yet wildly different routes and conclusions, great performances make new and returning characters the heart of Cyberpunk, skill tree conversion trimmed for RPG, stealth Bond, John Wick, or Mr. Robot – each game type feels unique\",\n",
      "\"Graphics\": \"Graphically stunning – Cyberpunk 2077 is the new Crysis\",\n",
      "\"Sound\": \"World-class acting, not only by Idris Elba and Keanu Reeves\",\n",
      "\"Performance\": \"Rebuilt RPG elements make combat scenarios truly satisfying regardless of playstyle\",\n",
      "\"Bug\": \"NA\",\n",
      "\"Suggestion\": \"Phantom Liberty embodies the best of Cyberpunk 2077 for a thrilling RPG-shooter with an evocative story, compelling side content, and unforgettable conclusions.\",\n",
      "\"Price\": \"NA\",\n",
      "\"Overall\": \"CD Projekt Red’s masterpiece. Not only is Cyberpunk 2077 Phantom Liberty graphically easily three generations ahead of the entire industry and redefines how we experience video games with pathtracing, it’s also written even more thrillingly and staged even more explosively. Anyone who doesn’t enjoy this several times in different play styles has never loved video games. A clear must-play.\"\n",
      "}\n"
     ]
    }
   ],
   "source": [
    "print(llm_response02['answer'])"
   ]
  },
  {
   "cell_type": "markdown",
   "metadata": {},
   "source": [
    "---"
   ]
  },
  {
   "cell_type": "markdown",
   "metadata": {},
   "source": [
    "Without using `RetrievalQA.from_chain_type` or `RetrievalQAWithSourcesChain.from_chain_type`"
   ]
  },
  {
   "cell_type": "code",
   "execution_count": 41,
   "metadata": {},
   "outputs": [
    {
     "name": "stderr",
     "output_type": "stream",
     "text": [
      "Created a chunk of size 1087, which is longer than the specified 1000\n",
      "Created a chunk of size 1208, which is longer than the specified 1000\n"
     ]
    },
    {
     "name": "stdout",
     "output_type": "stream",
     "text": [
      "Here is the extracted information for each aspect of the game:\n",
      "\n",
      "{\n",
      "\"Gameplay\": {\n",
      "\"Thrilling main story with two stunning yet wildly different routes and conclusions\": \"True\",\n",
      "\"Great performances make new and returning characters the heart of Cyberpunk\": \"True\",\n",
      "\"Rebuilt RPG elements make combat scenarios truly satisfying regardless of playstyle\": \"True\",\n",
      "\"Gigs offer fun combat encounters and compelling decisions to make\": \"True\",\n",
      "\"Remarkable detail and density give Dogtown a brutal, complex identity\": \"True\"\n",
      "},\n",
      "\"Graphics\": {\n",
      "\"Inconsistent tone with some dialogue options and related character arcs\": \"NA\",\n",
      "\"Exceptional visuals that push the boundaries of what's possible on current-gen consoles\": \"NA\"\n",
      "},\n",
      "\"Sound\": {\n",
      "\"Outstanding soundtrack that perfectly complements the game's atmosphere and themes\": \"True\",\n",
      "\"Impressive voice acting that brings the characters to life\": \"True\"\n",
      "},\n",
      "\"Performance\": {\n",
      "\"Solid performance with minimal lag or stuttering\": \"True\",\n",
      "\"Occasional framerate drops or technical issues\": \"NA\"\n",
      "},\n",
      "\"Bug\": {\n",
      "\"Minimal bug count with no game-breaking glitches\": \"True\",\n",
      "\"Occasional minor bugs or issues\": \"NA\"\n",
      "},\n",
      "\"Suggestion\": {\n",
      "\"Additional story content or side quests would be appreciated\": \"True\",\n",
      "\"Improve the consistency of the tone and dialogue options\": \"NA\"\n",
      "},\n",
      "\"Price\": {\n",
      "\"Reasonably priced compared to other AAA games\": \"True\",\n",
      "\"Worth every penny for its immersive gameplay and rich storytelling\": \"NA\"\n",
      "},\n",
      "\"Overall\": {\n",
      "\"A must-play experience with a unique blend of gameplay and RPG elements\": \"True\",\n",
      "\"An excellent addition to the gaming industry with its cinematic storytelling and engaging characters\": \"NA\"\n",
      "}\n",
      "}\n"
     ]
    }
   ],
   "source": [
    "from pathlib import Path\n",
    "from langchain_community.llms import Ollama\n",
    "from langchain.vectorstores import Chroma\n",
    "from langchain.text_splitter import CharacterTextSplitter\n",
    "from langchain_community.document_loaders import TextLoader, DirectoryLoader                                                                                                                                                                                                                                                                                                                                                                                                                                      \n",
    "from langchain_community.embeddings.sentence_transformer import (\n",
    "    SentenceTransformerEmbeddings,\n",
    ")\n",
    "from langchain_community.vectorstores import Chroma\n",
    "from langchain.chains import RetrievalQA, RetrievalQAWithSourcesChain\n",
    "from langchain_core.prompts import PromptTemplate\n",
    "\n",
    "file_dir_path = Path('cyberpunk_2077_phantom_liberty')\n",
    "\n",
    "llm = Ollama(model=\"llama2:7b-chat-q4_K_M\")\n",
    "embedding_function = SentenceTransformerEmbeddings(model_name=\"all-MiniLM-L6-v2\")\n",
    "\n",
    "loader = DirectoryLoader(str(file_dir_path), glob=\"./*.txt\", loader_cls=TextLoader)\n",
    "documents = loader.load()                                                              \n",
    "\n",
    "# split it into chunks\n",
    "text_splitter = CharacterTextSplitter(chunk_size=1000, chunk_overlap=200)\n",
    "docs = text_splitter.split_documents(documents)\n",
    "\n",
    "# create the open-source embedding function\n",
    "embedding_function = SentenceTransformerEmbeddings(model_name=\"all-MiniLM-L6-v2\")\n",
    "\n",
    "# create the vector database\n",
    "vector_db = Chroma.from_documents(\n",
    "    documents=docs,\n",
    "    embedding=embedding_function,\n",
    ")\n",
    "\n",
    "retriever = vector_db.as_retriever(search_kwargs={\"k\": 5})\n",
    "\n",
    "aspects = ['Gameplay', 'Graphics', 'Sound', 'Performance', 'Bug', 'Suggestion', 'Price', 'Overall']\n",
    "prompt_template = \\\n",
    "'''You are reading reviews of a game to understand the characteristics of the game. Use the following pieces of context to answer user's question. \n",
    "\n",
    "\\'\\'\\'\n",
    "{context}\n",
    "\\'\\'\\'\n",
    "\n",
    "Question: {question}\n",
    "\n",
    "If you don't know the answer, just output a json with all values in the json as 'NA'. Do NOT try to make up an answer.\n",
    "Only output the JSON. Do NOT output other text.'''\n",
    "\n",
    "my_question = \\\n",
    "'''Extract the following aspects of the game from the reviews. Output a json with each of the aspects as key, and the extracted information as the value. The format of the json is {\"ASPECT\":\"INFORMATION\"}. The aspects are: ''' + str(aspects)\n",
    "\n",
    "\n",
    "query_string = \"What are the aspects: \" + str(aspects) + \" of the game?\"\n",
    "docs = retriever.get_relevant_documents(query=query_string)\n",
    "\n",
    "prompt_t = PromptTemplate(\n",
    "    template=prompt_template,\n",
    "    input_variables=[\"context\", \"question\"],\n",
    ")\n",
    "chain = prompt_t | llm\n",
    "\n",
    "\n",
    "# full example\n",
    "llm_response = chain.invoke({'question':my_question, 'context': '\\n'.join([doc.page_content for doc in docs])})\n",
    "\n",
    "# print the response\n",
    "print(llm_response)\n",
    "\n",
    "# cleanup\n",
    "vector_db.delete_collection()"
   ]
  },
  {
   "cell_type": "code",
   "execution_count": 42,
   "metadata": {},
   "outputs": [
    {
     "data": {
      "text/plain": [
       "[Document(page_content='The Good\\nThrilling main story with two stunning yet wildly different routes and conclusions\\nGreat performances make new and returning characters the heart of Cyberpunk\\nNew ending for the base game powerfully recontextualizes the original narrative\\nRebuilt RPG elements make combat scenarios truly satisfying regardless of playstyle\\nGigs offer fun combat encounters and compelling decisions to make\\nRemarkable detail and density give Dogtown a brutal, complex identity\\n\\nThe Bad\\nInconsistent tone with some dialogue options and related character arcs', metadata={'source': 'cyberpunk_2077_phantom_liberty/cyberpunk_2077_phantom_liberty_02.txt'}),\n",
       " Document(page_content=\"For all these changes, Cyberpunk 2077 is a vastly better RPG as a result. I felt more ownership over my V than I ever have - and thanks to an ease of access to respec, I was free to experiment and find a play-style that bought me the most glee (in my case, an incredible hacker who fries brains from afar before dashing in to mop up the remnants with super-speed and a samurai sword). Even simple stuff, like taking clothing out of the stats equation, ups the role-playing value - my V now dresses for fashion sense rather than stats.\\n\\nSkill trees have been significantly reimagined, and there's even an all-new tree to explore.\", metadata={'source': 'cyberpunk_2077_phantom_liberty/cyberpunk_2077_phantom_liberty_03.txt'}),\n",
       " Document(page_content=\"The new cyberware system adds another layer to creating an effective build, letting you fine-tune your character with specific stat buffs, additional abilities, and quickhacks. Phantom Liberty introduces the Relic skill tree as well, and while it isn't particularly deep, it adds a wrinkle to the formula with new cyberware like the quickhack-infused Monowire melee weapon, or additional perks that give an upper hand for stealth or hitting enemy weak spots. Cyberpunk 2077's RPG identity is much stronger now than it was previously and Phantom Liberty's combat scenarios substantially benefit from this reinvented foundation. Together, it all results in a uniquely satisfying gameplay experience.\", metadata={'source': 'cyberpunk_2077_phantom_liberty/cyberpunk_2077_phantom_liberty_02.txt'}),\n",
       " Document(page_content=\"Phantom Liberty showcases the full potential of Cyberpunk 2077 with a new, captivating story about the faults of loyalty, reckoning with your past and its consequences, and self-preservation in a tech-fueled dystopia. These are familiar themes, for sure, but Phantom Liberty is intimate, raw, and earnest--all told through the lens of a strong cast of characters elevated by poignant writing and delivered through sharp performances. It's able to execute on these narrative ambitions because, more often than not, the missions that drive the plot feature top-tier action set pieces that let the revamped RPG mechanics sing, then break the pace with a variety of tense and well-crafted non-combat scenarios, which gives the experience a constant and steady momentum.\", metadata={'source': 'cyberpunk_2077_phantom_liberty/cyberpunk_2077_phantom_liberty_02.txt'}),\n",
       " Document(page_content='Phantom Liberty\\'s main quests are a series of real dingers\\u2060—I was wondering how it would stack up post-Baldur\\'s Gate 3, but CD Projekt makes a case here for more cinematic, bounded RPG design. Set pieces like that roulette table or the tense lead-up to the point of no return just popped for me. CD Projekt really is in the same league as Naughty Dog or Sony Santa Monica when it comes to delivering draw-dropping moments, but sets itself apart with the RPG choice, consequence, and interactivity I crave.\\n\\nGig economy\\nI always enjoyed Cyberpunk\\'s smaller side quests or \"gigs,\" too. Many are simple but enjoyable \"go here and kill everyone as fits your playstyle\" deals, but some of them felt more like full-on side stories with voice acting, a twist, and maybe even a gameplay curveball.', metadata={'source': 'cyberpunk_2077_phantom_liberty/cyberpunk_2077_phantom_liberty_01.txt'})]"
      ]
     },
     "execution_count": 42,
     "metadata": {},
     "output_type": "execute_result"
    }
   ],
   "source": [
    "docs"
   ]
  },
  {
   "cell_type": "code",
   "execution_count": 43,
   "metadata": {},
   "outputs": [
    {
     "data": {
      "text/plain": [
       "\"What are the aspects: ['Gameplay', 'Graphics', 'Sound', 'Performance', 'Bug', 'Suggestion', 'Price', 'Overall'] of the game?\""
      ]
     },
     "execution_count": 43,
     "metadata": {},
     "output_type": "execute_result"
    }
   ],
   "source": [
    "query_string"
   ]
  }
 ],
 "metadata": {
  "kernelspec": {
   "display_name": "fyp-test-wsl-tm",
   "language": "python",
   "name": "python3"
  },
  "language_info": {
   "codemirror_mode": {
    "name": "ipython",
    "version": 3
   },
   "file_extension": ".py",
   "mimetype": "text/x-python",
   "name": "python",
   "nbconvert_exporter": "python",
   "pygments_lexer": "ipython3",
   "version": "3.9.18"
  }
 },
 "nbformat": 4,
 "nbformat_minor": 2
}
